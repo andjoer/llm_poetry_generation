{
 "cells": [
  {
   "cell_type": "markdown",
   "metadata": {
    "colab_type": "text",
    "id": "view-in-github"
   },
   "source": [
    "<a href=\"https://colab.research.google.com/github/andjoer/llm_poetry_generation/blob/main/colabs/GPT2_sampling.ipynb\" target=\"_parent\"><img src=\"https://colab.research.google.com/assets/colab-badge.svg\" alt=\"Open In Colab\"/></a>"
   ]
  },
  {
   "cell_type": "markdown",
   "metadata": {
    "id": "obQf1xWvJ6GR"
   },
   "source": [
    "# Texterzeugung mit GPT2\n",
    "Unter verwendung der Huggingface Bibliothek"
   ]
  },
  {
   "cell_type": "code",
   "execution_count": null,
   "metadata": {
    "id": "bfHVqOBeVbG3"
   },
   "outputs": [],
   "source": [
    "!pip install transformers"
   ]
  },
  {
   "cell_type": "code",
   "execution_count": 2,
   "metadata": {
    "colab": {
     "base_uri": "https://localhost:8080/",
     "height": 105,
     "referenced_widgets": [
      "fea6174ed53044b5ab54433d67e6167f",
      "b028ebdf3916459db6d567c9f5a41e49",
      "cd589e8f84c44dddb5674479a254c59f",
      "16426aaea5c2467d898b936b67fa4d22",
      "6c000b9dab3f457296c8df4412f3098d",
      "8a19953bfdfc42db8a6e7c1937939beb",
      "05d521c2e5ea4853869c43b05c128ddb",
      "9c4e0c7608d84b05bfb80252170b546d",
      "43add0846a6a49c78143354b2e54f17c",
      "8aa72a3fdb2e4885a3881e073300bab1",
      "91405f27f07e4d8fb7ddc43dc8ae8793"
     ]
    },
    "id": "NCnGLCUkVLTo",
    "outputId": "b7abb5a5-b24d-4cd1-c4b0-f95670881722"
   },
   "outputs": [
    {
     "name": "stderr",
     "output_type": "stream",
     "text": [
      "The cache for model files in Transformers v4.22.0 has been updated. Migrating your old cache. This is a one-time only operation. You can interrupt this and resume the migration later on by calling `transformers.utils.move_cache()`.\n"
     ]
    },
    {
     "name": "stdout",
     "output_type": "stream",
     "text": [
      "Moving 0 files to the new cache system\n"
     ]
    },
    {
     "data": {
      "application/vnd.jupyter.widget-view+json": {
       "model_id": "fea6174ed53044b5ab54433d67e6167f",
       "version_major": 2,
       "version_minor": 0
      },
      "text/plain": [
       "0it [00:00, ?it/s]"
      ]
     },
     "metadata": {},
     "output_type": "display_data"
    }
   ],
   "source": [
    "from transformers import GPT2LMHeadModel, GPT2Tokenizer, pipeline\n",
    "from sklearn.metrics.pairwise import cosine_similarity\n",
    "import os\n",
    "import pandas as pd\n",
    "import numpy as np\n",
    "\n",
    "import torch"
   ]
  },
  {
   "cell_type": "code",
   "execution_count": null,
   "metadata": {
    "id": "K65Y0ZlhVm-V"
   },
   "outputs": [],
   "source": [
    "tokenizer = GPT2Tokenizer.from_pretrained('Anjoe/german-poetry-gpt2')"
   ]
  },
  {
   "cell_type": "markdown",
   "metadata": {
    "id": "bAGMQ4BvKBIf"
   },
   "source": [
    "Der Tokenizer wandelt Worte oder Teile von Worten in Zahlen um. Dabei ist die Zuordnung fix in einem Wörterbuch gespeichert. Diese Zuordnungstabelle hat für das hier verwendete Modell 50265 Einträge"
   ]
  },
  {
   "cell_type": "code",
   "execution_count": 16,
   "metadata": {
    "colab": {
     "base_uri": "https://localhost:8080/"
    },
    "id": "_fIjkLIMJq4g",
    "outputId": "62b22495-9838-4b8f-8b5f-b655bb04c028"
   },
   "outputs": [
    {
     "data": {
      "text/plain": [
       "50265"
      ]
     },
     "execution_count": 16,
     "metadata": {},
     "output_type": "execute_result"
    }
   ],
   "source": [
    "len(tokenizer)"
   ]
  },
  {
   "cell_type": "markdown",
   "metadata": {
    "id": "wNItizIQKcQo"
   },
   "source": [
    "Das Wort Haus ist so häufig, dass es eine eigene Nummer bekommt"
   ]
  },
  {
   "cell_type": "code",
   "execution_count": 4,
   "metadata": {
    "colab": {
     "base_uri": "https://localhost:8080/"
    },
    "id": "tk7sev30VqD3",
    "outputId": "9f496403-db94-4d4a-e1b8-b0574884834d"
   },
   "outputs": [
    {
     "data": {
      "text/plain": [
       "[6699]"
      ]
     },
     "execution_count": 4,
     "metadata": {},
     "output_type": "execute_result"
    }
   ],
   "source": [
    "tokenizer.encode('Haus')"
   ]
  },
  {
   "cell_type": "markdown",
   "metadata": {
    "id": "B1O75XKjKhGA"
   },
   "source": [
    "Ein Leerzeichen wird zum nachfolgenden Wort hinzugerechnet, sodass \" Haus\" eine andere Nummer bekommt wie \"Haus\""
   ]
  },
  {
   "cell_type": "code",
   "execution_count": 5,
   "metadata": {
    "colab": {
     "base_uri": "https://localhost:8080/"
    },
    "id": "rlIuCqPUVtFq",
    "outputId": "bef6e6b9-c057-4858-f17c-3c30cd54e961"
   },
   "outputs": [
    {
     "data": {
      "text/plain": [
       "[1046]"
      ]
     },
     "execution_count": 5,
     "metadata": {},
     "output_type": "execute_result"
    }
   ],
   "source": [
    "tokenizer.encode(' Haus')"
   ]
  },
  {
   "cell_type": "markdown",
   "metadata": {
    "id": "xrnb21ygKot3"
   },
   "source": [
    "Das Wort \"Brühe\" besteht aus zwei Token. Indem man diese Token decodiert kann man erkennen, wie das Wort zerlegt wurde"
   ]
  },
  {
   "cell_type": "code",
   "execution_count": 19,
   "metadata": {
    "colab": {
     "base_uri": "https://localhost:8080/"
    },
    "id": "f7KsOsNAVvgE",
    "outputId": "e38a9c96-aba4-49fe-d2e8-43c73a84ef3f"
   },
   "outputs": [
    {
     "data": {
      "text/plain": [
       "[15731, 462]"
      ]
     },
     "execution_count": 19,
     "metadata": {},
     "output_type": "execute_result"
    }
   ],
   "source": [
    "tokenizer.encode('Brühe')"
   ]
  },
  {
   "cell_type": "code",
   "execution_count": 20,
   "metadata": {
    "colab": {
     "base_uri": "https://localhost:8080/",
     "height": 36
    },
    "id": "mkh0G500K67g",
    "outputId": "d7c4139d-6ac6-40c2-d6a2-448186116ea6"
   },
   "outputs": [
    {
     "data": {
      "application/vnd.google.colaboratory.intrinsic+json": {
       "type": "string"
      },
      "text/plain": [
       "'Brü'"
      ]
     },
     "execution_count": 20,
     "metadata": {},
     "output_type": "execute_result"
    }
   ],
   "source": [
    "tokenizer.decode(15731)"
   ]
  },
  {
   "cell_type": "markdown",
   "metadata": {
    "id": "Km0uxeWnLDSv"
   },
   "source": [
    "Jedem Wort, auch unbekannten Worten, kann eine Nummer zugewiesen werden, da auch die einzelnen Buchstaben Nummern haben. Ein unbekanntes Wort würde also in sehr viele Teile zerlegt werden, ist jedoch für GPT2 lesbar "
   ]
  },
  {
   "cell_type": "code",
   "execution_count": 8,
   "metadata": {
    "colab": {
     "base_uri": "https://localhost:8080/"
    },
    "id": "3iY15KP2V91C",
    "outputId": "23a224b9-9644-4ce5-9580-ba1504d83442"
   },
   "outputs": [
    {
     "data": {
      "text/plain": [
       "[86]"
      ]
     },
     "execution_count": 8,
     "metadata": {},
     "output_type": "execute_result"
    }
   ],
   "source": [
    "tokenizer.encode('r')"
   ]
  },
  {
   "cell_type": "code",
   "execution_count": 9,
   "metadata": {
    "colab": {
     "base_uri": "https://localhost:8080/",
     "height": 81,
     "referenced_widgets": [
      "9ddc6e45f6f34686a0e1e689975b36f3",
      "9bc4d601e41540728c040763930e3539",
      "69171d8d1e9c4f2d855a2ece271fd8a9",
      "453942255200448ca1498fb7df55f004",
      "226757e2e9cf4b95b28c29751307a2c2",
      "3b5dfeefe7d64478b63fa3555e0bdb27",
      "298af5dbafc348ca88cc5d8f174db65a",
      "336f999f23ec44bd8a86c10a93d20d8a",
      "e46e6171c366473095519e1efee5d30f",
      "8f55b4ab8017419292be880c5cf11daf",
      "c2dc952872fa49a7a6f338a16dfa1f81",
      "c11f43bb056a4745bc9c9db5d7569d81",
      "559f88c21756465eba8a098a32614d5a",
      "c1d1384c92cf462abb8917ed7250016e",
      "fb346cf774ec4f9c8a0a0773f0eb4d54",
      "a019d115674f4629bc946808cd83ffd2",
      "80e62eb15bc64b0295454ec3fd763cd9",
      "1118db8c51da4a6eafa0090a911bb33b",
      "a0f2188a7e9f4614890f69ce7e037567",
      "7ac7b5d016704e83a4ebbe69c00e0da9",
      "9664688a12954d52bba13934a04b1390",
      "3bc0d87b91d14e49b1a547b3f7e63b98"
     ]
    },
    "id": "_puIhnIVVfVg",
    "outputId": "cba0165c-5531-4458-a128-397e97e8e63a"
   },
   "outputs": [
    {
     "data": {
      "application/vnd.jupyter.widget-view+json": {
       "model_id": "9ddc6e45f6f34686a0e1e689975b36f3",
       "version_major": 2,
       "version_minor": 0
      },
      "text/plain": [
       "Downloading:   0%|          | 0.00/955 [00:00<?, ?B/s]"
      ]
     },
     "metadata": {},
     "output_type": "display_data"
    },
    {
     "data": {
      "application/vnd.jupyter.widget-view+json": {
       "model_id": "c11f43bb056a4745bc9c9db5d7569d81",
       "version_major": 2,
       "version_minor": 0
      },
      "text/plain": [
       "Downloading:   0%|          | 0.00/510M [00:00<?, ?B/s]"
      ]
     },
     "metadata": {},
     "output_type": "display_data"
    }
   ],
   "source": [
    "model = GPT2LMHeadModel.from_pretrained('Anjoe/german-poetry-gpt2')  # or any other checkpoint\n",
    "model.eval()\n",
    "word_embeddings = model.transformer.wte.weight  # Word Token Embeddings \n",
    "position_embeddings = model.transformer.wpe.weight  # Word Position Embeddings \n",
    "\n",
    "\n",
    "def encode_word(text):\n",
    "    text_index = tokenizer.encode(text,add_prefix_space=True)\n",
    "    vector = model.transformer.wte.weight[text_index,:]    \n",
    "    return vector\n",
    "\n",
    "vector_1 = encode_word('Haus')\n"
   ]
  },
  {
   "cell_type": "markdown",
   "metadata": {
    "id": "JkKR9PpqLYpQ"
   },
   "source": [
    "Das Zuweisen von Nummern durch den Tokenizer ist der erste notwendige Schritt, da ein Algorithmus nur numerische Werte versteht. Diese Token tragen jedoch noch keine Bedeutung. Die erste Ebene des Sprachmodells lernt, aus die bedeutungslosen Zahlen in Vektoren zu übersetzen, welche die Bedeutung repräsentieren. Im Falle des verwendeten Modells hat der Vektor 768 Dimensionen."
   ]
  },
  {
   "cell_type": "code",
   "execution_count": 21,
   "metadata": {
    "colab": {
     "base_uri": "https://localhost:8080/"
    },
    "id": "niKU0JVwWOdv",
    "outputId": "1deeb87a-1711-4046-f8c8-6d7d2150ef91"
   },
   "outputs": [
    {
     "name": "stdout",
     "output_type": "stream",
     "text": [
      "torch.Size([1, 768])\n",
      "tensor([[-1.3986e-01,  9.3552e-02,  1.7866e-01,  1.0349e-02, -4.2736e-01,\n",
      "         -1.9803e-01,  2.9587e-01,  1.4574e-01, -3.6000e-01, -1.6051e-01,\n",
      "          2.0360e-01,  2.7261e-01, -3.2524e-01,  5.0175e-02, -8.2143e-02,\n",
      "         -2.1913e-01,  8.2726e-02, -2.2122e-02, -1.9095e-01,  1.0004e-01,\n",
      "         -2.6142e-02,  6.7242e-02, -3.1882e-02, -2.0613e-01, -1.0150e-01,\n",
      "         -2.7248e-01, -1.9087e-01, -1.8369e-02, -1.2854e-01,  1.9363e-02,\n",
      "         -4.6236e-01, -5.4354e-02, -1.0212e-01, -1.6742e-02, -1.6608e-01,\n",
      "         -1.6354e-01,  9.6244e-02,  3.6504e-01, -3.5425e-01, -9.8744e-02,\n",
      "         -1.6871e-01,  2.0984e-03,  2.9146e-01, -6.8037e-02,  1.6037e-01,\n",
      "         -1.1593e-01, -5.0723e-02, -2.0560e-01,  1.4856e-01, -2.6181e-01,\n",
      "          1.5041e-01, -2.9828e-01,  1.3498e-01,  7.6111e-02, -1.3833e-03,\n",
      "         -8.4609e-04,  5.4982e-02,  8.4038e-02,  5.2760e-02,  4.3140e-02,\n",
      "          1.3263e-02, -1.9020e-01, -1.3285e-01, -9.6504e-02, -6.5043e-02,\n",
      "         -2.5697e-02, -5.5146e-03, -2.3836e-01, -2.3152e-01,  8.9546e-02,\n",
      "         -1.6311e-01, -9.1003e-03, -1.4173e-02, -1.2296e-01,  1.9498e-02,\n",
      "          3.9505e-01,  7.3552e-02,  5.1147e-02,  3.5294e-01,  3.1299e-01,\n",
      "         -1.1208e-01, -2.2856e-01,  8.7552e-02,  5.3228e-02, -1.7882e-01,\n",
      "         -1.8207e-01,  5.2239e-02,  6.1891e-02,  3.3763e-01, -2.5934e-02,\n",
      "          1.3691e-01,  1.2628e-01, -9.8926e-03, -4.9767e-02,  2.6331e-02,\n",
      "         -2.5190e-01,  6.8372e-02,  3.5007e-01,  5.5598e-02, -6.0335e-01,\n",
      "         -2.0563e-01,  2.0448e-01,  1.4828e-02,  2.6834e-01,  3.1458e-02,\n",
      "         -1.0384e-01, -1.3856e-01,  9.6939e-02, -1.0519e-01,  8.5193e-02,\n",
      "         -1.2172e-01, -1.0641e-01,  6.3121e-02,  7.0142e-02,  2.3052e-01,\n",
      "         -2.9824e-02, -8.1791e-02,  5.6099e-03, -2.9076e-02, -9.6932e-02,\n",
      "         -2.5338e-01,  8.7768e-02,  3.6353e-02,  3.2526e-01,  1.1735e-01,\n",
      "          4.7162e-02, -2.2373e-01,  1.0746e-01, -6.9943e-02, -3.4858e-01,\n",
      "         -2.6495e-01,  7.4331e-02,  1.0765e-01,  1.2552e-01, -2.7410e-02,\n",
      "         -1.2920e-02,  2.4455e-02, -2.8649e-04, -1.3388e-01,  5.6720e-02,\n",
      "          2.2566e-01,  1.1334e-01, -5.5413e-02, -9.0233e-02, -8.0617e-02,\n",
      "         -7.2378e-02, -7.5555e-02, -4.7368e-02, -1.2287e-01,  8.3969e-03,\n",
      "         -4.1484e-01,  3.6467e-01,  3.3842e-01, -5.1470e-02, -1.1960e-01,\n",
      "          2.3447e-01,  1.2434e-01,  4.5763e-02,  8.0376e-02, -2.1471e-01,\n",
      "         -6.3537e-02,  1.7390e-01,  1.0774e-01,  5.0340e-02, -7.2177e-02,\n",
      "          1.5236e-01, -1.1567e-01,  1.7270e-01, -1.5206e-01,  1.7121e-01,\n",
      "          2.5051e-01,  1.6700e-01, -3.9699e-02, -4.0787e-02, -2.7921e-01,\n",
      "         -4.9271e-01, -2.4175e-01, -1.2315e-01,  3.0506e-01, -1.6234e-01,\n",
      "         -1.2199e-02, -5.2372e-03, -1.1749e-02,  6.3051e-02, -3.4102e-01,\n",
      "         -2.3815e-01, -1.0954e-01,  5.1554e-02, -2.6007e-02,  2.7367e-01,\n",
      "          1.9314e-01,  1.3297e-01,  1.3785e-01, -1.2260e-01, -1.1617e-02,\n",
      "         -5.1627e-02, -3.3542e-02, -2.7531e-02, -7.9127e-02,  4.1163e-01,\n",
      "          1.7225e-02, -8.7775e-02,  2.2614e-01,  8.0267e-02,  2.5409e-01,\n",
      "         -1.4437e-01,  2.5608e-01, -2.0513e-01,  1.0519e-02, -1.8818e-01,\n",
      "         -7.4979e-02,  3.7816e-02,  2.9373e-01, -2.7452e-01, -9.4031e-02,\n",
      "         -1.6444e-01, -2.2248e-02, -3.6398e-01, -5.0529e-02, -4.0045e-02,\n",
      "         -4.5399e-01, -1.8769e-01,  3.9762e-02,  4.3499e-02, -2.0681e-01,\n",
      "         -6.9877e-02,  1.8310e-02, -2.5362e-01, -2.4667e-01, -1.2774e-01,\n",
      "          1.2719e-01,  2.3046e-01,  2.7141e-01,  7.3741e-02,  1.7604e-01,\n",
      "         -1.4352e-01, -6.1946e-02, -2.8196e-01, -3.6438e-02, -1.3279e-01,\n",
      "         -2.8799e-01, -9.8119e-03, -2.8296e-01, -4.5890e-01, -3.1155e-01,\n",
      "          1.5272e-01, -2.1745e-01,  4.6172e-02, -1.6908e-01, -1.8278e-02,\n",
      "          1.2470e-01,  3.9038e-01,  4.7405e-02, -1.1628e-01, -1.9425e-01,\n",
      "          3.1395e-01, -2.2744e-01,  1.3774e-01, -1.1266e-01, -1.8940e-02,\n",
      "         -1.8077e-02, -6.4953e-02,  1.3022e-01, -2.2298e-01,  2.9743e-02,\n",
      "          1.0641e-02, -2.4373e-01, -1.1059e-01, -3.9837e-03, -3.3759e-01,\n",
      "          7.7985e-03,  1.4511e-01,  1.6480e-01, -1.0094e-01, -6.4259e-02,\n",
      "          1.0613e-01, -1.4846e-01, -1.1638e-01,  7.2255e-02, -2.2986e-02,\n",
      "         -1.3050e-01, -7.1635e-02, -1.0217e-01, -1.6990e-01,  1.6811e-01,\n",
      "         -1.3048e-01,  7.2500e-02,  1.8966e-01,  1.6912e-01, -1.8240e-02,\n",
      "          1.7449e-01, -3.0680e-02,  3.8770e-01, -2.5740e-01, -1.5282e-02,\n",
      "          2.5067e-01, -1.8529e-01, -6.2383e-02,  1.6170e-01, -5.6651e-03,\n",
      "          5.3370e-02,  1.9318e-01, -2.1621e-01, -1.0785e-01, -1.4104e-01,\n",
      "         -6.2197e-03, -3.2233e-01,  1.5517e-01, -1.2697e-02,  2.7733e-01,\n",
      "          3.3387e-01,  2.0946e-02,  1.4537e-01,  3.4137e-02, -2.5296e-01,\n",
      "          1.7953e-01, -1.9646e-03, -2.3226e-01, -2.2396e-02,  2.1338e-01,\n",
      "          3.3658e-01, -1.5130e-01,  5.0954e-02, -1.6234e-01,  3.8315e-02,\n",
      "          2.2701e-01, -2.3384e-01,  1.7564e-01, -7.9324e-02, -1.0326e-01,\n",
      "         -5.6226e-03, -1.3695e-02, -1.2695e-01, -2.7137e-01, -2.7179e-01,\n",
      "          1.1183e-01,  2.4127e-02,  1.1733e-01, -6.0175e-02,  1.4926e-01,\n",
      "          1.8001e-01, -1.5956e-01, -4.3150e-02, -1.4403e-01,  1.1560e-04,\n",
      "         -8.2921e-02, -4.6681e-02, -9.4166e-02,  1.5551e-02, -1.2947e-01,\n",
      "          7.3249e-02,  1.7899e-01, -1.2058e-01,  1.7832e-01,  1.8982e-02,\n",
      "         -4.5637e-01,  7.8332e-02, -1.1341e-01,  1.1740e-01, -3.9585e-01,\n",
      "         -2.5594e-01, -6.4080e-02,  2.2311e-02, -2.6162e-02, -1.8142e-01,\n",
      "         -3.5040e-02, -2.3299e-01, -3.1161e-02,  1.3794e-01, -1.7255e-01,\n",
      "          1.6150e-01,  7.5463e-03, -1.2353e-01, -4.3605e-01,  7.9256e-03,\n",
      "          1.9832e-01, -1.4942e-01, -9.8862e-02, -3.1803e-02, -1.4539e-01,\n",
      "         -1.8702e-01, -2.3869e-02, -2.6867e-01, -1.8726e-01, -1.1525e-01,\n",
      "          1.6287e-01, -7.9583e-02, -1.9835e-01, -3.2536e-01, -2.2505e-01,\n",
      "         -2.7557e-01, -2.2212e-02,  5.1284e-01, -1.5263e-01, -9.5595e-02,\n",
      "         -5.5327e-02,  2.0715e-01,  4.6362e-03,  4.5456e-02, -5.9417e-02,\n",
      "         -5.0087e-02,  1.2050e-01,  4.4863e-02, -1.8302e-01, -3.8716e-02,\n",
      "         -1.8673e-02,  4.1570e-02, -1.7446e-01,  3.1988e-02,  2.9494e-01,\n",
      "          1.3594e-01,  6.1108e-02,  1.3729e-01, -1.1358e-01,  1.7264e-01,\n",
      "          2.4055e-01, -1.6453e-01, -1.7782e-01,  5.0440e-02, -9.2922e-02,\n",
      "         -4.1979e-02, -8.0628e-02,  7.8421e-02, -1.5361e-01,  3.0863e-01,\n",
      "          7.8522e-02, -3.2787e-02, -1.5619e-01,  4.5716e-03, -9.1544e-02,\n",
      "          1.9507e-01, -1.7457e-01,  7.6385e-02, -3.8531e-01, -4.6190e-01,\n",
      "          1.0803e-01,  2.1337e-01, -1.7088e-02,  2.8555e-01, -1.8739e-01,\n",
      "         -2.1075e-01,  6.0702e-02,  2.6808e-02, -6.7885e-02,  8.9536e-02,\n",
      "          1.9899e-01, -1.9334e-01,  1.6815e-03, -6.8731e-03,  3.0879e-01,\n",
      "         -4.1692e-02,  5.9913e-02,  2.1619e-01, -2.3674e-01,  1.3489e-01,\n",
      "         -2.6577e-02, -1.0130e-01, -1.5216e-02,  1.9876e-01,  7.9521e-02,\n",
      "          3.1675e-01,  1.0237e-01,  3.0109e-02, -1.6344e-01, -1.4214e-01,\n",
      "          5.4514e-02, -5.1727e-02,  2.1050e-01, -1.3332e-02, -3.2783e-01,\n",
      "         -1.8368e-01, -3.3946e-01, -4.8076e-02, -9.3443e-02,  7.4672e-02,\n",
      "          4.9791e-02, -4.6289e-02, -1.9918e-01, -3.7964e-02, -2.6299e-01,\n",
      "          2.0755e-01, -2.2890e-01,  3.8902e-02, -1.3985e-01,  2.0182e-01,\n",
      "          1.5017e-01, -2.8696e-01,  1.4293e-01,  6.1553e-02,  9.6402e-02,\n",
      "          1.7992e-01, -7.2892e-02,  8.1250e-02, -5.2331e-02,  8.6573e-02,\n",
      "          2.7585e-02,  3.7367e-01, -1.4704e-02, -1.0626e-01,  2.2728e-01,\n",
      "          1.7431e-02, -2.2425e-01, -4.9060e-02,  2.3028e-01,  1.0312e-01,\n",
      "         -2.4689e-01,  1.3876e-01,  1.7609e-01,  7.0109e-02, -4.7300e-01,\n",
      "          2.5833e-01, -1.4575e-01,  2.6004e-01,  2.8618e-01, -8.1050e-02,\n",
      "         -1.4543e-01, -1.5436e-01,  1.9871e-01,  1.5687e-01,  4.2305e-02,\n",
      "         -1.7547e-01,  1.3503e-01,  8.8566e-02,  9.5285e-02,  1.6000e-01,\n",
      "         -2.0254e-01,  2.3287e-01, -6.3521e-02,  1.2982e-02,  4.8445e-02,\n",
      "          2.9796e-01,  2.6194e-01, -1.8633e-01, -2.7391e-01, -2.6496e-02,\n",
      "         -3.0905e-01, -1.7707e-01, -4.7867e-02, -2.0387e-01,  1.3211e-01,\n",
      "         -1.0595e-03,  1.8133e-02,  7.4424e-02,  9.5942e-02, -4.2153e-03,\n",
      "         -5.6368e-02,  2.2076e-01,  2.8213e-01, -2.7665e-02, -1.8457e-01,\n",
      "          1.5927e-01,  5.0178e-01,  1.3341e-01, -6.4376e-02, -3.0631e-01,\n",
      "         -4.3101e-01, -8.1576e-02, -2.2382e-02,  1.0554e-01, -4.2984e-02,\n",
      "          3.0221e-01, -2.5918e-01,  6.5244e-02, -3.9102e-01,  2.0924e-01,\n",
      "          1.1551e-01, -1.8261e-01,  8.8635e-02, -7.2041e-02,  7.1050e-02,\n",
      "         -1.9820e-01, -8.3855e-02,  3.0510e-01, -9.2816e-02, -3.7124e-01,\n",
      "          2.0484e-03, -1.0188e-01,  1.4498e-01,  1.1862e-01,  4.6828e-01,\n",
      "          4.2286e-01, -1.4701e-01, -4.1040e-02,  7.1169e-02, -5.2026e-01,\n",
      "         -8.3686e-02,  1.5786e-01,  2.0889e-01, -1.5691e-01, -1.3556e-01,\n",
      "         -3.8517e-02, -4.2896e-03,  1.9266e-01, -7.7054e-01,  4.9901e-02,\n",
      "          3.0947e-02, -1.6836e-01, -1.0941e-01, -5.3370e-02,  8.9019e-02,\n",
      "         -1.8126e-01,  5.0511e-02, -1.5520e-01, -2.2938e-01,  1.9227e-01,\n",
      "          2.1044e-01, -6.9813e-02,  9.4007e-02,  6.8005e-02, -3.6061e-01,\n",
      "         -5.2175e-02, -1.2285e-02,  3.0582e-01,  1.2733e-01,  4.8086e-01,\n",
      "         -7.9306e-02,  6.1383e-02, -1.1670e-01,  8.9524e-02,  4.9670e-02,\n",
      "          7.4501e-02,  1.3132e-01, -4.6078e-02, -2.0868e-01,  1.0108e-01,\n",
      "         -7.1318e-02,  1.1185e-02, -3.7305e-01, -1.2221e-01,  3.3237e-02,\n",
      "         -1.8581e-01, -2.8999e-01, -2.3114e-01, -8.3654e-02,  2.5026e-01,\n",
      "          2.7955e-01, -6.8075e-02, -2.8379e-01,  1.6734e-01, -1.0520e-01,\n",
      "         -3.1352e-01,  1.7149e-01,  1.1573e-01,  4.3165e-02,  6.9963e-02,\n",
      "         -1.1957e-01, -1.2152e-02, -3.5548e-02, -3.8253e-01,  7.0893e-02,\n",
      "          1.1836e-01, -2.3049e-01,  2.3399e-01,  1.1725e-01, -1.9605e-01,\n",
      "         -2.8445e-02,  6.8831e-02,  2.3298e-01,  3.6379e-02,  2.0817e-01,\n",
      "         -5.5147e-02, -2.2626e-01,  3.0278e-01,  6.8532e-02,  1.0407e-01,\n",
      "          6.0715e-02, -2.2590e-01,  2.6428e-01,  1.0313e-01,  1.7753e-01,\n",
      "          2.4929e-01,  2.8555e-01,  1.0270e-01, -4.0724e-02,  3.0093e-01,\n",
      "          9.1526e-02,  2.3376e-01,  3.4179e-02, -1.7020e-01,  2.0498e-01,\n",
      "          1.4010e-01, -3.0088e-02, -4.5096e-02, -7.5286e-02, -2.6111e-01,\n",
      "         -6.8868e-02,  2.6731e-02, -6.0848e-02, -8.6497e-02,  9.3004e-02,\n",
      "          1.0809e-01,  8.2734e-02,  3.0354e-02, -6.2183e-03, -9.1134e-02,\n",
      "          6.7070e-02, -8.7184e-02,  9.7123e-02,  1.5520e-01, -3.6759e-01,\n",
      "          2.0695e-01, -2.5184e-01, -1.9545e-01,  2.4514e-02, -2.2280e-01,\n",
      "         -1.2170e-01, -1.1174e-01,  6.0190e-02, -1.3460e-01, -3.3476e-01,\n",
      "          2.2253e-01,  1.8194e-01,  2.3501e-01, -3.0389e-01,  3.1134e-01,\n",
      "         -3.0507e-01, -8.5695e-02,  7.8600e-02,  8.7307e-02,  3.1053e-02,\n",
      "         -5.3339e-02, -4.6953e-02,  2.7992e-01,  1.4173e-02,  7.2156e-02,\n",
      "         -3.5371e-02, -3.1525e-02,  1.0815e-01,  1.0690e-01,  2.3611e-02,\n",
      "          1.8212e-02,  4.6108e-01, -1.4364e-02, -4.3043e-02,  1.8317e-01,\n",
      "          2.2146e-01, -9.0629e-02, -8.2969e-02, -1.3230e-02, -2.5238e-02,\n",
      "          2.5566e-02, -9.4287e-02,  3.3520e-02, -1.2024e-01,  1.4605e-01,\n",
      "         -3.3655e-02,  5.7942e-02,  7.2624e-02, -9.2380e-02, -5.5560e-02,\n",
      "          2.0829e-01,  2.3028e-01, -1.6198e-03,  1.9787e-01, -1.7914e-01,\n",
      "          2.0167e-01,  1.0527e-01,  4.0015e-01, -2.8838e-02, -4.6147e-02,\n",
      "         -5.1050e-02,  5.6548e-04, -1.5988e-02, -3.0969e-01,  1.4380e-01,\n",
      "         -2.1416e-01, -1.2064e-01, -1.9654e-01]], grad_fn=<IndexBackward0>)\n"
     ]
    }
   ],
   "source": [
    "print(vector_1.shape)\n",
    "print(vector_1)"
   ]
  },
  {
   "cell_type": "markdown",
   "metadata": {
    "id": "hmyB3U-IMJ-v"
   },
   "source": [
    "Das Sprachmodell berechnet nun für eine bestimmte Prompt die Wahrscheinlichkeit für das nachfolende Token. Hierbei ist zu beachten, dass jedes Token aus dem oben genannten Wörterbuch eine Wahrscheinlichkeit zugewiesen bekommt. Das Modell gibt also 50265 verschiedene Wahrscheinlichkeiten aus. Im nachfolgenden Beispiel ist die Prompt das Wort \"Ich\". Die angezeigten Token werden ihrer Wahrscheinlichkeit nach sortiert. "
   ]
  },
  {
   "cell_type": "code",
   "execution_count": 10,
   "metadata": {
    "colab": {
     "base_uri": "https://localhost:8080/"
    },
    "id": "qdDEpFtXXsc0",
    "outputId": "eddef4c3-93e9-4a95-a193-b5e20eebce36"
   },
   "outputs": [
    {
     "data": {
      "text/plain": [
       "tensor([ 2399,  1251,  1145,  ..., 27954, 26694, 17306])"
      ]
     },
     "execution_count": 10,
     "metadata": {},
     "output_type": "execute_result"
    }
   ],
   "source": [
    "text = '''Ich'''\n",
    "\n",
    "inputs = tokenizer(text,return_tensors='pt')['input_ids']\n",
    "\n",
    "outputs = model(inputs)\n",
    "\n",
    "probabilities = outputs.logits[:,-1,:] \n",
    "\n",
    "next_token_sample = torch.argsort(-probabilities)\n",
    "    \n",
    "next_token_sample[0]"
   ]
  },
  {
   "cell_type": "markdown",
   "metadata": {
    "id": "zHyXmNZAMy3f"
   },
   "source": [
    "Unten stehend werden die 10 wahrscheinlichsten Token-IDs *decodiert*. "
   ]
  },
  {
   "cell_type": "code",
   "execution_count": 15,
   "metadata": {
    "colab": {
     "base_uri": "https://localhost:8080/"
    },
    "id": "qKPjZocqYAsw",
    "outputId": "39b4f5d9-314e-446e-9399-bc662d6b408e"
   },
   "outputs": [
    {
     "name": "stdout",
     "output_type": "stream",
     "text": [
      " hab\n",
      " bin\n",
      " will\n",
      " kann\n",
      " war\n",
      " werd\n",
      " weiß\n",
      " habe\n",
      " rief\n",
      " w\n"
     ]
    }
   ],
   "source": [
    "for i in range(10):\n",
    "  print(tokenizer.decode(next_token_sample[0][i]))"
   ]
  },
  {
   "cell_type": "markdown",
   "metadata": {
    "id": "P0K3S52tNDF_"
   },
   "source": [
    "Das unwahrscheinlichste Token ist \"irur\""
   ]
  },
  {
   "cell_type": "code",
   "execution_count": 11,
   "metadata": {
    "colab": {
     "base_uri": "https://localhost:8080/",
     "height": 36
    },
    "id": "EQ5h5sRZI1Lw",
    "outputId": "19cbae88-7f55-41d8-9136-4fe49e925cd7"
   },
   "outputs": [
    {
     "data": {
      "application/vnd.google.colaboratory.intrinsic+json": {
       "type": "string"
      },
      "text/plain": [
       "'irur'"
      ]
     },
     "execution_count": 11,
     "metadata": {},
     "output_type": "execute_result"
    }
   ],
   "source": [
    "tokenizer.decode(17306)"
   ]
  },
  {
   "cell_type": "markdown",
   "metadata": {
    "id": "FDGkY50QNHjn"
   },
   "source": [
    "Mithilfe einer for-Schleife wird nun ein Text erzeugt, wobei immer das wahrscheinlichste Token zur Fortsetzung des Textes verwendet wird. Das Resultat ist bei jedem Versuch das exakt gleiche, da das Modell selbst deterministisch ist. Somit überrascht es nicht, dass auf das \"Ich\" das \"hab\" folgt, da dies bereits die Vorhersage für das wahrscheinlichste Token im letzten Versuch war. "
   ]
  },
  {
   "cell_type": "code",
   "execution_count": null,
   "metadata": {
    "colab": {
     "base_uri": "https://localhost:8080/"
    },
    "id": "D_FuzBNFXa9J",
    "outputId": "516b47a1-a760-48da-fecc-fac5af9eff1c"
   },
   "outputs": [
    {
     "name": "stdout",
     "output_type": "stream",
     "text": [
      "Ich hab es nicht vergessen,\n",
      "Und ich hab es\n"
     ]
    }
   ],
   "source": [
    "text = '''Ich'''\n",
    "\n",
    "inputs = tokenizer(text,return_tensors='pt')['input_ids']\n",
    "\n",
    "for i in range(10):\n",
    "    outputs = model(inputs)\n",
    "    \n",
    "    probabilities = outputs.logits[:,-1,:] \n",
    "  \n",
    "    next_token_sample = torch.argsort(-probabilities)\n",
    "\n",
    "    next_token = next_token_sample[:,0]\n",
    "    \n",
    "    inputs = torch.cat((inputs, torch.reshape(next_token,(1,1))),1)\n",
    "\n",
    "print(tokenizer.decode(inputs[0]))"
   ]
  },
  {
   "cell_type": "markdown",
   "metadata": {
    "id": "O3-OuwqxNd3X"
   },
   "source": [
    "Man kann jedoch aus den wahrscheinlichsten Token mithilfe eines Zufallsgenerator eines auswählen. Auf diese Weise verhindert man mit großer Wahrscheinlichkeit Plagiate. Umso größer der Bereich ist, aus dem man wählt, desto kreativer werden die Ausgaben - jedoch können sie dadurch auch zunehmend sinnlos werden. Das Sampeln aus der Wahrscheinlichkeitsverteilung ermöglicht auf jeden Fall interessante poetische Gesten. Man könnte zum Beispiel auf einem bestimmten Trainingskorpus trainieren und bei der Erzeugung immer das zehnt wahrscheinlichste Token verwenden. "
   ]
  },
  {
   "cell_type": "code",
   "execution_count": null,
   "metadata": {
    "colab": {
     "base_uri": "https://localhost:8080/"
    },
    "id": "lcTjzyEyXq55",
    "outputId": "3e6cbb2d-59d0-4c21-d634-4fd92710aecb"
   },
   "outputs": [
    {
     "name": "stdout",
     "output_type": "stream",
     "text": [
      "Ich weiß, sie sind die Mutter\n",
      "Der Unschuld,\n"
     ]
    }
   ],
   "source": [
    "text = '''Ich'''\n",
    "\n",
    "inputs = tokenizer(text,return_tensors='pt')['input_ids']\n",
    "\n",
    "for i in range(10):\n",
    "    outputs = model(inputs)\n",
    "    \n",
    "    probabilities = outputs.logits[:,-1,:] \n",
    "  \n",
    "    next_token_sample = torch.argsort(-probabilities)\n",
    "    \n",
    "    random = np.random.randint(10)\n",
    "    \n",
    "    next_token = next_token_sample[:,random]\n",
    "    \n",
    "    inputs = torch.cat((inputs, torch.reshape(next_token,(1,1))),1)\n",
    "\n",
    "print(tokenizer.decode(inputs[0]))"
   ]
  }
 ],
 "metadata": {
  "colab": {
   "authorship_tag": "ABX9TyMYi0BnDc4AqPxFUelk2zR2",
   "collapsed_sections": [],
   "include_colab_link": true,
   "provenance": []
  },
  "kernelspec": {
   "display_name": "Python 3",
   "language": "python",
   "name": "python3"
  },
  "language_info": {
   "codemirror_mode": {
    "name": "ipython",
    "version": 3
   },
   "file_extension": ".py",
   "mimetype": "text/x-python",
   "name": "python",
   "nbconvert_exporter": "python",
   "pygments_lexer": "ipython3",
   "version": "3.6.7"
  },
  "widgets": {
   "application/vnd.jupyter.widget-state+json": {
    "05d521c2e5ea4853869c43b05c128ddb": {
     "model_module": "@jupyter-widgets/controls",
     "model_module_version": "1.5.0",
     "model_name": "DescriptionStyleModel",
     "state": {
      "_model_module": "@jupyter-widgets/controls",
      "_model_module_version": "1.5.0",
      "_model_name": "DescriptionStyleModel",
      "_view_count": null,
      "_view_module": "@jupyter-widgets/base",
      "_view_module_version": "1.2.0",
      "_view_name": "StyleView",
      "description_width": ""
     }
    },
    "1118db8c51da4a6eafa0090a911bb33b": {
     "model_module": "@jupyter-widgets/controls",
     "model_module_version": "1.5.0",
     "model_name": "DescriptionStyleModel",
     "state": {
      "_model_module": "@jupyter-widgets/controls",
      "_model_module_version": "1.5.0",
      "_model_name": "DescriptionStyleModel",
      "_view_count": null,
      "_view_module": "@jupyter-widgets/base",
      "_view_module_version": "1.2.0",
      "_view_name": "StyleView",
      "description_width": ""
     }
    },
    "16426aaea5c2467d898b936b67fa4d22": {
     "model_module": "@jupyter-widgets/controls",
     "model_module_version": "1.5.0",
     "model_name": "HTMLModel",
     "state": {
      "_dom_classes": [],
      "_model_module": "@jupyter-widgets/controls",
      "_model_module_version": "1.5.0",
      "_model_name": "HTMLModel",
      "_view_count": null,
      "_view_module": "@jupyter-widgets/controls",
      "_view_module_version": "1.5.0",
      "_view_name": "HTMLView",
      "description": "",
      "description_tooltip": null,
      "layout": "IPY_MODEL_8aa72a3fdb2e4885a3881e073300bab1",
      "placeholder": "​",
      "style": "IPY_MODEL_91405f27f07e4d8fb7ddc43dc8ae8793",
      "value": " 0/0 [00:00&lt;?, ?it/s]"
     }
    },
    "226757e2e9cf4b95b28c29751307a2c2": {
     "model_module": "@jupyter-widgets/base",
     "model_module_version": "1.2.0",
     "model_name": "LayoutModel",
     "state": {
      "_model_module": "@jupyter-widgets/base",
      "_model_module_version": "1.2.0",
      "_model_name": "LayoutModel",
      "_view_count": null,
      "_view_module": "@jupyter-widgets/base",
      "_view_module_version": "1.2.0",
      "_view_name": "LayoutView",
      "align_content": null,
      "align_items": null,
      "align_self": null,
      "border": null,
      "bottom": null,
      "display": null,
      "flex": null,
      "flex_flow": null,
      "grid_area": null,
      "grid_auto_columns": null,
      "grid_auto_flow": null,
      "grid_auto_rows": null,
      "grid_column": null,
      "grid_gap": null,
      "grid_row": null,
      "grid_template_areas": null,
      "grid_template_columns": null,
      "grid_template_rows": null,
      "height": null,
      "justify_content": null,
      "justify_items": null,
      "left": null,
      "margin": null,
      "max_height": null,
      "max_width": null,
      "min_height": null,
      "min_width": null,
      "object_fit": null,
      "object_position": null,
      "order": null,
      "overflow": null,
      "overflow_x": null,
      "overflow_y": null,
      "padding": null,
      "right": null,
      "top": null,
      "visibility": null,
      "width": null
     }
    },
    "298af5dbafc348ca88cc5d8f174db65a": {
     "model_module": "@jupyter-widgets/controls",
     "model_module_version": "1.5.0",
     "model_name": "DescriptionStyleModel",
     "state": {
      "_model_module": "@jupyter-widgets/controls",
      "_model_module_version": "1.5.0",
      "_model_name": "DescriptionStyleModel",
      "_view_count": null,
      "_view_module": "@jupyter-widgets/base",
      "_view_module_version": "1.2.0",
      "_view_name": "StyleView",
      "description_width": ""
     }
    },
    "336f999f23ec44bd8a86c10a93d20d8a": {
     "model_module": "@jupyter-widgets/base",
     "model_module_version": "1.2.0",
     "model_name": "LayoutModel",
     "state": {
      "_model_module": "@jupyter-widgets/base",
      "_model_module_version": "1.2.0",
      "_model_name": "LayoutModel",
      "_view_count": null,
      "_view_module": "@jupyter-widgets/base",
      "_view_module_version": "1.2.0",
      "_view_name": "LayoutView",
      "align_content": null,
      "align_items": null,
      "align_self": null,
      "border": null,
      "bottom": null,
      "display": null,
      "flex": null,
      "flex_flow": null,
      "grid_area": null,
      "grid_auto_columns": null,
      "grid_auto_flow": null,
      "grid_auto_rows": null,
      "grid_column": null,
      "grid_gap": null,
      "grid_row": null,
      "grid_template_areas": null,
      "grid_template_columns": null,
      "grid_template_rows": null,
      "height": null,
      "justify_content": null,
      "justify_items": null,
      "left": null,
      "margin": null,
      "max_height": null,
      "max_width": null,
      "min_height": null,
      "min_width": null,
      "object_fit": null,
      "object_position": null,
      "order": null,
      "overflow": null,
      "overflow_x": null,
      "overflow_y": null,
      "padding": null,
      "right": null,
      "top": null,
      "visibility": null,
      "width": null
     }
    },
    "3b5dfeefe7d64478b63fa3555e0bdb27": {
     "model_module": "@jupyter-widgets/base",
     "model_module_version": "1.2.0",
     "model_name": "LayoutModel",
     "state": {
      "_model_module": "@jupyter-widgets/base",
      "_model_module_version": "1.2.0",
      "_model_name": "LayoutModel",
      "_view_count": null,
      "_view_module": "@jupyter-widgets/base",
      "_view_module_version": "1.2.0",
      "_view_name": "LayoutView",
      "align_content": null,
      "align_items": null,
      "align_self": null,
      "border": null,
      "bottom": null,
      "display": null,
      "flex": null,
      "flex_flow": null,
      "grid_area": null,
      "grid_auto_columns": null,
      "grid_auto_flow": null,
      "grid_auto_rows": null,
      "grid_column": null,
      "grid_gap": null,
      "grid_row": null,
      "grid_template_areas": null,
      "grid_template_columns": null,
      "grid_template_rows": null,
      "height": null,
      "justify_content": null,
      "justify_items": null,
      "left": null,
      "margin": null,
      "max_height": null,
      "max_width": null,
      "min_height": null,
      "min_width": null,
      "object_fit": null,
      "object_position": null,
      "order": null,
      "overflow": null,
      "overflow_x": null,
      "overflow_y": null,
      "padding": null,
      "right": null,
      "top": null,
      "visibility": null,
      "width": null
     }
    },
    "3bc0d87b91d14e49b1a547b3f7e63b98": {
     "model_module": "@jupyter-widgets/controls",
     "model_module_version": "1.5.0",
     "model_name": "DescriptionStyleModel",
     "state": {
      "_model_module": "@jupyter-widgets/controls",
      "_model_module_version": "1.5.0",
      "_model_name": "DescriptionStyleModel",
      "_view_count": null,
      "_view_module": "@jupyter-widgets/base",
      "_view_module_version": "1.2.0",
      "_view_name": "StyleView",
      "description_width": ""
     }
    },
    "43add0846a6a49c78143354b2e54f17c": {
     "model_module": "@jupyter-widgets/controls",
     "model_module_version": "1.5.0",
     "model_name": "ProgressStyleModel",
     "state": {
      "_model_module": "@jupyter-widgets/controls",
      "_model_module_version": "1.5.0",
      "_model_name": "ProgressStyleModel",
      "_view_count": null,
      "_view_module": "@jupyter-widgets/base",
      "_view_module_version": "1.2.0",
      "_view_name": "StyleView",
      "bar_color": null,
      "description_width": ""
     }
    },
    "453942255200448ca1498fb7df55f004": {
     "model_module": "@jupyter-widgets/controls",
     "model_module_version": "1.5.0",
     "model_name": "HTMLModel",
     "state": {
      "_dom_classes": [],
      "_model_module": "@jupyter-widgets/controls",
      "_model_module_version": "1.5.0",
      "_model_name": "HTMLModel",
      "_view_count": null,
      "_view_module": "@jupyter-widgets/controls",
      "_view_module_version": "1.5.0",
      "_view_name": "HTMLView",
      "description": "",
      "description_tooltip": null,
      "layout": "IPY_MODEL_8f55b4ab8017419292be880c5cf11daf",
      "placeholder": "​",
      "style": "IPY_MODEL_c2dc952872fa49a7a6f338a16dfa1f81",
      "value": " 955/955 [00:00&lt;00:00, 13.2kB/s]"
     }
    },
    "559f88c21756465eba8a098a32614d5a": {
     "model_module": "@jupyter-widgets/controls",
     "model_module_version": "1.5.0",
     "model_name": "HTMLModel",
     "state": {
      "_dom_classes": [],
      "_model_module": "@jupyter-widgets/controls",
      "_model_module_version": "1.5.0",
      "_model_name": "HTMLModel",
      "_view_count": null,
      "_view_module": "@jupyter-widgets/controls",
      "_view_module_version": "1.5.0",
      "_view_name": "HTMLView",
      "description": "",
      "description_tooltip": null,
      "layout": "IPY_MODEL_80e62eb15bc64b0295454ec3fd763cd9",
      "placeholder": "​",
      "style": "IPY_MODEL_1118db8c51da4a6eafa0090a911bb33b",
      "value": "Downloading: 100%"
     }
    },
    "69171d8d1e9c4f2d855a2ece271fd8a9": {
     "model_module": "@jupyter-widgets/controls",
     "model_module_version": "1.5.0",
     "model_name": "FloatProgressModel",
     "state": {
      "_dom_classes": [],
      "_model_module": "@jupyter-widgets/controls",
      "_model_module_version": "1.5.0",
      "_model_name": "FloatProgressModel",
      "_view_count": null,
      "_view_module": "@jupyter-widgets/controls",
      "_view_module_version": "1.5.0",
      "_view_name": "ProgressView",
      "bar_style": "success",
      "description": "",
      "description_tooltip": null,
      "layout": "IPY_MODEL_336f999f23ec44bd8a86c10a93d20d8a",
      "max": 955,
      "min": 0,
      "orientation": "horizontal",
      "style": "IPY_MODEL_e46e6171c366473095519e1efee5d30f",
      "value": 955
     }
    },
    "6c000b9dab3f457296c8df4412f3098d": {
     "model_module": "@jupyter-widgets/base",
     "model_module_version": "1.2.0",
     "model_name": "LayoutModel",
     "state": {
      "_model_module": "@jupyter-widgets/base",
      "_model_module_version": "1.2.0",
      "_model_name": "LayoutModel",
      "_view_count": null,
      "_view_module": "@jupyter-widgets/base",
      "_view_module_version": "1.2.0",
      "_view_name": "LayoutView",
      "align_content": null,
      "align_items": null,
      "align_self": null,
      "border": null,
      "bottom": null,
      "display": null,
      "flex": null,
      "flex_flow": null,
      "grid_area": null,
      "grid_auto_columns": null,
      "grid_auto_flow": null,
      "grid_auto_rows": null,
      "grid_column": null,
      "grid_gap": null,
      "grid_row": null,
      "grid_template_areas": null,
      "grid_template_columns": null,
      "grid_template_rows": null,
      "height": null,
      "justify_content": null,
      "justify_items": null,
      "left": null,
      "margin": null,
      "max_height": null,
      "max_width": null,
      "min_height": null,
      "min_width": null,
      "object_fit": null,
      "object_position": null,
      "order": null,
      "overflow": null,
      "overflow_x": null,
      "overflow_y": null,
      "padding": null,
      "right": null,
      "top": null,
      "visibility": null,
      "width": null
     }
    },
    "7ac7b5d016704e83a4ebbe69c00e0da9": {
     "model_module": "@jupyter-widgets/controls",
     "model_module_version": "1.5.0",
     "model_name": "ProgressStyleModel",
     "state": {
      "_model_module": "@jupyter-widgets/controls",
      "_model_module_version": "1.5.0",
      "_model_name": "ProgressStyleModel",
      "_view_count": null,
      "_view_module": "@jupyter-widgets/base",
      "_view_module_version": "1.2.0",
      "_view_name": "StyleView",
      "bar_color": null,
      "description_width": ""
     }
    },
    "80e62eb15bc64b0295454ec3fd763cd9": {
     "model_module": "@jupyter-widgets/base",
     "model_module_version": "1.2.0",
     "model_name": "LayoutModel",
     "state": {
      "_model_module": "@jupyter-widgets/base",
      "_model_module_version": "1.2.0",
      "_model_name": "LayoutModel",
      "_view_count": null,
      "_view_module": "@jupyter-widgets/base",
      "_view_module_version": "1.2.0",
      "_view_name": "LayoutView",
      "align_content": null,
      "align_items": null,
      "align_self": null,
      "border": null,
      "bottom": null,
      "display": null,
      "flex": null,
      "flex_flow": null,
      "grid_area": null,
      "grid_auto_columns": null,
      "grid_auto_flow": null,
      "grid_auto_rows": null,
      "grid_column": null,
      "grid_gap": null,
      "grid_row": null,
      "grid_template_areas": null,
      "grid_template_columns": null,
      "grid_template_rows": null,
      "height": null,
      "justify_content": null,
      "justify_items": null,
      "left": null,
      "margin": null,
      "max_height": null,
      "max_width": null,
      "min_height": null,
      "min_width": null,
      "object_fit": null,
      "object_position": null,
      "order": null,
      "overflow": null,
      "overflow_x": null,
      "overflow_y": null,
      "padding": null,
      "right": null,
      "top": null,
      "visibility": null,
      "width": null
     }
    },
    "8a19953bfdfc42db8a6e7c1937939beb": {
     "model_module": "@jupyter-widgets/base",
     "model_module_version": "1.2.0",
     "model_name": "LayoutModel",
     "state": {
      "_model_module": "@jupyter-widgets/base",
      "_model_module_version": "1.2.0",
      "_model_name": "LayoutModel",
      "_view_count": null,
      "_view_module": "@jupyter-widgets/base",
      "_view_module_version": "1.2.0",
      "_view_name": "LayoutView",
      "align_content": null,
      "align_items": null,
      "align_self": null,
      "border": null,
      "bottom": null,
      "display": null,
      "flex": null,
      "flex_flow": null,
      "grid_area": null,
      "grid_auto_columns": null,
      "grid_auto_flow": null,
      "grid_auto_rows": null,
      "grid_column": null,
      "grid_gap": null,
      "grid_row": null,
      "grid_template_areas": null,
      "grid_template_columns": null,
      "grid_template_rows": null,
      "height": null,
      "justify_content": null,
      "justify_items": null,
      "left": null,
      "margin": null,
      "max_height": null,
      "max_width": null,
      "min_height": null,
      "min_width": null,
      "object_fit": null,
      "object_position": null,
      "order": null,
      "overflow": null,
      "overflow_x": null,
      "overflow_y": null,
      "padding": null,
      "right": null,
      "top": null,
      "visibility": null,
      "width": null
     }
    },
    "8aa72a3fdb2e4885a3881e073300bab1": {
     "model_module": "@jupyter-widgets/base",
     "model_module_version": "1.2.0",
     "model_name": "LayoutModel",
     "state": {
      "_model_module": "@jupyter-widgets/base",
      "_model_module_version": "1.2.0",
      "_model_name": "LayoutModel",
      "_view_count": null,
      "_view_module": "@jupyter-widgets/base",
      "_view_module_version": "1.2.0",
      "_view_name": "LayoutView",
      "align_content": null,
      "align_items": null,
      "align_self": null,
      "border": null,
      "bottom": null,
      "display": null,
      "flex": null,
      "flex_flow": null,
      "grid_area": null,
      "grid_auto_columns": null,
      "grid_auto_flow": null,
      "grid_auto_rows": null,
      "grid_column": null,
      "grid_gap": null,
      "grid_row": null,
      "grid_template_areas": null,
      "grid_template_columns": null,
      "grid_template_rows": null,
      "height": null,
      "justify_content": null,
      "justify_items": null,
      "left": null,
      "margin": null,
      "max_height": null,
      "max_width": null,
      "min_height": null,
      "min_width": null,
      "object_fit": null,
      "object_position": null,
      "order": null,
      "overflow": null,
      "overflow_x": null,
      "overflow_y": null,
      "padding": null,
      "right": null,
      "top": null,
      "visibility": null,
      "width": null
     }
    },
    "8f55b4ab8017419292be880c5cf11daf": {
     "model_module": "@jupyter-widgets/base",
     "model_module_version": "1.2.0",
     "model_name": "LayoutModel",
     "state": {
      "_model_module": "@jupyter-widgets/base",
      "_model_module_version": "1.2.0",
      "_model_name": "LayoutModel",
      "_view_count": null,
      "_view_module": "@jupyter-widgets/base",
      "_view_module_version": "1.2.0",
      "_view_name": "LayoutView",
      "align_content": null,
      "align_items": null,
      "align_self": null,
      "border": null,
      "bottom": null,
      "display": null,
      "flex": null,
      "flex_flow": null,
      "grid_area": null,
      "grid_auto_columns": null,
      "grid_auto_flow": null,
      "grid_auto_rows": null,
      "grid_column": null,
      "grid_gap": null,
      "grid_row": null,
      "grid_template_areas": null,
      "grid_template_columns": null,
      "grid_template_rows": null,
      "height": null,
      "justify_content": null,
      "justify_items": null,
      "left": null,
      "margin": null,
      "max_height": null,
      "max_width": null,
      "min_height": null,
      "min_width": null,
      "object_fit": null,
      "object_position": null,
      "order": null,
      "overflow": null,
      "overflow_x": null,
      "overflow_y": null,
      "padding": null,
      "right": null,
      "top": null,
      "visibility": null,
      "width": null
     }
    },
    "91405f27f07e4d8fb7ddc43dc8ae8793": {
     "model_module": "@jupyter-widgets/controls",
     "model_module_version": "1.5.0",
     "model_name": "DescriptionStyleModel",
     "state": {
      "_model_module": "@jupyter-widgets/controls",
      "_model_module_version": "1.5.0",
      "_model_name": "DescriptionStyleModel",
      "_view_count": null,
      "_view_module": "@jupyter-widgets/base",
      "_view_module_version": "1.2.0",
      "_view_name": "StyleView",
      "description_width": ""
     }
    },
    "9664688a12954d52bba13934a04b1390": {
     "model_module": "@jupyter-widgets/base",
     "model_module_version": "1.2.0",
     "model_name": "LayoutModel",
     "state": {
      "_model_module": "@jupyter-widgets/base",
      "_model_module_version": "1.2.0",
      "_model_name": "LayoutModel",
      "_view_count": null,
      "_view_module": "@jupyter-widgets/base",
      "_view_module_version": "1.2.0",
      "_view_name": "LayoutView",
      "align_content": null,
      "align_items": null,
      "align_self": null,
      "border": null,
      "bottom": null,
      "display": null,
      "flex": null,
      "flex_flow": null,
      "grid_area": null,
      "grid_auto_columns": null,
      "grid_auto_flow": null,
      "grid_auto_rows": null,
      "grid_column": null,
      "grid_gap": null,
      "grid_row": null,
      "grid_template_areas": null,
      "grid_template_columns": null,
      "grid_template_rows": null,
      "height": null,
      "justify_content": null,
      "justify_items": null,
      "left": null,
      "margin": null,
      "max_height": null,
      "max_width": null,
      "min_height": null,
      "min_width": null,
      "object_fit": null,
      "object_position": null,
      "order": null,
      "overflow": null,
      "overflow_x": null,
      "overflow_y": null,
      "padding": null,
      "right": null,
      "top": null,
      "visibility": null,
      "width": null
     }
    },
    "9bc4d601e41540728c040763930e3539": {
     "model_module": "@jupyter-widgets/controls",
     "model_module_version": "1.5.0",
     "model_name": "HTMLModel",
     "state": {
      "_dom_classes": [],
      "_model_module": "@jupyter-widgets/controls",
      "_model_module_version": "1.5.0",
      "_model_name": "HTMLModel",
      "_view_count": null,
      "_view_module": "@jupyter-widgets/controls",
      "_view_module_version": "1.5.0",
      "_view_name": "HTMLView",
      "description": "",
      "description_tooltip": null,
      "layout": "IPY_MODEL_3b5dfeefe7d64478b63fa3555e0bdb27",
      "placeholder": "​",
      "style": "IPY_MODEL_298af5dbafc348ca88cc5d8f174db65a",
      "value": "Downloading: 100%"
     }
    },
    "9c4e0c7608d84b05bfb80252170b546d": {
     "model_module": "@jupyter-widgets/base",
     "model_module_version": "1.2.0",
     "model_name": "LayoutModel",
     "state": {
      "_model_module": "@jupyter-widgets/base",
      "_model_module_version": "1.2.0",
      "_model_name": "LayoutModel",
      "_view_count": null,
      "_view_module": "@jupyter-widgets/base",
      "_view_module_version": "1.2.0",
      "_view_name": "LayoutView",
      "align_content": null,
      "align_items": null,
      "align_self": null,
      "border": null,
      "bottom": null,
      "display": null,
      "flex": null,
      "flex_flow": null,
      "grid_area": null,
      "grid_auto_columns": null,
      "grid_auto_flow": null,
      "grid_auto_rows": null,
      "grid_column": null,
      "grid_gap": null,
      "grid_row": null,
      "grid_template_areas": null,
      "grid_template_columns": null,
      "grid_template_rows": null,
      "height": null,
      "justify_content": null,
      "justify_items": null,
      "left": null,
      "margin": null,
      "max_height": null,
      "max_width": null,
      "min_height": null,
      "min_width": null,
      "object_fit": null,
      "object_position": null,
      "order": null,
      "overflow": null,
      "overflow_x": null,
      "overflow_y": null,
      "padding": null,
      "right": null,
      "top": null,
      "visibility": null,
      "width": "20px"
     }
    },
    "9ddc6e45f6f34686a0e1e689975b36f3": {
     "model_module": "@jupyter-widgets/controls",
     "model_module_version": "1.5.0",
     "model_name": "HBoxModel",
     "state": {
      "_dom_classes": [],
      "_model_module": "@jupyter-widgets/controls",
      "_model_module_version": "1.5.0",
      "_model_name": "HBoxModel",
      "_view_count": null,
      "_view_module": "@jupyter-widgets/controls",
      "_view_module_version": "1.5.0",
      "_view_name": "HBoxView",
      "box_style": "",
      "children": [
       "IPY_MODEL_9bc4d601e41540728c040763930e3539",
       "IPY_MODEL_69171d8d1e9c4f2d855a2ece271fd8a9",
       "IPY_MODEL_453942255200448ca1498fb7df55f004"
      ],
      "layout": "IPY_MODEL_226757e2e9cf4b95b28c29751307a2c2"
     }
    },
    "a019d115674f4629bc946808cd83ffd2": {
     "model_module": "@jupyter-widgets/base",
     "model_module_version": "1.2.0",
     "model_name": "LayoutModel",
     "state": {
      "_model_module": "@jupyter-widgets/base",
      "_model_module_version": "1.2.0",
      "_model_name": "LayoutModel",
      "_view_count": null,
      "_view_module": "@jupyter-widgets/base",
      "_view_module_version": "1.2.0",
      "_view_name": "LayoutView",
      "align_content": null,
      "align_items": null,
      "align_self": null,
      "border": null,
      "bottom": null,
      "display": null,
      "flex": null,
      "flex_flow": null,
      "grid_area": null,
      "grid_auto_columns": null,
      "grid_auto_flow": null,
      "grid_auto_rows": null,
      "grid_column": null,
      "grid_gap": null,
      "grid_row": null,
      "grid_template_areas": null,
      "grid_template_columns": null,
      "grid_template_rows": null,
      "height": null,
      "justify_content": null,
      "justify_items": null,
      "left": null,
      "margin": null,
      "max_height": null,
      "max_width": null,
      "min_height": null,
      "min_width": null,
      "object_fit": null,
      "object_position": null,
      "order": null,
      "overflow": null,
      "overflow_x": null,
      "overflow_y": null,
      "padding": null,
      "right": null,
      "top": null,
      "visibility": null,
      "width": null
     }
    },
    "a0f2188a7e9f4614890f69ce7e037567": {
     "model_module": "@jupyter-widgets/base",
     "model_module_version": "1.2.0",
     "model_name": "LayoutModel",
     "state": {
      "_model_module": "@jupyter-widgets/base",
      "_model_module_version": "1.2.0",
      "_model_name": "LayoutModel",
      "_view_count": null,
      "_view_module": "@jupyter-widgets/base",
      "_view_module_version": "1.2.0",
      "_view_name": "LayoutView",
      "align_content": null,
      "align_items": null,
      "align_self": null,
      "border": null,
      "bottom": null,
      "display": null,
      "flex": null,
      "flex_flow": null,
      "grid_area": null,
      "grid_auto_columns": null,
      "grid_auto_flow": null,
      "grid_auto_rows": null,
      "grid_column": null,
      "grid_gap": null,
      "grid_row": null,
      "grid_template_areas": null,
      "grid_template_columns": null,
      "grid_template_rows": null,
      "height": null,
      "justify_content": null,
      "justify_items": null,
      "left": null,
      "margin": null,
      "max_height": null,
      "max_width": null,
      "min_height": null,
      "min_width": null,
      "object_fit": null,
      "object_position": null,
      "order": null,
      "overflow": null,
      "overflow_x": null,
      "overflow_y": null,
      "padding": null,
      "right": null,
      "top": null,
      "visibility": null,
      "width": null
     }
    },
    "b028ebdf3916459db6d567c9f5a41e49": {
     "model_module": "@jupyter-widgets/controls",
     "model_module_version": "1.5.0",
     "model_name": "HTMLModel",
     "state": {
      "_dom_classes": [],
      "_model_module": "@jupyter-widgets/controls",
      "_model_module_version": "1.5.0",
      "_model_name": "HTMLModel",
      "_view_count": null,
      "_view_module": "@jupyter-widgets/controls",
      "_view_module_version": "1.5.0",
      "_view_name": "HTMLView",
      "description": "",
      "description_tooltip": null,
      "layout": "IPY_MODEL_8a19953bfdfc42db8a6e7c1937939beb",
      "placeholder": "​",
      "style": "IPY_MODEL_05d521c2e5ea4853869c43b05c128ddb",
      "value": ""
     }
    },
    "c11f43bb056a4745bc9c9db5d7569d81": {
     "model_module": "@jupyter-widgets/controls",
     "model_module_version": "1.5.0",
     "model_name": "HBoxModel",
     "state": {
      "_dom_classes": [],
      "_model_module": "@jupyter-widgets/controls",
      "_model_module_version": "1.5.0",
      "_model_name": "HBoxModel",
      "_view_count": null,
      "_view_module": "@jupyter-widgets/controls",
      "_view_module_version": "1.5.0",
      "_view_name": "HBoxView",
      "box_style": "",
      "children": [
       "IPY_MODEL_559f88c21756465eba8a098a32614d5a",
       "IPY_MODEL_c1d1384c92cf462abb8917ed7250016e",
       "IPY_MODEL_fb346cf774ec4f9c8a0a0773f0eb4d54"
      ],
      "layout": "IPY_MODEL_a019d115674f4629bc946808cd83ffd2"
     }
    },
    "c1d1384c92cf462abb8917ed7250016e": {
     "model_module": "@jupyter-widgets/controls",
     "model_module_version": "1.5.0",
     "model_name": "FloatProgressModel",
     "state": {
      "_dom_classes": [],
      "_model_module": "@jupyter-widgets/controls",
      "_model_module_version": "1.5.0",
      "_model_name": "FloatProgressModel",
      "_view_count": null,
      "_view_module": "@jupyter-widgets/controls",
      "_view_module_version": "1.5.0",
      "_view_name": "ProgressView",
      "bar_style": "success",
      "description": "",
      "description_tooltip": null,
      "layout": "IPY_MODEL_a0f2188a7e9f4614890f69ce7e037567",
      "max": 510421097,
      "min": 0,
      "orientation": "horizontal",
      "style": "IPY_MODEL_7ac7b5d016704e83a4ebbe69c00e0da9",
      "value": 510421097
     }
    },
    "c2dc952872fa49a7a6f338a16dfa1f81": {
     "model_module": "@jupyter-widgets/controls",
     "model_module_version": "1.5.0",
     "model_name": "DescriptionStyleModel",
     "state": {
      "_model_module": "@jupyter-widgets/controls",
      "_model_module_version": "1.5.0",
      "_model_name": "DescriptionStyleModel",
      "_view_count": null,
      "_view_module": "@jupyter-widgets/base",
      "_view_module_version": "1.2.0",
      "_view_name": "StyleView",
      "description_width": ""
     }
    },
    "cd589e8f84c44dddb5674479a254c59f": {
     "model_module": "@jupyter-widgets/controls",
     "model_module_version": "1.5.0",
     "model_name": "FloatProgressModel",
     "state": {
      "_dom_classes": [],
      "_model_module": "@jupyter-widgets/controls",
      "_model_module_version": "1.5.0",
      "_model_name": "FloatProgressModel",
      "_view_count": null,
      "_view_module": "@jupyter-widgets/controls",
      "_view_module_version": "1.5.0",
      "_view_name": "ProgressView",
      "bar_style": "success",
      "description": "",
      "description_tooltip": null,
      "layout": "IPY_MODEL_9c4e0c7608d84b05bfb80252170b546d",
      "max": 1,
      "min": 0,
      "orientation": "horizontal",
      "style": "IPY_MODEL_43add0846a6a49c78143354b2e54f17c",
      "value": 0
     }
    },
    "e46e6171c366473095519e1efee5d30f": {
     "model_module": "@jupyter-widgets/controls",
     "model_module_version": "1.5.0",
     "model_name": "ProgressStyleModel",
     "state": {
      "_model_module": "@jupyter-widgets/controls",
      "_model_module_version": "1.5.0",
      "_model_name": "ProgressStyleModel",
      "_view_count": null,
      "_view_module": "@jupyter-widgets/base",
      "_view_module_version": "1.2.0",
      "_view_name": "StyleView",
      "bar_color": null,
      "description_width": ""
     }
    },
    "fb346cf774ec4f9c8a0a0773f0eb4d54": {
     "model_module": "@jupyter-widgets/controls",
     "model_module_version": "1.5.0",
     "model_name": "HTMLModel",
     "state": {
      "_dom_classes": [],
      "_model_module": "@jupyter-widgets/controls",
      "_model_module_version": "1.5.0",
      "_model_name": "HTMLModel",
      "_view_count": null,
      "_view_module": "@jupyter-widgets/controls",
      "_view_module_version": "1.5.0",
      "_view_name": "HTMLView",
      "description": "",
      "description_tooltip": null,
      "layout": "IPY_MODEL_9664688a12954d52bba13934a04b1390",
      "placeholder": "​",
      "style": "IPY_MODEL_3bc0d87b91d14e49b1a547b3f7e63b98",
      "value": " 510M/510M [00:20&lt;00:00, 47.7MB/s]"
     }
    },
    "fea6174ed53044b5ab54433d67e6167f": {
     "model_module": "@jupyter-widgets/controls",
     "model_module_version": "1.5.0",
     "model_name": "HBoxModel",
     "state": {
      "_dom_classes": [],
      "_model_module": "@jupyter-widgets/controls",
      "_model_module_version": "1.5.0",
      "_model_name": "HBoxModel",
      "_view_count": null,
      "_view_module": "@jupyter-widgets/controls",
      "_view_module_version": "1.5.0",
      "_view_name": "HBoxView",
      "box_style": "",
      "children": [
       "IPY_MODEL_b028ebdf3916459db6d567c9f5a41e49",
       "IPY_MODEL_cd589e8f84c44dddb5674479a254c59f",
       "IPY_MODEL_16426aaea5c2467d898b936b67fa4d22"
      ],
      "layout": "IPY_MODEL_6c000b9dab3f457296c8df4412f3098d"
     }
    }
   }
  }
 },
 "nbformat": 4,
 "nbformat_minor": 1
}
