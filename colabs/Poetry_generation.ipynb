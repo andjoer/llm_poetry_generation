{
  "nbformat": 4,
  "nbformat_minor": 0,
  "metadata": {
    "colab": {
      "name": "Poetry_generation.ipynb",
      "provenance": [],
      "machine_shape": "hm",
      "authorship_tag": "ABX9TyMOiBD3gXxRAwMh1+UOQCeb",
      "include_colab_link": true
    },
    "kernelspec": {
      "name": "python3",
      "display_name": "Python 3"
    },
    "language_info": {
      "name": "python"
    },
    "accelerator": "GPU",
    "gpuClass": "standard"
  },
  "cells": [
    {
      "cell_type": "markdown",
      "metadata": {
        "id": "view-in-github",
        "colab_type": "text"
      },
      "source": [
        "<a href=\"https://colab.research.google.com/github/andjoer/llm_poetry_generation/blob/main/colabs/Poetry_generation.ipynb\" target=\"_parent\"><img src=\"https://colab.research.google.com/assets/colab-badge.svg\" alt=\"Open In Colab\"/></a>"
      ]
    },
    {
      "cell_type": "markdown",
      "source": [
        "# Creating metrically correct and rhyming poetry with large language models\n",
        "\n",
        "- you need to select a Colab runtime with high Ram and a GPU accelerator"
      ],
      "metadata": {
        "id": "7lWrD9ZStllq"
      }
    },
    {
      "cell_type": "markdown",
      "source": [
        "### Cloning the github repository and changing directory"
      ],
      "metadata": {
        "id": "4CnsxzhxbsMT"
      }
    },
    {
      "cell_type": "code",
      "execution_count": null,
      "metadata": {
        "id": "gf9dZFmMIVFo"
      },
      "outputs": [],
      "source": [
        "! git clone https://github.com/andjoer/llm_poetry_generation.git\n",
        "\n",
        "%cd llm_poetry_generation\n"
      ]
    },
    {
      "cell_type": "markdown",
      "source": [
        "###Check if connected to a GPU"
      ],
      "metadata": {
        "id": "nYdNuvrac72u"
      }
    },
    {
      "cell_type": "code",
      "source": [
        "!nvidia-smi"
      ],
      "metadata": {
        "id": "spcA5xw8c5IG"
      },
      "execution_count": null,
      "outputs": []
    },
    {
      "cell_type": "markdown",
      "source": [
        "### Installing the required packages\n",
        "\n",
        "some pip errors might be ignored"
      ],
      "metadata": {
        "id": "Fp7kxl4qcDw-"
      }
    },
    {
      "cell_type": "code",
      "source": [
        "! pip install -r requirements.txt"
      ],
      "metadata": {
        "id": "7r3yyRFGSh-d"
      },
      "execution_count": null,
      "outputs": []
    },
    {
      "cell_type": "code",
      "source": [
        "# since google colab is not an empty environment\n",
        "!pip3 install torchvision==0.11.2 torchaudio==0.10.1 torchtext==0.11.1"
      ],
      "metadata": {
        "id": "Y2yUkAg3j2kY"
      },
      "execution_count": null,
      "outputs": []
    },
    {
      "cell_type": "markdown",
      "source": [
        "### Download Spacy model"
      ],
      "metadata": {
        "id": "ARPfuLUhqVak"
      }
    },
    {
      "cell_type": "code",
      "source": [
        "!python -m spacy download \"de_core_news_lg\""
      ],
      "metadata": {
        "id": "hGOul_H8p_DG"
      },
      "execution_count": null,
      "outputs": []
    },
    {
      "cell_type": "markdown",
      "source": [
        "## If you would like to use GPT3"
      ],
      "metadata": {
        "id": "GYkIulPhWGat"
      }
    },
    {
      "cell_type": "code",
      "source": [
        "%env OPENAI_API_KEY=\"\"\n",
        "%env OPENAI_API_ID=\"\""
      ],
      "metadata": {
        "id": "IWnXwCllS9ei"
      },
      "execution_count": null,
      "outputs": []
    },
    {
      "cell_type": "markdown",
      "source": [
        "## If you would like to check the rhyme of words using the spectrogram of the tts generated words\n",
        "\n",
        "Amazon AWS credentials for using Polly\n"
      ],
      "metadata": {
        "id": "GZxgND2sWJ3c"
      }
    },
    {
      "cell_type": "code",
      "source": [
        "%env POLLY_API_KEY=\"\"\n",
        "%env POLLY_API_ID=\"\""
      ],
      "metadata": {
        "id": "MHK9-P5FTEsV"
      },
      "execution_count": null,
      "outputs": []
    },
    {
      "cell_type": "markdown",
      "source": [
        "## Importing the main function\n",
        "You need to be connected to a GPU accelerated environment"
      ],
      "metadata": {
        "id": "LCZKa-GucKIS"
      }
    },
    {
      "cell_type": "code",
      "source": [
        "from poetry_generator import start_poetry_generation"
      ],
      "metadata": {
        "id": "O7QoP3bTTjoa"
      },
      "execution_count": null,
      "outputs": []
    },
    {
      "cell_type": "code",
      "source": [
        "jambus = [0,1]\n",
        "trochee = [1,0]\n",
        "\n",
        "prompt = '''Die Philosophie ist ein schlechtes Metier.\n",
        "Wahrhaftig, ich begreife nie,\n",
        "Warum man treibt Philosophie.\n",
        "Sie ist langweilig und bringt nichts ein,\n",
        "Und gottlos ist sie obendrein;'''\n",
        "\n",
        "num_syll_list =[9,11]                               # number of syllables of one Verse; if it is a list\n",
        "                                                    # the length of the verses will iterate accordingly\n",
        "                                                                    \n",
        "rhyme_scheme = 'abab'                               # if '' the program will not look for rhymes (much faster)\n",
        "\n",
        "rythm = jambus "
      ],
      "metadata": {
        "id": "rJBfaBv_TLeI"
      },
      "execution_count": null,
      "outputs": []
    },
    {
      "cell_type": "code",
      "source": [
        "start_poetry_generation(prompt,\n",
        "                        rythm,\n",
        "                        num_syll_list,\n",
        "                        rhyme_scheme,\n",
        "                        shots = 1,                           # number of time the algorithm generates the verse; afterwards it selects the one with lowest perplexity\n",
        "                        loops = 1,                           # number of poems to generate\n",
        "                        LLM='GPT2-large',\n",
        "                        LLM_rhyme='GPT2-large',\n",
        "                        use_tts = False)                     # if you have entered the credentials for the aws account"
      ],
      "metadata": {
        "id": "kg7OewrTTeBx",
        "collapsed": true
      },
      "execution_count": null,
      "outputs": []
    }
  ]
}