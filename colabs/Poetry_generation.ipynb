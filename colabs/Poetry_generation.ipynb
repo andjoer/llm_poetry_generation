{
  "nbformat": 4,
  "nbformat_minor": 0,
  "metadata": {
    "colab": {
      "name": "Poetry_generation.ipynb",
      "provenance": [],
      "machine_shape": "hm",
      "include_colab_link": true
    },
    "kernelspec": {
      "name": "python3",
      "display_name": "Python 3"
    },
    "language_info": {
      "name": "python"
    },
    "accelerator": "GPU",
    "gpuClass": "standard"
  },
  "cells": [
    {
      "cell_type": "markdown",
      "metadata": {
        "id": "view-in-github",
        "colab_type": "text"
      },
      "source": [
        "<a href=\"https://colab.research.google.com/github/andjoer/llm_poetry_generation/blob/main/colabs/Poetry_generation.ipynb\" target=\"_parent\"><img src=\"https://colab.research.google.com/assets/colab-badge.svg\" alt=\"Open In Colab\"/></a>"
      ]
    },
    {
      "cell_type": "markdown",
      "source": [
        "# Creating metrically correct and rhyming poetry with large language models\n",
        "\n",
        "- a Colab runtime with high Ram needs to be selected\n",
        "- it may take a while until everything is loaded\n",
        "- click the 'Run all' button\n",
        "\n",
        "\n",
        "<img src = 'https://github.com/andjoer/llm_poetry_generation/blob/main/graphics/colab_en.jpg?raw=true'>\n",
        "\n",
        "German\n",
        "\n",
        "\n",
        "\n",
        "<img src = 'https://github.com/andjoer/llm_poetry_generation/blob/main/graphics/colab.jpg?raw=true'>\n"
      ],
      "metadata": {
        "id": "7lWrD9ZStllq"
      }
    },
    {
      "cell_type": "markdown",
      "source": [
        "### Cloning the github repository and changing directory"
      ],
      "metadata": {
        "id": "4CnsxzhxbsMT"
      }
    },
    {
      "cell_type": "code",
      "execution_count": null,
      "metadata": {
        "id": "gf9dZFmMIVFo"
      },
      "outputs": [],
      "source": [
        "! git clone https://github.com/andjoer/llm_poetry_generation.git\n",
        "\n",
        "%cd llm_poetry_generation\n"
      ]
    },
    {
      "cell_type": "markdown",
      "source": [
        "###Check if connected to a GPU"
      ],
      "metadata": {
        "id": "nYdNuvrac72u"
      }
    },
    {
      "cell_type": "code",
      "source": [
        "!nvidia-smi"
      ],
      "metadata": {
        "id": "spcA5xw8c5IG",
        "colab": {
          "base_uri": "https://localhost:8080/"
        },
        "outputId": "4ee4280e-8f78-4461-9e0c-e441f5faaf90"
      },
      "execution_count": null,
      "outputs": [
        {
          "output_type": "stream",
          "name": "stdout",
          "text": [
            "Wed Jun 22 17:16:07 2022       \n",
            "+-----------------------------------------------------------------------------+\n",
            "| NVIDIA-SMI 460.32.03    Driver Version: 460.32.03    CUDA Version: 11.2     |\n",
            "|-------------------------------+----------------------+----------------------+\n",
            "| GPU  Name        Persistence-M| Bus-Id        Disp.A | Volatile Uncorr. ECC |\n",
            "| Fan  Temp  Perf  Pwr:Usage/Cap|         Memory-Usage | GPU-Util  Compute M. |\n",
            "|                               |                      |               MIG M. |\n",
            "|===============================+======================+======================|\n",
            "|   0  Tesla P100-PCIE...  Off  | 00000000:00:04.0 Off |                    0 |\n",
            "| N/A   43C    P0    30W / 250W |      0MiB / 16280MiB |      0%      Default |\n",
            "|                               |                      |                  N/A |\n",
            "+-------------------------------+----------------------+----------------------+\n",
            "                                                                               \n",
            "+-----------------------------------------------------------------------------+\n",
            "| Processes:                                                                  |\n",
            "|  GPU   GI   CI        PID   Type   Process name                  GPU Memory |\n",
            "|        ID   ID                                                   Usage      |\n",
            "|=============================================================================|\n",
            "|  No running processes found                                                 |\n",
            "+-----------------------------------------------------------------------------+\n"
          ]
        }
      ]
    },
    {
      "cell_type": "markdown",
      "source": [
        "### Installing the required packages\n",
        "\n",
        "some pip errors might be ignored"
      ],
      "metadata": {
        "id": "Fp7kxl4qcDw-"
      }
    },
    {
      "cell_type": "code",
      "source": [
        "! pip install -r requirements.txt"
      ],
      "metadata": {
        "id": "7r3yyRFGSh-d"
      },
      "execution_count": null,
      "outputs": []
    },
    {
      "cell_type": "code",
      "source": [
        "# since google colab is not an empty environment\n",
        "!pip3 install torchvision==0.11.2 torchaudio==0.10.1 torchtext==0.11.1\n",
        "\n",
        "!mkdir output"
      ],
      "metadata": {
        "id": "Y2yUkAg3j2kY"
      },
      "execution_count": null,
      "outputs": []
    },
    {
      "cell_type": "markdown",
      "source": [
        "### Download Spacy model"
      ],
      "metadata": {
        "id": "ARPfuLUhqVak"
      }
    },
    {
      "cell_type": "code",
      "source": [
        "!python -m spacy download \"de_core_news_lg\""
      ],
      "metadata": {
        "id": "hGOul_H8p_DG"
      },
      "execution_count": null,
      "outputs": []
    },
    {
      "cell_type": "markdown",
      "source": [
        "## If GPT3 should be used\n",
        "Example for syntax: \n",
        "\n",
        "%env OPENAI_API_KEY=jr-mdhcvu9kd"
      ],
      "metadata": {
        "id": "GYkIulPhWGat"
      }
    },
    {
      "cell_type": "code",
      "source": [
        "%env OPENAI_API_KEY=\n",
        "%env OPENAI_API_ID="
      ],
      "metadata": {
        "id": "IWnXwCllS9ei"
      },
      "execution_count": null,
      "outputs": []
    },
    {
      "cell_type": "markdown",
      "source": [
        "## If the spectrogram of words created with Amazon Polly should be used to detect rhymes\n",
        "\n",
        "Amazon AWS credentials for using Polly\n"
      ],
      "metadata": {
        "id": "GZxgND2sWJ3c"
      }
    },
    {
      "cell_type": "code",
      "source": [
        "%env POLLY_API_KEY=\n",
        "%env POLLY_API_ID="
      ],
      "metadata": {
        "id": "MHK9-P5FTEsV"
      },
      "execution_count": null,
      "outputs": []
    },
    {
      "cell_type": "markdown",
      "source": [
        "## Importing the main function\n",
        "You need to be connected to a GPU accelerated environment"
      ],
      "metadata": {
        "id": "LCZKa-GucKIS"
      }
    },
    {
      "cell_type": "code",
      "source": [
        "from poetry_generator import start_poetry_generation"
      ],
      "metadata": {
        "id": "O7QoP3bTTjoa"
      },
      "execution_count": null,
      "outputs": []
    },
    {
      "cell_type": "markdown",
      "source": [
        "## Define the inputs"
      ],
      "metadata": {
        "id": "vllbsFIT2U-k"
      }
    },
    {
      "cell_type": "code",
      "source": [
        "jambus = [0,1]\n",
        "trochee = [1,0]\n",
        "\n",
        "prompt = '''Die Philosophie ist ein schlechtes Metier.\n",
        "Wahrhaftig, ich begreife nie,\n",
        "Warum man treibt Philosophie.\n",
        "Sie ist langweilig und bringt nichts ein,\n",
        "Und gottlos ist sie obendrein;'''\n",
        "\n",
        "num_syll_list =[9,11]                               # number of syllables of one Verse; if it is a list\n",
        "                                                    # the length of the verses will iterate accordingly\n",
        "                                                                    \n",
        "rhyme_scheme = 'abab'                               # if '' the program will not look for rhymes (much faster)\n",
        "\n",
        "rythm = jambus "
      ],
      "metadata": {
        "id": "rJBfaBv_TLeI"
      },
      "execution_count": null,
      "outputs": []
    },
    {
      "cell_type": "markdown",
      "source": [
        "# Start generating\n",
        "the result will be saved in llm_poetry_generation/output"
      ],
      "metadata": {
        "id": "rdsKBsyN2bJr"
      }
    },
    {
      "cell_type": "code",
      "source": [
        "start_poetry_generation(prompt,\n",
        "                        rythm,\n",
        "                        num_syll_list,\n",
        "                        rhyme_scheme,\n",
        "                        shots = 1,                           # number of time the algorithm generates the verse; afterwards it selects the one with lowest perplexity\n",
        "                        loops = 1,                           # number of poems to generate\n",
        "                        LLM='GPT2-large',\n",
        "                        LLM_rhyme='GPT2-large',\n",
        "                        use_tts = False)                     # if you have entered the credentials for the aws account"
      ],
      "metadata": {
        "id": "kg7OewrTTeBx",
        "collapsed": true
      },
      "execution_count": null,
      "outputs": []
    },
    {
      "cell_type": "markdown",
      "source": [
        "# Finding rhymes for existing poetry"
      ],
      "metadata": {
        "id": "c9dOm0xBfBcy"
      }
    },
    {
      "cell_type": "code",
      "source": [
        "from rythm_utils import verse_cl\n"
      ],
      "metadata": {
        "id": "k8uGr6dJNL6T"
      },
      "execution_count": null,
      "outputs": []
    },
    {
      "cell_type": "code",
      "source": [
        "poem = '''Da geht er hinaus in den Wald, \n",
        "von Gedanken gezogen und erfüllt,\n",
        "das Licht gar unerreichbar scheint,\n",
        "doch nun ist es soweit er sieht'''\n",
        "\n",
        "rhyming_lines = [1,3]"
      ],
      "metadata": {
        "id": "NGc52hDJNVor"
      },
      "execution_count": null,
      "outputs": []
    },
    {
      "cell_type": "code",
      "source": [
        "rhyming_lines.sort()\n",
        "\n",
        "text_lst = poem.split('\\n')\n",
        "verse_lst = [verse_cl(text) for text in text_lst]\n",
        "\n",
        "idx_1 = rhyming_lines[0]-1\n",
        "idx_2 = rhyming_lines[1]-1\n",
        "\n",
        "\n",
        "verse_lst[idx_1].context = ' '.join(text_lst[:idx_1])    \n",
        "verse_lst[idx_2].context = ' '.join(text_lst[:idx_2])\n"
      ],
      "metadata": {
        "id": "oMyA-jPTfOZN"
      },
      "execution_count": null,
      "outputs": []
    },
    {
      "cell_type": "code",
      "source": [
        "from rhyme import find_rhyme"
      ],
      "metadata": {
        "id": "wB3HH9CEfT5k"
      },
      "execution_count": null,
      "outputs": []
    },
    {
      "cell_type": "markdown",
      "source": [
        "### Start the search\n",
        "\n",
        "the function above is first creating alternatives for the verse endings with gpt and bert. It returns the alternatives for both verses as list (first and second). It also checks if some alternatives would rhyme with different methods"
      ],
      "metadata": {
        "id": "qUtpfE0Ofi6C"
      }
    },
    {
      "cell_type": "code",
      "source": [
        "_, first, second = find_rhyme(verse_lst,\n",
        "                              idx_1,\n",
        "                              idx_2,\n",
        "                              [],\n",
        "                              last_stress = -2, \n",
        "                              detection_method ='neural',\n",
        "                              LLM='GPT2-large',\n",
        "                              use_tts = False,\n",
        "                              return_alternatives=True)"
      ],
      "metadata": {
        "id": "8N0kfEVLfV1b"
      },
      "execution_count": null,
      "outputs": []
    },
    {
      "cell_type": "code",
      "source": [
        "first"
      ],
      "metadata": {
        "id": "Nca3cAcvgAFI"
      },
      "execution_count": null,
      "outputs": []
    },
    {
      "cell_type": "code",
      "source": [
        "second"
      ],
      "metadata": {
        "id": "iQ4yEc9DgBGq"
      },
      "execution_count": null,
      "outputs": []
    },
    {
      "cell_type": "markdown",
      "source": [
        "# The inner workings of the rhyme detection mechanism\n",
        "\n",
        "Method 3 - comparing the mfcc features of words - is explained in an other colab notebook\n",
        "## Method 1: colone phonetics\n",
        "https://de.wikipedia.org/wiki/K%C3%B6lner_Phonetik\n",
        "\n",
        "The words are converted into a number while the distance between the numbers reflect the difference in the sound of the words.\n",
        "\n",
        "\n"
      ],
      "metadata": {
        "id": "d8y9pZwiX0gX"
      }
    },
    {
      "cell_type": "code",
      "source": [
        "from rhyme_detection.colone_phonetics import colone_phonetics"
      ],
      "metadata": {
        "id": "lmDmYVOFXZ5V"
      },
      "execution_count": null,
      "outputs": []
    },
    {
      "cell_type": "code",
      "source": [
        "colone_phonetics('Gedicht')"
      ],
      "metadata": {
        "colab": {
          "base_uri": "https://localhost:8080/"
        },
        "id": "WWn70krAXdJ4",
        "outputId": "1aac3282-3e5b-4027-e996-ac4b9214c06f"
      },
      "execution_count": null,
      "outputs": [
        {
          "output_type": "execute_result",
          "data": {
            "text/plain": [
              "[4, 0, 2, 0, 4, 2]"
            ]
          },
          "metadata": {},
          "execution_count": 7
        }
      ]
    },
    {
      "cell_type": "markdown",
      "source": [
        "## Method 2: siamese recurrent network\n",
        "The network maps the words into a vectorspace. Words that are rhyming are closer to each other compared to non rhyming pairs"
      ],
      "metadata": {
        "id": "e6YGrKJ5YhT0"
      }
    },
    {
      "cell_type": "code",
      "source": [
        "from sia_rhyme.siamese_rhyme import siamese_rhyme\n",
        "rhyme_model = siamese_rhyme()"
      ],
      "metadata": {
        "id": "slTIsyBwXe9S"
      },
      "execution_count": null,
      "outputs": []
    },
    {
      "cell_type": "code",
      "source": [
        "vector_1 = rhyme_model.get_word_vec('gehen')\n",
        "vector_1"
      ],
      "metadata": {
        "colab": {
          "base_uri": "https://localhost:8080/"
        },
        "id": "ZZzRTq3TXgVb",
        "outputId": "c04e8657-5f41-4267-b074-f347bb55cf92"
      },
      "execution_count": null,
      "outputs": [
        {
          "output_type": "execute_result",
          "data": {
            "text/plain": [
              "tensor([[-0.5856,  0.7474,  0.1178, -0.0544, -0.0271,  0.3719, -0.2101,  0.4195,\n",
              "          0.3779,  0.0342, -0.4246, -0.3210,  0.7679, -0.0753,  0.0470,  0.0611,\n",
              "          0.0807, -0.0652, -0.3461,  0.4887, -0.1806,  0.0458, -0.2565,  0.4855,\n",
              "          0.1426, -0.0724,  0.4419,  0.3535, -0.2769,  0.0636, -0.1953,  0.3511,\n",
              "          0.7090,  0.8421,  0.6162,  0.5989,  0.6668, -0.3263, -0.7324,  0.3969,\n",
              "         -0.1411, -0.0125,  0.0048,  0.0571, -0.1915, -0.1740,  0.4161, -0.3785,\n",
              "         -0.3235,  0.8206,  0.4755,  0.2791,  0.0385, -0.1753,  0.1664,  0.4155,\n",
              "         -0.4856, -0.1417,  0.0729, -0.6723, -0.2852, -0.3127,  0.2243, -0.0176,\n",
              "          0.2686,  0.0457, -0.0650,  0.3836, -0.3010, -0.2898,  0.6069,  0.3057,\n",
              "         -0.6498, -0.6421,  0.0050,  0.4717,  0.0602, -0.5515,  0.3163,  0.4609,\n",
              "         -0.4097, -0.8044,  0.3902,  0.1557,  0.6025, -0.2303,  0.0567, -0.7864,\n",
              "         -0.0780, -0.1755, -0.3927, -0.8881,  0.4535, -0.4321,  0.1614, -0.0957,\n",
              "         -0.3500,  0.3394,  0.4920, -0.7076,  0.4003, -0.5089,  0.2852,  0.0332,\n",
              "         -0.6161,  0.3279, -1.0132, -0.8240,  0.7656, -0.1559, -0.6582,  0.0342,\n",
              "          0.5463, -0.0887, -0.3521,  0.4942,  0.4880,  0.1909, -0.4377,  0.2040,\n",
              "         -0.4325, -0.0802,  0.3339, -0.5792,  0.2015, -0.4499, -0.0174,  0.1122]],\n",
              "       device='cuda:0', grad_fn=<AddmmBackward0>)"
            ]
          },
          "metadata": {},
          "execution_count": 9
        }
      ]
    },
    {
      "cell_type": "code",
      "source": [
        "vector_2 = rhyme_model.get_word_vec('sägen')"
      ],
      "metadata": {
        "id": "qwIY8MlkXh0O"
      },
      "execution_count": null,
      "outputs": []
    },
    {
      "cell_type": "code",
      "source": [
        "rhyme_model.vector_distance(vector_1,vector_2)"
      ],
      "metadata": {
        "colab": {
          "base_uri": "https://localhost:8080/"
        },
        "id": "SgeEb3ZDXkCb",
        "outputId": "12854b0e-7fde-40bf-86a6-6685b514d888"
      },
      "execution_count": null,
      "outputs": [
        {
          "output_type": "execute_result",
          "data": {
            "text/plain": [
              "array([0.16701883], dtype=float32)"
            ]
          },
          "metadata": {},
          "execution_count": 11
        }
      ]
    },
    {
      "cell_type": "markdown",
      "source": [
        "# Finding the rythm of words\n",
        "\n",
        "The words are translated into the IPA phonetic alphabet. This notation contains signs for primary and secondary word stress. In the output a non stressed syllable is translated to 0, a secondary stress to 0.5 and a primary stress to 1. Words that have no word stress get a 0 or 1 dependent on the type of the word"
      ],
      "metadata": {
        "id": "_ZZ0t1liZF6g"
      }
    },
    {
      "cell_type": "code",
      "source": [
        "from rythm_utils import get_rythm"
      ],
      "metadata": {
        "id": "W3P9V7RjXljh"
      },
      "execution_count": null,
      "outputs": []
    },
    {
      "cell_type": "code",
      "source": [
        "get_rythm('Bibliothek')"
      ],
      "metadata": {
        "colab": {
          "base_uri": "https://localhost:8080/"
        },
        "id": "oByEedgzXm_R",
        "outputId": "0c361beb-4ddd-4784-c500-07bede00c739"
      },
      "execution_count": null,
      "outputs": [
        {
          "output_type": "execute_result",
          "data": {
            "text/plain": [
              "array([0., 0., 1.])"
            ]
          },
          "metadata": {},
          "execution_count": 13
        }
      ]
    },
    {
      "cell_type": "code",
      "source": [
        "from ortho_to_ipa.ortho_to_ipa import ortho_to_ipa\n",
        "import os\n",
        "\n",
        "dirname = ''\n",
        "m_path = os.path.join(dirname, 'ortho_to_ipa/model')\n",
        "\n",
        "otoi = ortho_to_ipa(load = True,fname_ortho= m_path +'/ortho.pt',\n",
        "                    fname_ipa=m_path +'/ipa.pt',fname_model=m_path +'/ortho_to_ipa.pt')"
      ],
      "metadata": {
        "id": "NnhMA7fAXo_f"
      },
      "execution_count": null,
      "outputs": []
    },
    {
      "cell_type": "code",
      "source": [
        "otoi.translate('seyn')"
      ],
      "metadata": {
        "colab": {
          "base_uri": "https://localhost:8080/",
          "height": 35
        },
        "id": "ZESmtPcmXqVF",
        "outputId": "a1ef5cf2-a1cb-49b3-956d-34ae8428bdd6"
      },
      "execution_count": null,
      "outputs": [
        {
          "output_type": "execute_result",
          "data": {
            "text/plain": [
              "'zɛɪ̯n'"
            ],
            "application/vnd.google.colaboratory.intrinsic+json": {
              "type": "string"
            }
          },
          "metadata": {},
          "execution_count": 15
        }
      ]
    },
    {
      "cell_type": "code",
      "source": [
        "otoi.translate('eynerley')"
      ],
      "metadata": {
        "colab": {
          "base_uri": "https://localhost:8080/",
          "height": 35
        },
        "id": "722U0OV4XrpI",
        "outputId": "83343147-9c7d-42dc-d3ae-409d594bf978"
      },
      "execution_count": null,
      "outputs": [
        {
          "output_type": "execute_result",
          "data": {
            "text/plain": [
              "'ˈaɪ̯nɐllɪ̯'"
            ],
            "application/vnd.google.colaboratory.intrinsic+json": {
              "type": "string"
            }
          },
          "metadata": {},
          "execution_count": 16
        }
      ]
    }
  ]
}