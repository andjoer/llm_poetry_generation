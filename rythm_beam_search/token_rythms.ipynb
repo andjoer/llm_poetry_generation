{
 "cells": [
  {
   "cell_type": "markdown",
   "metadata": {},
   "source": [
    "# Create the metrical dictionarys\n",
    "from words of the german wiktionary and the poetry corpus from projekt gutenberg"
   ]
  },
  {
   "cell_type": "code",
   "execution_count": 20,
   "metadata": {},
   "outputs": [],
   "source": [
    "from transformers import AutoTokenizer\n",
    "import pandas as pd\n",
    "from rythm_utils import get_rythm, get_rythm_ipa, rythm_comp_adaptive\n",
    "import math\n",
    "from collections import Counter\n",
    "import pickle\n",
    "from tqdm.notebook import tqdm\n",
    "import spacy\n",
    "tqdm.pandas()\n",
    "nlp = spacy.load(\"de_core_news_lg\")"
   ]
  },
  {
   "cell_type": "code",
   "execution_count": 2,
   "metadata": {},
   "outputs": [],
   "source": [
    "df = pd.read_csv('data_tools/wiktionary/wiktionary_data.csv')"
   ]
  },
  {
   "cell_type": "code",
   "execution_count": 3,
   "metadata": {},
   "outputs": [
    {
     "data": {
      "application/vnd.jupyter.widget-view+json": {
       "model_id": "a8af3276a14441da895d861de97061c5",
       "version_major": 2,
       "version_minor": 0
      },
      "text/plain": [
       "  0%|          | 0/758600 [00:00<?, ?it/s]"
      ]
     },
     "metadata": {},
     "output_type": "display_data"
    }
   ],
   "source": [
    "df['rythm'] = df.progress_apply(lambda x: get_rythm_ipa(x.word,x.ipa),axis=1)"
   ]
  },
  {
   "cell_type": "code",
   "execution_count": 53,
   "metadata": {},
   "outputs": [
    {
     "data": {
      "text/html": [
       "<div>\n",
       "<style scoped>\n",
       "    .dataframe tbody tr th:only-of-type {\n",
       "        vertical-align: middle;\n",
       "    }\n",
       "\n",
       "    .dataframe tbody tr th {\n",
       "        vertical-align: top;\n",
       "    }\n",
       "\n",
       "    .dataframe thead th {\n",
       "        text-align: right;\n",
       "    }\n",
       "</style>\n",
       "<table border=\"1\" class=\"dataframe\">\n",
       "  <thead>\n",
       "    <tr style=\"text-align: right;\">\n",
       "      <th></th>\n",
       "      <th>Unnamed: 0</th>\n",
       "      <th>word</th>\n",
       "      <th>ipa</th>\n",
       "      <th>label</th>\n",
       "      <th>rhyme</th>\n",
       "      <th>sep</th>\n",
       "      <th>rythm</th>\n",
       "    </tr>\n",
       "  </thead>\n",
       "  <tbody>\n",
       "    <tr>\n",
       "      <th>0</th>\n",
       "      <td>0</td>\n",
       "      <td>hallo</td>\n",
       "      <td>['haˈloː']</td>\n",
       "      <td>substantiv</td>\n",
       "      <td>['oː']</td>\n",
       "      <td>[['Hal·lo', 'Hal·los']]</td>\n",
       "      <td>[0.0, 1.0]</td>\n",
       "    </tr>\n",
       "    <tr>\n",
       "      <th>1</th>\n",
       "      <td>1</td>\n",
       "      <td>subfamilia</td>\n",
       "      <td>['']</td>\n",
       "      <td>substantiv</td>\n",
       "      <td>[]</td>\n",
       "      <td>[['Sub·fa·mi·lia', 'Sub·fa·mi·li·ae']]</td>\n",
       "      <td>[0.5]</td>\n",
       "    </tr>\n",
       "    <tr>\n",
       "      <th>2</th>\n",
       "      <td>2</td>\n",
       "      <td>subregnum</td>\n",
       "      <td>['zʊpˈʁeːɡnʊm']</td>\n",
       "      <td>substantiv</td>\n",
       "      <td>[]</td>\n",
       "      <td>[['Sub·reg·num', 'Sub·reg·na']]</td>\n",
       "      <td>[0.0, 1.0, 0.0]</td>\n",
       "    </tr>\n",
       "    <tr>\n",
       "      <th>3</th>\n",
       "      <td>3</td>\n",
       "      <td>subdivisio</td>\n",
       "      <td>['zʊpdiˈviːzi̯o']</td>\n",
       "      <td>substantiv</td>\n",
       "      <td>[]</td>\n",
       "      <td>[['Sub·di·vi·sio', 'Sub·di·vi·si·o·nes']]</td>\n",
       "      <td>[0.0, 0.0, 1.0, 0.0]</td>\n",
       "    </tr>\n",
       "    <tr>\n",
       "      <th>4</th>\n",
       "      <td>4</td>\n",
       "      <td>phylum</td>\n",
       "      <td>['ˈfyːlʊm']</td>\n",
       "      <td>substantiv</td>\n",
       "      <td>['yːlʊm']</td>\n",
       "      <td>[['Phy·lum', 'Phy·la']]</td>\n",
       "      <td>[1.0, 0.0]</td>\n",
       "    </tr>\n",
       "    <tr>\n",
       "      <th>5</th>\n",
       "      <td>5</td>\n",
       "      <td>superphylum</td>\n",
       "      <td>['ˌzupɐˈfyːlʊm']</td>\n",
       "      <td>substantiv</td>\n",
       "      <td>['yːlʊm']</td>\n",
       "      <td>[['Su·per·phy·lum', 'Su·per·phy·la']]</td>\n",
       "      <td>[0.5, 0.0, 1.0, 0.0]</td>\n",
       "    </tr>\n",
       "    <tr>\n",
       "      <th>6</th>\n",
       "      <td>6</td>\n",
       "      <td>subphylum</td>\n",
       "      <td>['ˌzʊpˈfyːlʊm']</td>\n",
       "      <td>substantiv</td>\n",
       "      <td>['yːlʊm']</td>\n",
       "      <td>[['Sub·phy·lum', 'Sub·phy·la']]</td>\n",
       "      <td>[0.5, 1.0, 0.0]</td>\n",
       "    </tr>\n",
       "    <tr>\n",
       "      <th>7</th>\n",
       "      <td>7</td>\n",
       "      <td>subordo</td>\n",
       "      <td>['ˌzʊpˈʔɔʁdo']</td>\n",
       "      <td>substantiv</td>\n",
       "      <td>[]</td>\n",
       "      <td>[['Sub·or·do', 'Sub·or·di·nes']]</td>\n",
       "      <td>[0.5, 1.0, 0.0]</td>\n",
       "    </tr>\n",
       "    <tr>\n",
       "      <th>8</th>\n",
       "      <td>8</td>\n",
       "      <td>subgenus</td>\n",
       "      <td>['ˌzʊpˈɡeːnʊs']</td>\n",
       "      <td>substantiv</td>\n",
       "      <td>['eːnʊs']</td>\n",
       "      <td>[['Sub·ge·nus', 'Sub·ge·ne·ra']]</td>\n",
       "      <td>[0.5, 1.0, 0.0]</td>\n",
       "    </tr>\n",
       "    <tr>\n",
       "      <th>9</th>\n",
       "      <td>9</td>\n",
       "      <td>subspezies</td>\n",
       "      <td>['ˈzʊpʃpeːt͡si̯ɛs', 'ˈzʊpspeːt͡si̯ɛs']</td>\n",
       "      <td>substantiv</td>\n",
       "      <td>[]</td>\n",
       "      <td>[['Sub·spe·zi·es', 'Sub·spe·zi·es']]</td>\n",
       "      <td>[1.0, 0.0, 0.0, 0.0]</td>\n",
       "    </tr>\n",
       "  </tbody>\n",
       "</table>\n",
       "</div>"
      ],
      "text/plain": [
       "   Unnamed: 0         word                                     ipa  \\\n",
       "0           0        hallo                              ['haˈloː']   \n",
       "1           1   subfamilia                                    ['']   \n",
       "2           2    subregnum                         ['zʊpˈʁeːɡnʊm']   \n",
       "3           3   subdivisio                       ['zʊpdiˈviːzi̯o']   \n",
       "4           4       phylum                             ['ˈfyːlʊm']   \n",
       "5           5  superphylum                        ['ˌzupɐˈfyːlʊm']   \n",
       "6           6    subphylum                         ['ˌzʊpˈfyːlʊm']   \n",
       "7           7      subordo                          ['ˌzʊpˈʔɔʁdo']   \n",
       "8           8     subgenus                         ['ˌzʊpˈɡeːnʊs']   \n",
       "9           9   subspezies  ['ˈzʊpʃpeːt͡si̯ɛs', 'ˈzʊpspeːt͡si̯ɛs']   \n",
       "\n",
       "        label      rhyme                                        sep  \\\n",
       "0  substantiv     ['oː']                    [['Hal·lo', 'Hal·los']]   \n",
       "1  substantiv         []     [['Sub·fa·mi·lia', 'Sub·fa·mi·li·ae']]   \n",
       "2  substantiv         []            [['Sub·reg·num', 'Sub·reg·na']]   \n",
       "3  substantiv         []  [['Sub·di·vi·sio', 'Sub·di·vi·si·o·nes']]   \n",
       "4  substantiv  ['yːlʊm']                    [['Phy·lum', 'Phy·la']]   \n",
       "5  substantiv  ['yːlʊm']      [['Su·per·phy·lum', 'Su·per·phy·la']]   \n",
       "6  substantiv  ['yːlʊm']            [['Sub·phy·lum', 'Sub·phy·la']]   \n",
       "7  substantiv         []           [['Sub·or·do', 'Sub·or·di·nes']]   \n",
       "8  substantiv  ['eːnʊs']           [['Sub·ge·nus', 'Sub·ge·ne·ra']]   \n",
       "9  substantiv         []       [['Sub·spe·zi·es', 'Sub·spe·zi·es']]   \n",
       "\n",
       "                  rythm  \n",
       "0            [0.0, 1.0]  \n",
       "1                 [0.5]  \n",
       "2       [0.0, 1.0, 0.0]  \n",
       "3  [0.0, 0.0, 1.0, 0.0]  \n",
       "4            [1.0, 0.0]  \n",
       "5  [0.5, 0.0, 1.0, 0.0]  \n",
       "6       [0.5, 1.0, 0.0]  \n",
       "7       [0.5, 1.0, 0.0]  \n",
       "8       [0.5, 1.0, 0.0]  \n",
       "9  [1.0, 0.0, 0.0, 0.0]  "
      ]
     },
     "execution_count": 53,
     "metadata": {},
     "output_type": "execute_result"
    }
   ],
   "source": [
    "df.head(10)"
   ]
  },
  {
   "cell_type": "code",
   "execution_count": 5,
   "metadata": {},
   "outputs": [],
   "source": [
    "stressed = ['substantiv',\n",
    " 'verb',\n",
    " 'adjektiv',\n",
    " 'eigenname',\n",
    " 'adverb',\n",
    " 'gebundenes lexem',\n",
    " 'deklinierte form',\n",
    " 'vorname',\n",
    " 'redewendung',\n",
    " 'nachname',\n",
    " 'konjugierte form',\n",
    " 'kontraktion',\n",
    " 'grußformel',\n",
    " 'zahlklassifikator',\n",
    " 'konjunktion',\n",
    " 'numerale',\n",
    " 'onomatopoetikum',\n",
    " 'sprichwort',\n",
    " 'pronomen',\n",
    " 'partizip ii',\n",
    " 'komparativ',\n",
    " 'superlativ',\n",
    " 'pronominaladverb',\n",
    " 'geflügeltes wort',\n",
    " 'modaladverb',\n",
    " 'lokaladverb',\n",
    " 'merkspruch',\n",
    " 'partizip i',\n",
    " 'formel',\n",
    " 'postposition',\n",
    " 'interrogativadverb',\n",
    " 'wiederholungszahlwort',\n",
    " 'erweiterter infinitiv',\n",
    " 'adjektiv ',\n",
    " 'pseudopartizip',\n",
    " 'straßenname',\n",
    " 'dekliniertes gerundivum']"
   ]
  },
  {
   "cell_type": "code",
   "execution_count": 6,
   "metadata": {},
   "outputs": [
    {
     "data": {
      "application/vnd.jupyter.widget-view+json": {
       "model_id": "d1a25e4c298e45fca1f1e97f3d8b670a",
       "version_major": 2,
       "version_minor": 0
      },
      "text/plain": [
       "  0%|          | 0/758600 [00:00<?, ?it/s]"
      ]
     },
     "metadata": {},
     "output_type": "display_data"
    },
    {
     "data": {
      "text/html": [
       "<div>\n",
       "<style scoped>\n",
       "    .dataframe tbody tr th:only-of-type {\n",
       "        vertical-align: middle;\n",
       "    }\n",
       "\n",
       "    .dataframe tbody tr th {\n",
       "        vertical-align: top;\n",
       "    }\n",
       "\n",
       "    .dataframe thead th {\n",
       "        text-align: right;\n",
       "    }\n",
       "</style>\n",
       "<table border=\"1\" class=\"dataframe\">\n",
       "  <thead>\n",
       "    <tr style=\"text-align: right;\">\n",
       "      <th></th>\n",
       "      <th>word</th>\n",
       "      <th>rythm</th>\n",
       "    </tr>\n",
       "  </thead>\n",
       "  <tbody>\n",
       "    <tr>\n",
       "      <th>0</th>\n",
       "      <td>hallo</td>\n",
       "      <td>[0.0, 1.0]</td>\n",
       "    </tr>\n",
       "    <tr>\n",
       "      <th>1</th>\n",
       "      <td>subfamilia</td>\n",
       "      <td>[1]</td>\n",
       "    </tr>\n",
       "    <tr>\n",
       "      <th>2</th>\n",
       "      <td>subregnum</td>\n",
       "      <td>[0.0, 1.0, 0.0]</td>\n",
       "    </tr>\n",
       "    <tr>\n",
       "      <th>3</th>\n",
       "      <td>subdivisio</td>\n",
       "      <td>[0.0, 0.0, 1.0, 0.0]</td>\n",
       "    </tr>\n",
       "    <tr>\n",
       "      <th>4</th>\n",
       "      <td>phylum</td>\n",
       "      <td>[1.0, 0.0]</td>\n",
       "    </tr>\n",
       "  </tbody>\n",
       "</table>\n",
       "</div>"
      ],
      "text/plain": [
       "         word                 rythm\n",
       "0       hallo            [0.0, 1.0]\n",
       "1  subfamilia                   [1]\n",
       "2   subregnum       [0.0, 1.0, 0.0]\n",
       "3  subdivisio  [0.0, 0.0, 1.0, 0.0]\n",
       "4      phylum            [1.0, 0.0]"
      ]
     },
     "execution_count": 6,
     "metadata": {},
     "output_type": "execute_result"
    }
   ],
   "source": [
    "rythm_df = df[['word','rythm']]\n",
    "for index, row in tqdm(df.iterrows(), total=df.shape[0]):\n",
    "    if row['label'] in stressed and row['rythm'][0] == 0.5:\n",
    "        rythm_df.at[index,'rythm'] = [1]\n",
    "rythm_df.head()"
   ]
  },
  {
   "cell_type": "code",
   "execution_count": 8,
   "metadata": {},
   "outputs": [
    {
     "data": {
      "application/vnd.jupyter.widget-view+json": {
       "model_id": "77fce07a21d34958a4c588cf991cb08b",
       "version_major": 2,
       "version_minor": 0
      },
      "text/plain": [
       "  0%|          | 0/152904 [00:00<?, ?it/s]"
      ]
     },
     "metadata": {},
     "output_type": "display_data"
    }
   ],
   "source": [
    "vocabulary = list(rythm_df['word'])\n",
    "\n",
    "missing_vocab = []\n",
    "\n",
    "gutenberg_vocab_df = pd.read_csv('data_tools/gutenberg/gutenberg_vocabulary.csv')\n",
    "gutenberg_vocab = list(gutenberg_vocab_df['vocab'])\n",
    "\n",
    "for word in tqdm(gutenberg_vocab): \n",
    "    if word not in vocabulary:\n",
    "        missing_vocab.append(word)"
   ]
  },
  {
   "cell_type": "code",
   "execution_count": 13,
   "metadata": {},
   "outputs": [],
   "source": [
    "gb_rythm_df = pd.DataFrame(missing_vocab, columns=['word'])"
   ]
  },
  {
   "cell_type": "code",
   "execution_count": 14,
   "metadata": {},
   "outputs": [
    {
     "data": {
      "text/html": [
       "<div>\n",
       "<style scoped>\n",
       "    .dataframe tbody tr th:only-of-type {\n",
       "        vertical-align: middle;\n",
       "    }\n",
       "\n",
       "    .dataframe tbody tr th {\n",
       "        vertical-align: top;\n",
       "    }\n",
       "\n",
       "    .dataframe thead th {\n",
       "        text-align: right;\n",
       "    }\n",
       "</style>\n",
       "<table border=\"1\" class=\"dataframe\">\n",
       "  <thead>\n",
       "    <tr style=\"text-align: right;\">\n",
       "      <th></th>\n",
       "      <th>word</th>\n",
       "    </tr>\n",
       "  </thead>\n",
       "  <tbody>\n",
       "    <tr>\n",
       "      <th>0</th>\n",
       "      <td>görg</td>\n",
       "    </tr>\n",
       "    <tr>\n",
       "      <th>1</th>\n",
       "      <td>möcht</td>\n",
       "    </tr>\n",
       "    <tr>\n",
       "      <th>2</th>\n",
       "      <td>geschehn</td>\n",
       "    </tr>\n",
       "    <tr>\n",
       "      <th>3</th>\n",
       "      <td>heissem</td>\n",
       "    </tr>\n",
       "    <tr>\n",
       "      <th>4</th>\n",
       "      <td>nem</td>\n",
       "    </tr>\n",
       "  </tbody>\n",
       "</table>\n",
       "</div>"
      ],
      "text/plain": [
       "       word\n",
       "0      görg\n",
       "1     möcht\n",
       "2  geschehn\n",
       "3   heissem\n",
       "4       nem"
      ]
     },
     "execution_count": 14,
     "metadata": {},
     "output_type": "execute_result"
    }
   ],
   "source": [
    "gb_rythm_df.head()"
   ]
  },
  {
   "cell_type": "code",
   "execution_count": 15,
   "metadata": {},
   "outputs": [
    {
     "data": {
      "application/vnd.jupyter.widget-view+json": {
       "model_id": "77e545b00d2d46979657e816bbb7fb97",
       "version_major": 2,
       "version_minor": 0
      },
      "text/plain": [
       "  0%|          | 0/91499 [00:00<?, ?it/s]"
      ]
     },
     "metadata": {},
     "output_type": "display_data"
    }
   ],
   "source": [
    "gb_rythm_df['rythm'] = gb_rythm_df.progress_apply(lambda x: get_rythm(x.word),axis=1)"
   ]
  },
  {
   "cell_type": "code",
   "execution_count": 18,
   "metadata": {},
   "outputs": [],
   "source": [
    "gb_rythm_df.to_pickle('gutenberg_rythm.pik')"
   ]
  },
  {
   "cell_type": "code",
   "execution_count": 25,
   "metadata": {},
   "outputs": [
    {
     "data": {
      "application/vnd.jupyter.widget-view+json": {
       "model_id": "fa30cc2699074cdd94615d461f21c858",
       "version_major": 2,
       "version_minor": 0
      },
      "text/plain": [
       "  0%|          | 0/91499 [00:00<?, ?it/s]"
      ]
     },
     "metadata": {},
     "output_type": "display_data"
    }
   ],
   "source": [
    "gb_rythm_df['label'] = gb_rythm_df.progress_apply(lambda x: nlp(x.word)[0].pos_,axis=1)"
   ]
  },
  {
   "cell_type": "code",
   "execution_count": 30,
   "metadata": {},
   "outputs": [
    {
     "data": {
      "application/vnd.jupyter.widget-view+json": {
       "model_id": "2e4ee5224b0f4e5d8ceaadc1bb417e63",
       "version_major": 2,
       "version_minor": 0
      },
      "text/plain": [
       "  0%|          | 0/91499 [00:00<?, ?it/s]"
      ]
     },
     "metadata": {},
     "output_type": "display_data"
    },
    {
     "data": {
      "text/html": [
       "<div>\n",
       "<style scoped>\n",
       "    .dataframe tbody tr th:only-of-type {\n",
       "        vertical-align: middle;\n",
       "    }\n",
       "\n",
       "    .dataframe tbody tr th {\n",
       "        vertical-align: top;\n",
       "    }\n",
       "\n",
       "    .dataframe thead th {\n",
       "        text-align: right;\n",
       "    }\n",
       "</style>\n",
       "<table border=\"1\" class=\"dataframe\">\n",
       "  <thead>\n",
       "    <tr style=\"text-align: right;\">\n",
       "      <th></th>\n",
       "      <th>word</th>\n",
       "      <th>rythm</th>\n",
       "    </tr>\n",
       "  </thead>\n",
       "  <tbody>\n",
       "    <tr>\n",
       "      <th>0</th>\n",
       "      <td>görg</td>\n",
       "      <td>[1]</td>\n",
       "    </tr>\n",
       "    <tr>\n",
       "      <th>1</th>\n",
       "      <td>möcht</td>\n",
       "      <td>[1]</td>\n",
       "    </tr>\n",
       "    <tr>\n",
       "      <th>2</th>\n",
       "      <td>geschehn</td>\n",
       "      <td>[0.0, 1.0]</td>\n",
       "    </tr>\n",
       "    <tr>\n",
       "      <th>3</th>\n",
       "      <td>heissem</td>\n",
       "      <td>[1.0, 0.0]</td>\n",
       "    </tr>\n",
       "    <tr>\n",
       "      <th>4</th>\n",
       "      <td>nem</td>\n",
       "      <td>[0.5]</td>\n",
       "    </tr>\n",
       "  </tbody>\n",
       "</table>\n",
       "</div>"
      ],
      "text/plain": [
       "       word       rythm\n",
       "0      görg         [1]\n",
       "1     möcht         [1]\n",
       "2  geschehn  [0.0, 1.0]\n",
       "3   heissem  [1.0, 0.0]\n",
       "4       nem       [0.5]"
      ]
     },
     "execution_count": 30,
     "metadata": {},
     "output_type": "execute_result"
    }
   ],
   "source": [
    "stressed = ['PROPN','ADV','AUX','ADJ','NOUN','VERB']\n",
    "gb_rythm_df_proc = gb_rythm_df[['word','rythm']]\n",
    "for index, row in tqdm(gb_rythm_df.iterrows(), total=gb_rythm_df.shape[0]):\n",
    "    if row['label'] in stressed and row['rythm'][0] == 0.5:\n",
    "        gb_rythm_df_proc.at[index,'rythm'] = [1]\n",
    "gb_rythm_df_proc.head()"
   ]
  },
  {
   "cell_type": "code",
   "execution_count": 33,
   "metadata": {},
   "outputs": [
    {
     "name": "stdout",
     "output_type": "stream",
     "text": [
      "758600\n",
      "850099\n"
     ]
    },
    {
     "data": {
      "text/html": [
       "<div>\n",
       "<style scoped>\n",
       "    .dataframe tbody tr th:only-of-type {\n",
       "        vertical-align: middle;\n",
       "    }\n",
       "\n",
       "    .dataframe tbody tr th {\n",
       "        vertical-align: top;\n",
       "    }\n",
       "\n",
       "    .dataframe thead th {\n",
       "        text-align: right;\n",
       "    }\n",
       "</style>\n",
       "<table border=\"1\" class=\"dataframe\">\n",
       "  <thead>\n",
       "    <tr style=\"text-align: right;\">\n",
       "      <th></th>\n",
       "      <th>word</th>\n",
       "      <th>rythm</th>\n",
       "    </tr>\n",
       "  </thead>\n",
       "  <tbody>\n",
       "    <tr>\n",
       "      <th>0</th>\n",
       "      <td>hallo</td>\n",
       "      <td>[0.0, 1.0]</td>\n",
       "    </tr>\n",
       "    <tr>\n",
       "      <th>1</th>\n",
       "      <td>subfamilia</td>\n",
       "      <td>[1]</td>\n",
       "    </tr>\n",
       "    <tr>\n",
       "      <th>2</th>\n",
       "      <td>subregnum</td>\n",
       "      <td>[0.0, 1.0, 0.0]</td>\n",
       "    </tr>\n",
       "    <tr>\n",
       "      <th>3</th>\n",
       "      <td>subdivisio</td>\n",
       "      <td>[0.0, 0.0, 1.0, 0.0]</td>\n",
       "    </tr>\n",
       "    <tr>\n",
       "      <th>4</th>\n",
       "      <td>phylum</td>\n",
       "      <td>[1.0, 0.0]</td>\n",
       "    </tr>\n",
       "  </tbody>\n",
       "</table>\n",
       "</div>"
      ],
      "text/plain": [
       "         word                 rythm\n",
       "0       hallo            [0.0, 1.0]\n",
       "1  subfamilia                   [1]\n",
       "2   subregnum       [0.0, 1.0, 0.0]\n",
       "3  subdivisio  [0.0, 0.0, 1.0, 0.0]\n",
       "4      phylum            [1.0, 0.0]"
      ]
     },
     "execution_count": 33,
     "metadata": {},
     "output_type": "execute_result"
    }
   ],
   "source": [
    "rythm_df_comp = pd.concat([rythm_df,gb_rythm_df_proc])\n",
    "\n",
    "print(len(rythm_df))\n",
    "print(len(rythm_df_comp))\n",
    "rythm_df_comp.head()"
   ]
  },
  {
   "cell_type": "code",
   "execution_count": 34,
   "metadata": {},
   "outputs": [],
   "source": [
    "rythm_df_comp['matching'] = rythm_df_comp['rythm'].apply(lambda x: rythm_comp_adaptive(x,[[1,0],[0,1]],adaptive = True)\n",
    "                                  if len(x) > 1  else True)\n",
    "rythm_df_comp['start'] = rythm_df_comp['rythm'].apply(lambda x: max([math.ceil(x[0]) - x[1],0]) if len(x) > 1 else x[0]) # 0.5 -> 1 if x[1]=1 else 0.5 -> 0\n",
    "rythm_df_comp['end'] = rythm_df_comp['rythm'].apply(lambda x: max([math.ceil(x[-1]) - x[-2],0]) if len(x) > 1 else x[0]) # 0.5 -> 1 if x[1]=1 else 0.5 -> 0\n",
    "rythm_df_comp['num_syll'] = rythm_df_comp['rythm'].apply(lambda x: len(x)) "
   ]
  },
  {
   "cell_type": "code",
   "execution_count": 35,
   "metadata": {},
   "outputs": [
    {
     "data": {
      "text/html": [
       "<div>\n",
       "<style scoped>\n",
       "    .dataframe tbody tr th:only-of-type {\n",
       "        vertical-align: middle;\n",
       "    }\n",
       "\n",
       "    .dataframe tbody tr th {\n",
       "        vertical-align: top;\n",
       "    }\n",
       "\n",
       "    .dataframe thead th {\n",
       "        text-align: right;\n",
       "    }\n",
       "</style>\n",
       "<table border=\"1\" class=\"dataframe\">\n",
       "  <thead>\n",
       "    <tr style=\"text-align: right;\">\n",
       "      <th></th>\n",
       "      <th>word</th>\n",
       "      <th>rythm</th>\n",
       "      <th>matching</th>\n",
       "      <th>start</th>\n",
       "      <th>end</th>\n",
       "      <th>num_syll</th>\n",
       "    </tr>\n",
       "  </thead>\n",
       "  <tbody>\n",
       "    <tr>\n",
       "      <th>0</th>\n",
       "      <td>hallo</td>\n",
       "      <td>[0.0, 1.0]</td>\n",
       "      <td>True</td>\n",
       "      <td>0.0</td>\n",
       "      <td>1.0</td>\n",
       "      <td>2</td>\n",
       "    </tr>\n",
       "    <tr>\n",
       "      <th>1</th>\n",
       "      <td>subfamilia</td>\n",
       "      <td>[1]</td>\n",
       "      <td>True</td>\n",
       "      <td>1.0</td>\n",
       "      <td>1.0</td>\n",
       "      <td>1</td>\n",
       "    </tr>\n",
       "    <tr>\n",
       "      <th>2</th>\n",
       "      <td>subregnum</td>\n",
       "      <td>[0.0, 1.0, 0.0]</td>\n",
       "      <td>True</td>\n",
       "      <td>0.0</td>\n",
       "      <td>0.0</td>\n",
       "      <td>3</td>\n",
       "    </tr>\n",
       "    <tr>\n",
       "      <th>3</th>\n",
       "      <td>subdivisio</td>\n",
       "      <td>[0.0, 0.0, 1.0, 0.0]</td>\n",
       "      <td>False</td>\n",
       "      <td>0.0</td>\n",
       "      <td>0.0</td>\n",
       "      <td>4</td>\n",
       "    </tr>\n",
       "    <tr>\n",
       "      <th>4</th>\n",
       "      <td>phylum</td>\n",
       "      <td>[1.0, 0.0]</td>\n",
       "      <td>True</td>\n",
       "      <td>1.0</td>\n",
       "      <td>0.0</td>\n",
       "      <td>2</td>\n",
       "    </tr>\n",
       "  </tbody>\n",
       "</table>\n",
       "</div>"
      ],
      "text/plain": [
       "         word                 rythm  matching  start  end  num_syll\n",
       "0       hallo            [0.0, 1.0]      True    0.0  1.0         2\n",
       "1  subfamilia                   [1]      True    1.0  1.0         1\n",
       "2   subregnum       [0.0, 1.0, 0.0]      True    0.0  0.0         3\n",
       "3  subdivisio  [0.0, 0.0, 1.0, 0.0]     False    0.0  0.0         4\n",
       "4      phylum            [1.0, 0.0]      True    1.0  0.0         2"
      ]
     },
     "execution_count": 35,
     "metadata": {},
     "output_type": "execute_result"
    }
   ],
   "source": [
    "rythm_df_comp.head()"
   ]
  },
  {
   "cell_type": "code",
   "execution_count": 36,
   "metadata": {},
   "outputs": [],
   "source": [
    "df_matching = rythm_df_comp.drop(rythm_df_comp[rythm_df_comp.matching == False].index)"
   ]
  },
  {
   "cell_type": "code",
   "execution_count": 37,
   "metadata": {},
   "outputs": [
    {
     "data": {
      "text/html": [
       "<div>\n",
       "<style scoped>\n",
       "    .dataframe tbody tr th:only-of-type {\n",
       "        vertical-align: middle;\n",
       "    }\n",
       "\n",
       "    .dataframe tbody tr th {\n",
       "        vertical-align: top;\n",
       "    }\n",
       "\n",
       "    .dataframe thead th {\n",
       "        text-align: right;\n",
       "    }\n",
       "</style>\n",
       "<table border=\"1\" class=\"dataframe\">\n",
       "  <thead>\n",
       "    <tr style=\"text-align: right;\">\n",
       "      <th></th>\n",
       "      <th>word</th>\n",
       "      <th>rythm</th>\n",
       "      <th>matching</th>\n",
       "      <th>start</th>\n",
       "      <th>end</th>\n",
       "      <th>num_syll</th>\n",
       "    </tr>\n",
       "  </thead>\n",
       "  <tbody>\n",
       "    <tr>\n",
       "      <th>0</th>\n",
       "      <td>hallo</td>\n",
       "      <td>[0.0, 1.0]</td>\n",
       "      <td>True</td>\n",
       "      <td>0.0</td>\n",
       "      <td>1.0</td>\n",
       "      <td>2</td>\n",
       "    </tr>\n",
       "    <tr>\n",
       "      <th>1</th>\n",
       "      <td>subfamilia</td>\n",
       "      <td>[1]</td>\n",
       "      <td>True</td>\n",
       "      <td>1.0</td>\n",
       "      <td>1.0</td>\n",
       "      <td>1</td>\n",
       "    </tr>\n",
       "    <tr>\n",
       "      <th>2</th>\n",
       "      <td>subregnum</td>\n",
       "      <td>[0.0, 1.0, 0.0]</td>\n",
       "      <td>True</td>\n",
       "      <td>0.0</td>\n",
       "      <td>0.0</td>\n",
       "      <td>3</td>\n",
       "    </tr>\n",
       "    <tr>\n",
       "      <th>4</th>\n",
       "      <td>phylum</td>\n",
       "      <td>[1.0, 0.0]</td>\n",
       "      <td>True</td>\n",
       "      <td>1.0</td>\n",
       "      <td>0.0</td>\n",
       "      <td>2</td>\n",
       "    </tr>\n",
       "    <tr>\n",
       "      <th>5</th>\n",
       "      <td>superphylum</td>\n",
       "      <td>[1]</td>\n",
       "      <td>True</td>\n",
       "      <td>1.0</td>\n",
       "      <td>1.0</td>\n",
       "      <td>1</td>\n",
       "    </tr>\n",
       "  </tbody>\n",
       "</table>\n",
       "</div>"
      ],
      "text/plain": [
       "          word            rythm  matching  start  end  num_syll\n",
       "0        hallo       [0.0, 1.0]      True    0.0  1.0         2\n",
       "1   subfamilia              [1]      True    1.0  1.0         1\n",
       "2    subregnum  [0.0, 1.0, 0.0]      True    0.0  0.0         3\n",
       "4       phylum       [1.0, 0.0]      True    1.0  0.0         2\n",
       "5  superphylum              [1]      True    1.0  1.0         1"
      ]
     },
     "execution_count": 37,
     "metadata": {},
     "output_type": "execute_result"
    }
   ],
   "source": [
    "df_matching.head()"
   ]
  },
  {
   "cell_type": "code",
   "execution_count": 38,
   "metadata": {},
   "outputs": [],
   "source": [
    "df_matching.to_csv('rythm_beam_search/word_rythm.csv')"
   ]
  },
  {
   "cell_type": "code",
   "execution_count": 40,
   "metadata": {},
   "outputs": [
    {
     "name": "stderr",
     "output_type": "stream",
     "text": [
      "/home/andreas/.conda/envs/tf36/lib/python3.6/site-packages/ipykernel_launcher.py:4: SettingWithCopyWarning: \n",
      "A value is trying to be set on a copy of a slice from a DataFrame.\n",
      "Try using .loc[row_indexer,col_indexer] = value instead\n",
      "\n",
      "See the caveats in the documentation: https://pandas.pydata.org/pandas-docs/stable/user_guide/indexing.html#returning-a-view-versus-a-copy\n",
      "  after removing the cwd from sys.path.\n",
      "/home/andreas/.conda/envs/tf36/lib/python3.6/site-packages/ipykernel_launcher.py:5: SettingWithCopyWarning: \n",
      "A value is trying to be set on a copy of a slice from a DataFrame.\n",
      "Try using .loc[row_indexer,col_indexer] = value instead\n",
      "\n",
      "See the caveats in the documentation: https://pandas.pydata.org/pandas-docs/stable/user_guide/indexing.html#returning-a-view-versus-a-copy\n",
      "  \"\"\"\n",
      "/home/andreas/.conda/envs/tf36/lib/python3.6/site-packages/ipykernel_launcher.py:6: SettingWithCopyWarning: \n",
      "A value is trying to be set on a copy of a slice from a DataFrame.\n",
      "Try using .loc[row_indexer,col_indexer] = value instead\n",
      "\n",
      "See the caveats in the documentation: https://pandas.pydata.org/pandas-docs/stable/user_guide/indexing.html#returning-a-view-versus-a-copy\n",
      "  \n",
      "/home/andreas/.conda/envs/tf36/lib/python3.6/site-packages/ipykernel_launcher.py:7: SettingWithCopyWarning: \n",
      "A value is trying to be set on a copy of a slice from a DataFrame.\n",
      "Try using .loc[row_indexer,col_indexer] = value instead\n",
      "\n",
      "See the caveats in the documentation: https://pandas.pydata.org/pandas-docs/stable/user_guide/indexing.html#returning-a-view-versus-a-copy\n",
      "  import sys\n"
     ]
    }
   ],
   "source": [
    "# each word could possibly be preceded by a space and capital or not capital\n",
    "tokenizer = AutoTokenizer.from_pretrained('Anjoe/german-poetry-gpt2-large')\n",
    "\n",
    "df_matching['tokens'] = df_matching['word'].apply(lambda x: tokenizer(str(x))['input_ids'] )\n",
    "df_matching['tokens_cap'] = df_matching['word'].apply(lambda x: tokenizer(str(x).capitalize())['input_ids'] )\n",
    "df_matching['tokens_start'] = df_matching['word'].apply(lambda x: tokenizer(' '+ str(x))['input_ids'] )\n",
    "df_matching['tokens_start_cap'] = df_matching['word'].apply(lambda x: tokenizer(' '+ str(x).capitalize())['input_ids'] )"
   ]
  },
  {
   "cell_type": "code",
   "execution_count": 41,
   "metadata": {},
   "outputs": [
    {
     "data": {
      "text/html": [
       "<div>\n",
       "<style scoped>\n",
       "    .dataframe tbody tr th:only-of-type {\n",
       "        vertical-align: middle;\n",
       "    }\n",
       "\n",
       "    .dataframe tbody tr th {\n",
       "        vertical-align: top;\n",
       "    }\n",
       "\n",
       "    .dataframe thead th {\n",
       "        text-align: right;\n",
       "    }\n",
       "</style>\n",
       "<table border=\"1\" class=\"dataframe\">\n",
       "  <thead>\n",
       "    <tr style=\"text-align: right;\">\n",
       "      <th></th>\n",
       "      <th>word</th>\n",
       "      <th>rythm</th>\n",
       "      <th>matching</th>\n",
       "      <th>start</th>\n",
       "      <th>end</th>\n",
       "      <th>num_syll</th>\n",
       "      <th>tokens</th>\n",
       "      <th>tokens_cap</th>\n",
       "      <th>tokens_start</th>\n",
       "      <th>tokens_start_cap</th>\n",
       "    </tr>\n",
       "  </thead>\n",
       "  <tbody>\n",
       "    <tr>\n",
       "      <th>0</th>\n",
       "      <td>hallo</td>\n",
       "      <td>[0.0, 1.0]</td>\n",
       "      <td>True</td>\n",
       "      <td>0.0</td>\n",
       "      <td>1.0</td>\n",
       "      <td>2</td>\n",
       "      <td>[27137]</td>\n",
       "      <td>[3694]</td>\n",
       "      <td>[39424]</td>\n",
       "      <td>[15350]</td>\n",
       "    </tr>\n",
       "    <tr>\n",
       "      <th>1</th>\n",
       "      <td>subfamilia</td>\n",
       "      <td>[1]</td>\n",
       "      <td>True</td>\n",
       "      <td>1.0</td>\n",
       "      <td>1.0</td>\n",
       "      <td>1</td>\n",
       "      <td>[31764, 70, 1115, 1101]</td>\n",
       "      <td>[38781, 70, 1115, 1101]</td>\n",
       "      <td>[13126, 70, 1115, 1101]</td>\n",
       "      <td>[10963, 70, 1115, 1101]</td>\n",
       "    </tr>\n",
       "    <tr>\n",
       "      <th>2</th>\n",
       "      <td>subregnum</td>\n",
       "      <td>[0.0, 1.0, 0.0]</td>\n",
       "      <td>True</td>\n",
       "      <td>0.0</td>\n",
       "      <td>0.0</td>\n",
       "      <td>3</td>\n",
       "      <td>[31764, 2225, 78, 368]</td>\n",
       "      <td>[38781, 2225, 78, 368]</td>\n",
       "      <td>[13126, 2225, 78, 368]</td>\n",
       "      <td>[10963, 2225, 78, 368]</td>\n",
       "    </tr>\n",
       "    <tr>\n",
       "      <th>4</th>\n",
       "      <td>phylum</td>\n",
       "      <td>[1.0, 0.0]</td>\n",
       "      <td>True</td>\n",
       "      <td>1.0</td>\n",
       "      <td>0.0</td>\n",
       "      <td>2</td>\n",
       "      <td>[1456, 6565, 368]</td>\n",
       "      <td>[4203, 6565, 368]</td>\n",
       "      <td>[5409, 6565, 368]</td>\n",
       "      <td>[1823, 6565, 368]</td>\n",
       "    </tr>\n",
       "    <tr>\n",
       "      <th>5</th>\n",
       "      <td>superphylum</td>\n",
       "      <td>[1]</td>\n",
       "      <td>True</td>\n",
       "      <td>1.0</td>\n",
       "      <td>1.0</td>\n",
       "      <td>1</td>\n",
       "      <td>[31841, 1456, 6565, 368]</td>\n",
       "      <td>[9466, 1456, 6565, 368]</td>\n",
       "      <td>[2881, 1456, 6565, 368]</td>\n",
       "      <td>[4071, 1456, 6565, 368]</td>\n",
       "    </tr>\n",
       "  </tbody>\n",
       "</table>\n",
       "</div>"
      ],
      "text/plain": [
       "          word            rythm  matching  start  end  num_syll  \\\n",
       "0        hallo       [0.0, 1.0]      True    0.0  1.0         2   \n",
       "1   subfamilia              [1]      True    1.0  1.0         1   \n",
       "2    subregnum  [0.0, 1.0, 0.0]      True    0.0  0.0         3   \n",
       "4       phylum       [1.0, 0.0]      True    1.0  0.0         2   \n",
       "5  superphylum              [1]      True    1.0  1.0         1   \n",
       "\n",
       "                     tokens               tokens_cap             tokens_start  \\\n",
       "0                   [27137]                   [3694]                  [39424]   \n",
       "1   [31764, 70, 1115, 1101]  [38781, 70, 1115, 1101]  [13126, 70, 1115, 1101]   \n",
       "2    [31764, 2225, 78, 368]   [38781, 2225, 78, 368]   [13126, 2225, 78, 368]   \n",
       "4         [1456, 6565, 368]        [4203, 6565, 368]        [5409, 6565, 368]   \n",
       "5  [31841, 1456, 6565, 368]  [9466, 1456, 6565, 368]  [2881, 1456, 6565, 368]   \n",
       "\n",
       "          tokens_start_cap  \n",
       "0                  [15350]  \n",
       "1  [10963, 70, 1115, 1101]  \n",
       "2   [10963, 2225, 78, 368]  \n",
       "4        [1823, 6565, 368]  \n",
       "5  [4071, 1456, 6565, 368]  "
      ]
     },
     "execution_count": 41,
     "metadata": {},
     "output_type": "execute_result"
    }
   ],
   "source": [
    "df_matching.head()"
   ]
  },
  {
   "cell_type": "code",
   "execution_count": 43,
   "metadata": {},
   "outputs": [],
   "source": [
    "df_matching.to_csv('rythm_beam_search/rythm_token.csv')"
   ]
  },
  {
   "cell_type": "code",
   "execution_count": 44,
   "metadata": {},
   "outputs": [
    {
     "name": "stderr",
     "output_type": "stream",
     "text": [
      "/home/andreas/.conda/envs/tf36/lib/python3.6/site-packages/ipykernel_launcher.py:1: SettingWithCopyWarning: \n",
      "A value is trying to be set on a copy of a slice from a DataFrame.\n",
      "Try using .loc[row_indexer,col_indexer] = value instead\n",
      "\n",
      "See the caveats in the documentation: https://pandas.pydata.org/pandas-docs/stable/user_guide/indexing.html#returning-a-view-versus-a-copy\n",
      "  \"\"\"Entry point for launching an IPython kernel.\n"
     ]
    }
   ],
   "source": [
    "df_matching['length'] = df_matching.apply(lambda x: max(len(x.tokens), len(x.tokens_start)),axis = 1)"
   ]
  },
  {
   "cell_type": "code",
   "execution_count": 46,
   "metadata": {},
   "outputs": [
    {
     "data": {
      "text/html": [
       "<div>\n",
       "<style scoped>\n",
       "    .dataframe tbody tr th:only-of-type {\n",
       "        vertical-align: middle;\n",
       "    }\n",
       "\n",
       "    .dataframe tbody tr th {\n",
       "        vertical-align: top;\n",
       "    }\n",
       "\n",
       "    .dataframe thead th {\n",
       "        text-align: right;\n",
       "    }\n",
       "</style>\n",
       "<table border=\"1\" class=\"dataframe\">\n",
       "  <thead>\n",
       "    <tr style=\"text-align: right;\">\n",
       "      <th></th>\n",
       "      <th>word</th>\n",
       "      <th>rythm</th>\n",
       "      <th>matching</th>\n",
       "      <th>start</th>\n",
       "      <th>end</th>\n",
       "      <th>num_syll</th>\n",
       "      <th>tokens</th>\n",
       "      <th>tokens_cap</th>\n",
       "      <th>tokens_start</th>\n",
       "      <th>tokens_start_cap</th>\n",
       "      <th>length</th>\n",
       "    </tr>\n",
       "  </thead>\n",
       "  <tbody>\n",
       "    <tr>\n",
       "      <th>0</th>\n",
       "      <td>hallo</td>\n",
       "      <td>[0.0, 1.0]</td>\n",
       "      <td>True</td>\n",
       "      <td>0.0</td>\n",
       "      <td>1.0</td>\n",
       "      <td>2</td>\n",
       "      <td>[27137]</td>\n",
       "      <td>[3694]</td>\n",
       "      <td>[39424]</td>\n",
       "      <td>[15350]</td>\n",
       "      <td>1</td>\n",
       "    </tr>\n",
       "    <tr>\n",
       "      <th>1</th>\n",
       "      <td>subfamilia</td>\n",
       "      <td>[1]</td>\n",
       "      <td>True</td>\n",
       "      <td>1.0</td>\n",
       "      <td>1.0</td>\n",
       "      <td>1</td>\n",
       "      <td>[31764, 70, 1115, 1101]</td>\n",
       "      <td>[38781, 70, 1115, 1101]</td>\n",
       "      <td>[13126, 70, 1115, 1101]</td>\n",
       "      <td>[10963, 70, 1115, 1101]</td>\n",
       "      <td>4</td>\n",
       "    </tr>\n",
       "    <tr>\n",
       "      <th>2</th>\n",
       "      <td>subregnum</td>\n",
       "      <td>[0.0, 1.0, 0.0]</td>\n",
       "      <td>True</td>\n",
       "      <td>0.0</td>\n",
       "      <td>0.0</td>\n",
       "      <td>3</td>\n",
       "      <td>[31764, 2225, 78, 368]</td>\n",
       "      <td>[38781, 2225, 78, 368]</td>\n",
       "      <td>[13126, 2225, 78, 368]</td>\n",
       "      <td>[10963, 2225, 78, 368]</td>\n",
       "      <td>4</td>\n",
       "    </tr>\n",
       "    <tr>\n",
       "      <th>4</th>\n",
       "      <td>phylum</td>\n",
       "      <td>[1.0, 0.0]</td>\n",
       "      <td>True</td>\n",
       "      <td>1.0</td>\n",
       "      <td>0.0</td>\n",
       "      <td>2</td>\n",
       "      <td>[1456, 6565, 368]</td>\n",
       "      <td>[4203, 6565, 368]</td>\n",
       "      <td>[5409, 6565, 368]</td>\n",
       "      <td>[1823, 6565, 368]</td>\n",
       "      <td>3</td>\n",
       "    </tr>\n",
       "    <tr>\n",
       "      <th>5</th>\n",
       "      <td>superphylum</td>\n",
       "      <td>[1]</td>\n",
       "      <td>True</td>\n",
       "      <td>1.0</td>\n",
       "      <td>1.0</td>\n",
       "      <td>1</td>\n",
       "      <td>[31841, 1456, 6565, 368]</td>\n",
       "      <td>[9466, 1456, 6565, 368]</td>\n",
       "      <td>[2881, 1456, 6565, 368]</td>\n",
       "      <td>[4071, 1456, 6565, 368]</td>\n",
       "      <td>4</td>\n",
       "    </tr>\n",
       "  </tbody>\n",
       "</table>\n",
       "</div>"
      ],
      "text/plain": [
       "          word            rythm  matching  start  end  num_syll  \\\n",
       "0        hallo       [0.0, 1.0]      True    0.0  1.0         2   \n",
       "1   subfamilia              [1]      True    1.0  1.0         1   \n",
       "2    subregnum  [0.0, 1.0, 0.0]      True    0.0  0.0         3   \n",
       "4       phylum       [1.0, 0.0]      True    1.0  0.0         2   \n",
       "5  superphylum              [1]      True    1.0  1.0         1   \n",
       "\n",
       "                     tokens               tokens_cap             tokens_start  \\\n",
       "0                   [27137]                   [3694]                  [39424]   \n",
       "1   [31764, 70, 1115, 1101]  [38781, 70, 1115, 1101]  [13126, 70, 1115, 1101]   \n",
       "2    [31764, 2225, 78, 368]   [38781, 2225, 78, 368]   [13126, 2225, 78, 368]   \n",
       "4         [1456, 6565, 368]        [4203, 6565, 368]        [5409, 6565, 368]   \n",
       "5  [31841, 1456, 6565, 368]  [9466, 1456, 6565, 368]  [2881, 1456, 6565, 368]   \n",
       "\n",
       "          tokens_start_cap  length  \n",
       "0                  [15350]       1  \n",
       "1  [10963, 70, 1115, 1101]       4  \n",
       "2   [10963, 2225, 78, 368]       4  \n",
       "4        [1823, 6565, 368]       3  \n",
       "5  [4071, 1456, 6565, 368]       4  "
      ]
     },
     "execution_count": 46,
     "metadata": {},
     "output_type": "execute_result"
    }
   ],
   "source": [
    "df_matching.head()"
   ]
  },
  {
   "cell_type": "code",
   "execution_count": 47,
   "metadata": {},
   "outputs": [],
   "source": [
    "df_matching_s = df_matching.drop(df_matching[df_matching.length > 6].index) # this filters a lot of not useful words"
   ]
  },
  {
   "cell_type": "code",
   "execution_count": 49,
   "metadata": {},
   "outputs": [],
   "source": [
    "lst_0 = []\n",
    "lst_1 = []\n",
    "\n",
    "lst_0_s = []  #start of word\n",
    "lst_1_s = []  #start of word\n",
    "for i in range(1,6):\n",
    "    for index, row in df_matching_s.iterrows():\n",
    "        if row['length'] >= i and i > 1:\n",
    "            if row['start'] == 0:\n",
    "                lst_0 += [str(row['tokens'][:i]), str(row['tokens_start'][:i]),\n",
    "                         str(row['tokens_cap'][:i]), str(row['tokens_start_cap'][:i])]\n",
    "                \n",
    "            else: \n",
    "                lst_1 += [str(row['tokens'][:i]), str(row['tokens_start'][:i]),\n",
    "                         str(row['tokens_cap'][:i]), str(row['tokens_start_cap'][:i])]\n",
    "                \n",
    "        elif row['length'] >= i and i == 1:\n",
    "            if row['start'] == 0:\n",
    "                lst_0 += [str(row['tokens'][:i]),str(row['tokens_cap'][:i])]\n",
    "                lst_0_s += [row['tokens_start'][0],row['tokens_start_cap'][0]]\n",
    "                \n",
    "            else: \n",
    "                lst_1 += [str(row['tokens'][:i]),str(row['tokens_cap'][:i])]\n",
    "                lst_1_s += [row['tokens_start'][0],row['tokens_start_cap'][0]]"
   ]
  },
  {
   "cell_type": "code",
   "execution_count": 51,
   "metadata": {},
   "outputs": [],
   "source": [
    "counts_0 = Counter(lst_0)\n",
    "counts_1 = Counter(lst_1)\n",
    "counts_0_s = Counter(lst_0_s)\n",
    "counts_1_s = Counter(lst_1_s)"
   ]
  },
  {
   "cell_type": "code",
   "execution_count": 55,
   "metadata": {},
   "outputs": [
    {
     "data": {
      "text/plain": [
       "112"
      ]
     },
     "execution_count": 55,
     "metadata": {},
     "output_type": "execute_result"
    }
   ],
   "source": [
    "counts_1_s[13126]"
   ]
  },
  {
   "cell_type": "code",
   "execution_count": 56,
   "metadata": {},
   "outputs": [],
   "source": [
    "with open('rythm_beam_search/notstressed', 'wb') as f:\n",
    "    pickle.dump(counts_0,f)\n",
    "    \n",
    "with open('rythm_beam_search/stressed', 'wb') as f:\n",
    "    pickle.dump(counts_1,f)\n",
    "    \n",
    "with open('rythm_beam_search/notstressed_start', 'wb') as f:\n",
    "    pickle.dump(counts_0_s,f)\n",
    "    \n",
    "with open('rythm_beam_search/stressed_start', 'wb') as f:\n",
    "    pickle.dump(counts_1_s,f)"
   ]
  },
  {
   "cell_type": "code",
   "execution_count": null,
   "metadata": {},
   "outputs": [],
   "source": []
  },
  {
   "cell_type": "code",
   "execution_count": 7,
   "metadata": {},
   "outputs": [],
   "source": [
    "# cell to extract the labels\n",
    "labels = []\n",
    "for index, row in df.iterrows():\n",
    "    label = row['label']\n",
    "    if label not in labels: \n",
    "        labels.append(label)"
   ]
  },
  {
   "cell_type": "code",
   "execution_count": null,
   "metadata": {},
   "outputs": [],
   "source": [
    "# list of wiktionary labels\n",
    "'''['substantiv',\n",
    " 'personalpronomen',\n",
    " 'verb',\n",
    " 'adjektiv',\n",
    " 'hilfsverb',\n",
    " 'toponym',\n",
    " 'eigenname',\n",
    " 'abkürzung',\n",
    " 'adverb',\n",
    " 'gebundenes lexem',\n",
    " 'deklinierte form',\n",
    " 'partikel',\n",
    " 'wortverbindung',\n",
    " 'vorname',\n",
    " 'redewendung',\n",
    " 'indefinitpronomen',\n",
    " 'präposition',\n",
    " 'demonstrativpronomen',\n",
    " 'interjektion',\n",
    " 'temporaladverb',\n",
    " 'nachname',\n",
    " 'konjugierte form',\n",
    " 'kontraktion',\n",
    " 'grußformel',\n",
    " 'subjunktion',\n",
    " 'reflexivpronomen',\n",
    " 'zahlklassifikator',\n",
    " 'konjunktion',\n",
    " 'numerale',\n",
    " 'onomatopoetikum',\n",
    " 'artikel',\n",
    " 'sprichwort',\n",
    " 'negationspartikel',\n",
    " 'präfix',\n",
    " 'pronomen',\n",
    " 'antwortpartikel',\n",
    " nan,\n",
    " 'gradpartikel',\n",
    " 'partizip ii',\n",
    " 'komparativ',\n",
    " 'fokuspartikel',\n",
    " 'superlativ',\n",
    " 'konjunktionaladverb',\n",
    " 'präfixoid',\n",
    " 'relativpronomen',\n",
    " 'interrogativpronomen',\n",
    " 'pronominaladverb',\n",
    " 'geflügeltes wort',\n",
    " 'modaladverb',\n",
    " 'possessivpronomen',\n",
    " 'lokaladverb',\n",
    " 'modalpartikel',\n",
    " 'merkspruch',\n",
    " 'partizip i',\n",
    " 'abtönungspartikel',\n",
    " 'formel',\n",
    " 'postposition',\n",
    " 'interrogativadverb',\n",
    " 'wiederholungszahlwort',\n",
    " 'reziprokpronomen',\n",
    " 'erweiterter infinitiv',\n",
    " 'adjektiv ',\n",
    " 'pseudopartizip',\n",
    " 'straßenname',\n",
    " 'dekliniertes gerundivum',\n",
    " 'enklitikon',\n",
    " 'zirkumfix']'''"
   ]
  }
 ],
 "metadata": {
  "kernelspec": {
   "display_name": "Python 3",
   "language": "python",
   "name": "python3"
  },
  "language_info": {
   "codemirror_mode": {
    "name": "ipython",
    "version": 3
   },
   "file_extension": ".py",
   "mimetype": "text/x-python",
   "name": "python",
   "nbconvert_exporter": "python",
   "pygments_lexer": "ipython3",
   "version": "3.6.7"
  }
 },
 "nbformat": 4,
 "nbformat_minor": 2
}
