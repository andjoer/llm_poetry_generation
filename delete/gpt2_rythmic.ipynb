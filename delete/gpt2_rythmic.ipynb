{
 "cells": [
  {
   "cell_type": "code",
   "execution_count": 3,
   "metadata": {},
   "outputs": [],
   "source": [
    "from transformers import GPT2LMHeadModel, GPT2Tokenizer, pipeline\n",
    "\n",
    "import torch\n",
    "import pickle\n",
    "\n",
    "import numpy as np\n",
    "from scipy.special import softmax\n",
    "import random"
   ]
  },
  {
   "cell_type": "code",
   "execution_count": 4,
   "metadata": {},
   "outputs": [],
   "source": [
    "tokenizer = GPT2Tokenizer.from_pretrained('Anjoe/german-poetry-gpt2-large')\n",
    "model = GPT2LMHeadModel.from_pretrained('Anjoe/german-poetry-gpt2-large') \n",
    "#model.eval()"
   ]
  },
  {
   "cell_type": "code",
   "execution_count": 5,
   "metadata": {},
   "outputs": [
    {
     "name": "stdout",
     "output_type": "stream",
     "text": [
      "Du, die du so schön und rein\n",
      "Unsrer\n"
     ]
    }
   ],
   "source": [
    "text = '''Du'''\n",
    "\n",
    "inputs = tokenizer(text,return_tensors='pt')['input_ids']\n",
    "\n",
    "for i in range(10):\n",
    "    \n",
    "    \n",
    "    outputs = model(inputs)\n",
    "    \n",
    "    probabilities = outputs.logits[:,-1,:] \n",
    "  \n",
    "    next_token_sample = torch.argsort(-probabilities)\n",
    "\n",
    "    next_token = next_token_sample[:,0]\n",
    "    #print(next_token)\n",
    "    \n",
    "    inputs = torch.cat((inputs, torch.reshape(next_token,(1,1))),1)\n",
    "    \n",
    "    #print(inputs[0][0])\n",
    "\n",
    "print(tokenizer.decode(inputs[0]))"
   ]
  },
  {
   "cell_type": "code",
   "execution_count": 11,
   "metadata": {},
   "outputs": [],
   "source": [
    "def pred_next(text,target_dict, target_dict_s, top_k = 50,top_cand=10):\n",
    "    \n",
    "    #text = tokenizer.decode(inputs)\n",
    "    inputs = tokenizer(text,return_tensors='pt')['input_ids']\n",
    "    word_lst_0 = text.split()\n",
    "    word_lst = word_lst_0\n",
    "    text_out = text\n",
    "    text_start = text\n",
    "    while True:\n",
    "        \n",
    "        word_lst = text_out.split()\n",
    " \n",
    "        if len(word_lst) > 1:\n",
    "            last_tokens = list(tokenizer.encode(' ' + word_lst[-1]))\n",
    "\n",
    "        else: \n",
    "            last_tokens = list(inputs.cpu().detach().numpy()[0])\n",
    "\n",
    "        if len(word_lst) > (len(word_lst_0)+1):\n",
    "            return text\n",
    "        \n",
    "        text = text_out\n",
    "        \n",
    "        outputs = model(inputs)\n",
    "\n",
    "        probabilities = outputs.logits[:,-1,:]\n",
    "\n",
    "        next_token_sample = torch.argsort(-probabilities)\n",
    "\n",
    "        candidates = next_token_sample[:,:top_k]\n",
    "\n",
    "        scores = []\n",
    "\n",
    "        for idx, cand in enumerate(list(candidates.cpu().detach().numpy()[0])):\n",
    "            score = max(target_dict[str(last_tokens+[cand])],\n",
    "                        target_dict_s[cand])\n",
    "            scores.append(score)    \n",
    "\n",
    "        if not scores:  # reset\n",
    "            text = text_0\n",
    "            text_out = text_0\n",
    "            inputs = tokenizer(text,return_tensors='pt')['input_ids']\n",
    "            \n",
    "        else:\n",
    "            scores = np.asarray(scores)\n",
    "\n",
    "            scores_arg = np.argsort(-scores)\n",
    "            scores_sort = np.sort(-scores)\n",
    "\n",
    "            min_0 = np.max(np.nonzero(scores_sort))+1\n",
    "            scores_arg = np.argsort(-scores)[:min_0]\n",
    "\n",
    "\n",
    "            next_token_idx = random.choice(scores_arg)\n",
    "\n",
    "            next_token = candidates[:,next_token_idx]\n",
    "\n",
    "            inputs = torch.cat((inputs, torch.reshape(next_token,(1,1))),1)\n",
    "\n",
    "            text_out = tokenizer.decode(inputs[0])\n",
    "    \n",
    "    return text_out\n",
    "    \n",
    "    \n",
    "    "
   ]
  },
  {
   "cell_type": "code",
   "execution_count": 7,
   "metadata": {},
   "outputs": [],
   "source": [
    "with open(r'rythm_beam_search/notstressed', 'rb') as f:\n",
    "    lst_0 = pickle.load(f)\n",
    "    \n",
    "with open(r'rythm_beam_search/stressed', 'rb') as f:\n",
    "    lst_1 = pickle.load(f)\n",
    "    \n",
    "with open(r'rythm_beam_search/notstressed_start', 'rb') as f:\n",
    "    lst_0_s = pickle.load(f)\n",
    "    \n",
    "with open(r'rythm_beam_search/stressed_start', 'rb') as f:\n",
    "    lst_1_s = pickle.load(f)\n",
    "    "
   ]
  },
  {
   "cell_type": "code",
   "execution_count": 13,
   "metadata": {},
   "outputs": [
    {
     "name": "stdout",
     "output_type": "stream",
     "text": [
      "Du uns\n",
      "Du uns gegn\n",
      "Du uns gegn uns\n",
      "Du uns gegn uns wed\n",
      "Du uns gegn uns wed her\n"
     ]
    },
    {
     "ename": "ValueError",
     "evalue": "zero-size array to reduction operation maximum which has no identity",
     "output_type": "error",
     "traceback": [
      "\u001b[0;31m---------------------------------------------------------------------------\u001b[0m",
      "\u001b[0;31mValueError\u001b[0m                                Traceback (most recent call last)",
      "\u001b[0;32m<ipython-input-13-5efb4d816189>\u001b[0m in \u001b[0;36m<module>\u001b[0;34m\u001b[0m\n\u001b[1;32m      9\u001b[0m     \u001b[0mtarget_dict_s\u001b[0m \u001b[0;34m=\u001b[0m \u001b[0mlst_0_s\u001b[0m\u001b[0;34m\u001b[0m\u001b[0;34m\u001b[0m\u001b[0m\n\u001b[1;32m     10\u001b[0m \u001b[0;32mfor\u001b[0m \u001b[0mi\u001b[0m \u001b[0;32min\u001b[0m \u001b[0mrange\u001b[0m\u001b[0;34m(\u001b[0m\u001b[0;36m10\u001b[0m\u001b[0;34m)\u001b[0m\u001b[0;34m:\u001b[0m\u001b[0;34m\u001b[0m\u001b[0;34m\u001b[0m\u001b[0m\n\u001b[0;32m---> 11\u001b[0;31m     \u001b[0mtext\u001b[0m \u001b[0;34m=\u001b[0m \u001b[0mpred_next\u001b[0m\u001b[0;34m(\u001b[0m\u001b[0mtext\u001b[0m\u001b[0;34m,\u001b[0m\u001b[0mtarget_dict\u001b[0m\u001b[0;34m,\u001b[0m \u001b[0mtarget_dict_s\u001b[0m\u001b[0;34m)\u001b[0m\u001b[0;34m\u001b[0m\u001b[0;34m\u001b[0m\u001b[0m\n\u001b[0m\u001b[1;32m     12\u001b[0m \u001b[0;34m\u001b[0m\u001b[0m\n\u001b[1;32m     13\u001b[0m     \u001b[0mprint\u001b[0m\u001b[0;34m(\u001b[0m\u001b[0mtext\u001b[0m\u001b[0;34m)\u001b[0m\u001b[0;34m\u001b[0m\u001b[0;34m\u001b[0m\u001b[0m\n",
      "\u001b[0;32m<ipython-input-11-6ecc2b5e6c1e>\u001b[0m in \u001b[0;36mpred_next\u001b[0;34m(text, target_dict, target_dict_s, top_k, top_cand)\u001b[0m\n\u001b[1;32m     48\u001b[0m             \u001b[0mscores_sort\u001b[0m \u001b[0;34m=\u001b[0m \u001b[0mnp\u001b[0m\u001b[0;34m.\u001b[0m\u001b[0msort\u001b[0m\u001b[0;34m(\u001b[0m\u001b[0;34m-\u001b[0m\u001b[0mscores\u001b[0m\u001b[0;34m)\u001b[0m\u001b[0;34m\u001b[0m\u001b[0;34m\u001b[0m\u001b[0m\n\u001b[1;32m     49\u001b[0m \u001b[0;34m\u001b[0m\u001b[0m\n\u001b[0;32m---> 50\u001b[0;31m             \u001b[0mmin_0\u001b[0m \u001b[0;34m=\u001b[0m \u001b[0mnp\u001b[0m\u001b[0;34m.\u001b[0m\u001b[0mmax\u001b[0m\u001b[0;34m(\u001b[0m\u001b[0mnp\u001b[0m\u001b[0;34m.\u001b[0m\u001b[0mnonzero\u001b[0m\u001b[0;34m(\u001b[0m\u001b[0mscores_sort\u001b[0m\u001b[0;34m)\u001b[0m\u001b[0;34m)\u001b[0m\u001b[0;34m+\u001b[0m\u001b[0;36m1\u001b[0m\u001b[0;34m\u001b[0m\u001b[0;34m\u001b[0m\u001b[0m\n\u001b[0m\u001b[1;32m     51\u001b[0m             \u001b[0mscores_arg\u001b[0m \u001b[0;34m=\u001b[0m \u001b[0mnp\u001b[0m\u001b[0;34m.\u001b[0m\u001b[0margsort\u001b[0m\u001b[0;34m(\u001b[0m\u001b[0;34m-\u001b[0m\u001b[0mscores\u001b[0m\u001b[0;34m)\u001b[0m\u001b[0;34m[\u001b[0m\u001b[0;34m:\u001b[0m\u001b[0mmin_0\u001b[0m\u001b[0;34m]\u001b[0m\u001b[0;34m\u001b[0m\u001b[0;34m\u001b[0m\u001b[0m\n\u001b[1;32m     52\u001b[0m \u001b[0;34m\u001b[0m\u001b[0m\n",
      "\u001b[0;32m<__array_function__ internals>\u001b[0m in \u001b[0;36mamax\u001b[0;34m(*args, **kwargs)\u001b[0m\n",
      "\u001b[0;32m~/.local/lib/python3.6/site-packages/numpy/core/fromnumeric.py\u001b[0m in \u001b[0;36mamax\u001b[0;34m(a, axis, out, keepdims, initial, where)\u001b[0m\n\u001b[1;32m   2704\u001b[0m     \"\"\"\n\u001b[1;32m   2705\u001b[0m     return _wrapreduction(a, np.maximum, 'max', axis, None, out,\n\u001b[0;32m-> 2706\u001b[0;31m                           keepdims=keepdims, initial=initial, where=where)\n\u001b[0m\u001b[1;32m   2707\u001b[0m \u001b[0;34m\u001b[0m\u001b[0m\n\u001b[1;32m   2708\u001b[0m \u001b[0;34m\u001b[0m\u001b[0m\n",
      "\u001b[0;32m~/.local/lib/python3.6/site-packages/numpy/core/fromnumeric.py\u001b[0m in \u001b[0;36m_wrapreduction\u001b[0;34m(obj, ufunc, method, axis, dtype, out, **kwargs)\u001b[0m\n\u001b[1;32m     85\u001b[0m                 \u001b[0;32mreturn\u001b[0m \u001b[0mreduction\u001b[0m\u001b[0;34m(\u001b[0m\u001b[0maxis\u001b[0m\u001b[0;34m=\u001b[0m\u001b[0maxis\u001b[0m\u001b[0;34m,\u001b[0m \u001b[0mout\u001b[0m\u001b[0;34m=\u001b[0m\u001b[0mout\u001b[0m\u001b[0;34m,\u001b[0m \u001b[0;34m**\u001b[0m\u001b[0mpasskwargs\u001b[0m\u001b[0;34m)\u001b[0m\u001b[0;34m\u001b[0m\u001b[0;34m\u001b[0m\u001b[0m\n\u001b[1;32m     86\u001b[0m \u001b[0;34m\u001b[0m\u001b[0m\n\u001b[0;32m---> 87\u001b[0;31m     \u001b[0;32mreturn\u001b[0m \u001b[0mufunc\u001b[0m\u001b[0;34m.\u001b[0m\u001b[0mreduce\u001b[0m\u001b[0;34m(\u001b[0m\u001b[0mobj\u001b[0m\u001b[0;34m,\u001b[0m \u001b[0maxis\u001b[0m\u001b[0;34m,\u001b[0m \u001b[0mdtype\u001b[0m\u001b[0;34m,\u001b[0m \u001b[0mout\u001b[0m\u001b[0;34m,\u001b[0m \u001b[0;34m**\u001b[0m\u001b[0mpasskwargs\u001b[0m\u001b[0;34m)\u001b[0m\u001b[0;34m\u001b[0m\u001b[0;34m\u001b[0m\u001b[0m\n\u001b[0m\u001b[1;32m     88\u001b[0m \u001b[0;34m\u001b[0m\u001b[0m\n\u001b[1;32m     89\u001b[0m \u001b[0;34m\u001b[0m\u001b[0m\n",
      "\u001b[0;31mValueError\u001b[0m: zero-size array to reduction operation maximum which has no identity"
     ]
    }
   ],
   "source": [
    "text = 'Du'\n",
    "next_stress = 0\n",
    "\n",
    "\n",
    "for i in range(10):  \n",
    "    \n",
    "    if num_syll % self.len_metrum == 0:\n",
    "                next_stress = (1-self.first_stress)**2\n",
    "            else:\n",
    "                next_stress = self.first_stress\n",
    "                \n",
    "    if next_stress == 1: \n",
    "        target_dict = lst_1\n",
    "        target_dict_s = lst_1_s\n",
    "    \n",
    "    else:\n",
    "        target_dict = lst_0\n",
    "        target_dict_s = lst_0_s\n",
    "        \n",
    "    text = pred_next(text,target_dict, target_dict_s)\n",
    "    \n",
    "    print(text)"
   ]
  },
  {
   "cell_type": "code",
   "execution_count": 228,
   "metadata": {},
   "outputs": [
    {
     "data": {
      "text/plain": [
       "' ver'"
      ]
     },
     "execution_count": 228,
     "metadata": {},
     "output_type": "execute_result"
    }
   ],
   "source": [
    "tokenizer.decode(370)"
   ]
  },
  {
   "cell_type": "code",
   "execution_count": 258,
   "metadata": {},
   "outputs": [
    {
     "data": {
      "text/plain": [
       "[296, 547, 436]"
      ]
     },
     "execution_count": 258,
     "metadata": {},
     "output_type": "execute_result"
    }
   ],
   "source": [
    "tokenizer.encode('schaufle')"
   ]
  },
  {
   "cell_type": "code",
   "execution_count": 259,
   "metadata": {},
   "outputs": [
    {
     "data": {
      "text/plain": [
       "3"
      ]
     },
     "execution_count": 259,
     "metadata": {},
     "output_type": "execute_result"
    }
   ],
   "source": [
    "lst_0['[296, 547, 436]']"
   ]
  },
  {
   "cell_type": "code",
   "execution_count": 107,
   "metadata": {},
   "outputs": [
    {
     "data": {
      "text/plain": [
       "82"
      ]
     },
     "execution_count": 107,
     "metadata": {},
     "output_type": "execute_result"
    }
   ],
   "source": [
    "lst_1_s[5409]"
   ]
  },
  {
   "cell_type": "code",
   "execution_count": 269,
   "metadata": {},
   "outputs": [],
   "source": [
    "lst = np.asarray([1,2,4,4,3])"
   ]
  },
  {
   "cell_type": "code",
   "execution_count": 270,
   "metadata": {},
   "outputs": [
    {
     "data": {
      "text/plain": [
       "array([0, 0, 4, 0, 0])"
      ]
     },
     "execution_count": 270,
     "metadata": {},
     "output_type": "execute_result"
    }
   ],
   "source": [
    "lst[:2]=0\n",
    "lst[2+1:]=0\n",
    "lst"
   ]
  },
  {
   "cell_type": "code",
   "execution_count": null,
   "metadata": {},
   "outputs": [],
   "source": [
    "re.sub('[\\W_]+', '', string.printable)"
   ]
  }
 ],
 "metadata": {
  "kernelspec": {
   "display_name": "Python 3",
   "language": "python",
   "name": "python3"
  },
  "language_info": {
   "codemirror_mode": {
    "name": "ipython",
    "version": 3
   },
   "file_extension": ".py",
   "mimetype": "text/x-python",
   "name": "python",
   "nbconvert_exporter": "python",
   "pygments_lexer": "ipython3",
   "version": "3.6.7"
  }
 },
 "nbformat": 4,
 "nbformat_minor": 2
}
