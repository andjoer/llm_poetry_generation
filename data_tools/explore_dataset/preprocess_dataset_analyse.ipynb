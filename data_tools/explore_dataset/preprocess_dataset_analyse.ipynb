{
 "cells": [
  {
   "cell_type": "code",
   "execution_count": 19,
   "metadata": {},
   "outputs": [],
   "source": [
    "from transformers import AutoTokenizer,DataCollatorForLanguageModeling\n",
    "from datasets import Dataset, load_dataset\n",
    "from collections import Counter\n",
    "import re\n",
    "from nltk.util import ngrams\n",
    "from multiprocessing import Pool, cpu_count\n",
    "import itertools\n",
    "import pickle\n",
    "import flashtext\n",
    "import glob\n",
    "import psutil"
   ]
  },
  {
   "cell_type": "code",
   "execution_count": 2,
   "metadata": {},
   "outputs": [],
   "source": [
    "dir_train = 'gutenberg/gpt2_training_gutenberg_train.txt'\n",
    "dir_test = 'gutenberg/gpt2_training_gutenberg_test.txt'"
   ]
  },
  {
   "cell_type": "code",
   "execution_count": 2,
   "metadata": {},
   "outputs": [
    {
     "name": "stderr",
     "output_type": "stream",
     "text": [
      "Using custom data configuration de-lang=de\n",
      "Reusing dataset cc100 (/home/andreas/.cache/huggingface/datasets/cc100/de-lang=de/0.0.0/b583dd47b0dd43a3c3773075abd993be12d0eee93dbd2cfe15a0e4e94d481e80)\n"
     ]
    }
   ],
   "source": [
    "dataset = load_dataset(\"cc100\", lang=\"de\")"
   ]
  },
  {
   "cell_type": "code",
   "execution_count": 5,
   "metadata": {},
   "outputs": [
    {
     "data": {
      "text/plain": [
       "DatasetDict({\n",
       "    train: Dataset({\n",
       "        features: ['id', 'text'],\n",
       "        num_rows: 264959282\n",
       "    })\n",
       "})"
      ]
     },
     "execution_count": 5,
     "metadata": {},
     "output_type": "execute_result"
    }
   ],
   "source": [
    "dataset"
   ]
  },
  {
   "cell_type": "code",
   "execution_count": 4,
   "metadata": {},
   "outputs": [],
   "source": [
    "text = dataset['train'][:10000000]['text']"
   ]
  },
  {
   "cell_type": "code",
   "execution_count": 7,
   "metadata": {},
   "outputs": [
    {
     "data": {
      "text/plain": [
       "{'train': 264959282}"
      ]
     },
     "execution_count": 7,
     "metadata": {},
     "output_type": "execute_result"
    }
   ],
   "source": [
    "dataset.num_rows"
   ]
  },
  {
   "cell_type": "code",
   "execution_count": 4,
   "metadata": {},
   "outputs": [],
   "source": [
    "def preprocess_text(text):\n",
    "    return re.sub('[^a-zäöüß ]', ' ', ' '.join(text).lower())\n",
    "\n",
    "def prep_count(text):\n",
    "    tokens = preprocess_text(text).split()\n",
    "    #list(ngrams(tokens,2))\n",
    "    return (tokens)"
   ]
  },
  {
   "cell_type": "code",
   "execution_count": 5,
   "metadata": {},
   "outputs": [
    {
     "name": "stdout",
     "output_type": "stream",
     "text": [
      "8000000\n",
      "16000000\n",
      "24000000\n",
      "32000000\n",
      "40000000\n",
      "48000000\n",
      "56000000\n",
      "64000000\n",
      "72000000\n",
      "80000000\n",
      "88000000\n",
      "96000000\n",
      "104000000\n",
      "112000000\n",
      "120000000\n",
      "128000000\n",
      "136000000\n",
      "144000000\n",
      "152000000\n",
      "160000000\n",
      "168000000\n",
      "176000000\n",
      "184000000\n",
      "192000000\n",
      "200000000\n",
      "208000000\n",
      "216000000\n",
      "224000000\n",
      "232000000\n",
      "240000000\n",
      "248000000\n",
      "256000000\n",
      "264000000\n",
      "272000000\n",
      "280000000\n"
     ]
    }
   ],
   "source": [
    "step = 1000000\n",
    "workers = min(8,int(cpu_count()-10))\n",
    "j = 0\n",
    "while j < dataset.num_rows['train']+step*workers:\n",
    "    with Pool(workers) as p:\n",
    "\n",
    "        results = p.map(prep_count,[dataset['train'][start:start+step]['text'] for start in range(j,j+step*workers,step)])\n",
    "\n",
    "    results = list(itertools.chain.from_iterable(results))\n",
    "\n",
    "    with open('cc_100_vocab/count_'+str(j)+'.pkl', 'wb') as handle:\n",
    "        pickle.dump(Counter(results), handle, protocol=pickle.HIGHEST_PROTOCOL)\n",
    "\n",
    "    with open('cc_100_vocab/text_'+str(j)+'.txt', 'w') as f:\n",
    "        f.write(' '.join(results))\n",
    "\n",
    "    del results\n",
    "    j+= step*workers\n",
    "    print(j)\n",
    "\n"
   ]
  },
  {
   "cell_type": "code",
   "execution_count": 16,
   "metadata": {},
   "outputs": [],
   "source": [
    "text_path = 'cc_100_vocab'\n"
   ]
  },
  {
   "cell_type": "code",
   "execution_count": 17,
   "metadata": {},
   "outputs": [],
   "source": [
    "files = glob.glob(text_path+\"/*.txt\")"
   ]
  },
  {
   "cell_type": "code",
   "execution_count": 18,
   "metadata": {},
   "outputs": [
    {
     "data": {
      "text/plain": [
       "['cc_100_vocab/text_80000000.txt',\n",
       " 'cc_100_vocab/text_192000000.txt',\n",
       " 'cc_100_vocab/text_104000000.txt',\n",
       " 'cc_100_vocab/text_256000000.txt',\n",
       " 'cc_100_vocab/text_88000000.txt',\n",
       " 'cc_100_vocab/text_232000000.txt',\n",
       " 'cc_100_vocab/text_216000000.txt',\n",
       " 'cc_100_vocab/text_176000000.txt',\n",
       " 'cc_100_vocab/text_160000000.txt',\n",
       " 'cc_100_vocab/text_56000000.txt',\n",
       " 'cc_100_vocab/text_152000000.txt',\n",
       " 'cc_100_vocab/text_272000000.txt',\n",
       " 'cc_100_vocab/text_48000000.txt',\n",
       " 'cc_100_vocab/text_40000000.txt',\n",
       " 'cc_100_vocab/text_136000000.txt',\n",
       " 'cc_100_vocab/text_208000000.txt',\n",
       " 'cc_100_vocab/text_112000000.txt',\n",
       " 'cc_100_vocab/text_168000000.txt',\n",
       " 'cc_100_vocab/text_0.txt',\n",
       " 'cc_100_vocab/text_16000000.txt',\n",
       " 'cc_100_vocab/text_224000000.txt',\n",
       " 'cc_100_vocab/text_184000000.txt',\n",
       " 'cc_100_vocab/text_24000000.txt',\n",
       " 'cc_100_vocab/text_240000000.txt',\n",
       " 'cc_100_vocab/text_96000000.txt',\n",
       " 'cc_100_vocab/text_120000000.txt',\n",
       " 'cc_100_vocab/text_128000000.txt',\n",
       " 'cc_100_vocab/text_248000000.txt',\n",
       " 'cc_100_vocab/text_144000000.txt',\n",
       " 'cc_100_vocab/text_64000000.txt',\n",
       " 'cc_100_vocab/text_72000000.txt',\n",
       " 'cc_100_vocab/text_32000000.txt',\n",
       " 'cc_100_vocab/text_200000000.txt',\n",
       " 'cc_100_vocab/text_264000000.txt',\n",
       " 'cc_100_vocab/text_8000000.txt']"
      ]
     },
     "execution_count": 18,
     "metadata": {},
     "output_type": "execute_result"
    }
   ],
   "source": [
    "files"
   ]
  },
  {
   "cell_type": "code",
   "execution_count": 15,
   "metadata": {},
   "outputs": [
    {
     "data": {
      "text/plain": [
       "'cc_100_vocab/text_0.txt/*.txt'"
      ]
     },
     "execution_count": 15,
     "metadata": {},
     "output_type": "execute_result"
    }
   ],
   "source": [
    "text = ''\n",
    "for file in files:\n",
    "    with open(file) as f:\n",
    "        text += ' ' + f.read()\n",
    "\n",
    "    print(psutil.virtual_memory().percent)\n",
    "    if psutil.virtual_memory().percent > 80:\n",
    "        break"
   ]
  },
  {
   "cell_type": "code",
   "execution_count": 21,
   "metadata": {},
   "outputs": [
    {
     "data": {
      "text/plain": [
       "16.2"
      ]
     },
     "execution_count": 21,
     "metadata": {},
     "output_type": "execute_result"
    }
   ],
   "source": [
    "psutil.virtual_memory().percent"
   ]
  },
  {
   "cell_type": "code",
   "execution_count": 3,
   "metadata": {},
   "outputs": [
    {
     "data": {
      "text/plain": [
       "True"
      ]
     },
     "execution_count": 3,
     "metadata": {},
     "output_type": "execute_result"
    }
   ],
   "source": [
    "from flashtext import KeywordProcessor\n",
    "keyword_processor = KeywordProcessor()\n",
    "keyword_processor.add_keyword('die wir uns solcher gnade freun')"
   ]
  },
  {
   "cell_type": "code",
   "execution_count": 4,
   "metadata": {},
   "outputs": [],
   "source": [
    "\n",
    "keywords_found = keyword_processor.extract_keywords(text)\n"
   ]
  },
  {
   "cell_type": "code",
   "execution_count": 11,
   "metadata": {},
   "outputs": [],
   "source": [
    "text += 'die wir uns solcher gnade freun'"
   ]
  },
  {
   "cell_type": "code",
   "execution_count": 12,
   "metadata": {},
   "outputs": [
    {
     "data": {
      "text/plain": [
       "['die wir uns solcher gnade freun']"
      ]
     },
     "execution_count": 12,
     "metadata": {},
     "output_type": "execute_result"
    }
   ],
   "source": [
    "re.findall('die wir uns solcher gnade freun',text)"
   ]
  }
 ],
 "metadata": {
  "kernelspec": {
   "display_name": "Python 3.7.5 64-bit",
   "language": "python",
   "name": "python3"
  },
  "language_info": {
   "codemirror_mode": {
    "name": "ipython",
    "version": 3
   },
   "file_extension": ".py",
   "mimetype": "text/x-python",
   "name": "python",
   "nbconvert_exporter": "python",
   "pygments_lexer": "ipython3",
   "version": "3.7.5"
  },
  "orig_nbformat": 4,
  "vscode": {
   "interpreter": {
    "hash": "fd69f43f58546b570e94fd7eba7b65e6bcc7a5bbc4eab0408017d18902915d69"
   }
  }
 },
 "nbformat": 4,
 "nbformat_minor": 2
}
