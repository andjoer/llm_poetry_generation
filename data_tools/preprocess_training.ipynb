{
 "cells": [
  {
   "cell_type": "code",
   "execution_count": 5,
   "metadata": {},
   "outputs": [
    {
     "data": {
      "text/html": [
       "<div>\n",
       "<style scoped>\n",
       "    .dataframe tbody tr th:only-of-type {\n",
       "        vertical-align: middle;\n",
       "    }\n",
       "\n",
       "    .dataframe tbody tr th {\n",
       "        vertical-align: top;\n",
       "    }\n",
       "\n",
       "    .dataframe thead th {\n",
       "        text-align: right;\n",
       "    }\n",
       "</style>\n",
       "<table border=\"1\" class=\"dataframe\">\n",
       "  <thead>\n",
       "    <tr style=\"text-align: right;\">\n",
       "      <th></th>\n",
       "      <th>ID</th>\n",
       "      <th>author</th>\n",
       "      <th>title</th>\n",
       "      <th>subtitle</th>\n",
       "      <th>vers</th>\n",
       "    </tr>\n",
       "  </thead>\n",
       "  <tbody>\n",
       "    <tr>\n",
       "      <th>0</th>\n",
       "      <td>0</td>\n",
       "      <td>alexis</td>\n",
       "      <td>Entführung</td>\n",
       "      <td>NaN</td>\n",
       "      <td>O Lady Judith, spröder Schatz,\\n        Drückt...</td>\n",
       "    </tr>\n",
       "    <tr>\n",
       "      <th>1</th>\n",
       "      <td>0</td>\n",
       "      <td>alexis</td>\n",
       "      <td>Entführung</td>\n",
       "      <td>NaN</td>\n",
       "      <td>Hart ist der Sitz und knapp und schmal,\\n     ...</td>\n",
       "    </tr>\n",
       "    <tr>\n",
       "      <th>2</th>\n",
       "      <td>0</td>\n",
       "      <td>alexis</td>\n",
       "      <td>Entführung</td>\n",
       "      <td>NaN</td>\n",
       "      <td>Sechs Nächte lag ich in Sumpf und Moor\\n      ...</td>\n",
       "    </tr>\n",
       "    <tr>\n",
       "      <th>3</th>\n",
       "      <td>1</td>\n",
       "      <td>alexis</td>\n",
       "      <td>Walpurgisnacht</td>\n",
       "      <td>NaN</td>\n",
       "      <td>Liebe Mutter, heut' Nacht heulte Regen und Win...</td>\n",
       "    </tr>\n",
       "    <tr>\n",
       "      <th>4</th>\n",
       "      <td>1</td>\n",
       "      <td>alexis</td>\n",
       "      <td>Walpurgisnacht</td>\n",
       "      <td>NaN</td>\n",
       "      <td>Liebe Mutter, es donnerte auf dem Brocken drob...</td>\n",
       "    </tr>\n",
       "  </tbody>\n",
       "</table>\n",
       "</div>"
      ],
      "text/plain": [
       "   ID  author           title subtitle  \\\n",
       "0   0  alexis      Entführung      NaN   \n",
       "1   0  alexis      Entführung      NaN   \n",
       "2   0  alexis      Entführung      NaN   \n",
       "3   1  alexis  Walpurgisnacht      NaN   \n",
       "4   1  alexis  Walpurgisnacht      NaN   \n",
       "\n",
       "                                                vers  \n",
       "0  O Lady Judith, spröder Schatz,\\n        Drückt...  \n",
       "1  Hart ist der Sitz und knapp und schmal,\\n     ...  \n",
       "2  Sechs Nächte lag ich in Sumpf und Moor\\n      ...  \n",
       "3  Liebe Mutter, heut' Nacht heulte Regen und Win...  \n",
       "4  Liebe Mutter, es donnerte auf dem Brocken drob...  "
      ]
     },
     "execution_count": 5,
     "metadata": {},
     "output_type": "execute_result"
    }
   ],
   "source": [
    "import pandas as pd\n",
    "import re\n",
    "\n",
    "text_df = pd.read_csv('gutenberg/gutenberg.csv')\n",
    "\n",
    "text_df.head()"
   ]
  },
  {
   "cell_type": "code",
   "execution_count": 2,
   "metadata": {},
   "outputs": [],
   "source": [
    "verse_name = 'vers'"
   ]
  },
  {
   "cell_type": "markdown",
   "metadata": {},
   "source": [
    "# Preprocessing for Bert Training"
   ]
  },
  {
   "cell_type": "code",
   "execution_count": 5,
   "metadata": {},
   "outputs": [],
   "source": [
    "# EOV: End of verse; SOV: Start of Verse; SST: Start of Strophe; EST: End of Strophe\n",
    "# SOP: Start of poem; EOP: End of Poem\n",
    "\n",
    "text_df_prep = text_df.copy()\n",
    "text_df_prep[verse_name] = text_df_prep[verse_name].apply(lambda x: re.sub(r'[^a-zäöüA-ZÄÖÜ,.\\n]',' ', str(x)))\n",
    "text_df_prep[verse_name] = text_df_prep[verse_name].apply(lambda x: (' [EOV] [SOV] ').join([line.lstrip() for line in str(x).split('\\n') if line] )+ ' [EST] ')\n",
    "\n",
    "#text_df_prep = text_df_prep.groupby(['title']).sum()\n",
    "\n",
    "\n",
    "\n",
    "text = ''\n",
    "for _, row in text_df_prep.iterrows():\n",
    "    \n",
    "    text += row[verse_name]\n",
    "    \n",
    "with open('bert_training_gutenberg.txt', 'w') as f:\n",
    "    f.write(text)"
   ]
  },
  {
   "cell_type": "markdown",
   "metadata": {},
   "source": [
    "# Preprocessing for GPT2 Training"
   ]
  },
  {
   "cell_type": "code",
   "execution_count": 2,
   "metadata": {},
   "outputs": [
    {
     "data": {
      "text/html": [
       "<div>\n",
       "<style scoped>\n",
       "    .dataframe tbody tr th:only-of-type {\n",
       "        vertical-align: middle;\n",
       "    }\n",
       "\n",
       "    .dataframe tbody tr th {\n",
       "        vertical-align: top;\n",
       "    }\n",
       "\n",
       "    .dataframe thead th {\n",
       "        text-align: right;\n",
       "    }\n",
       "</style>\n",
       "<table border=\"1\" class=\"dataframe\">\n",
       "  <thead>\n",
       "    <tr style=\"text-align: right;\">\n",
       "      <th></th>\n",
       "      <th>ID</th>\n",
       "      <th>author</th>\n",
       "      <th>title</th>\n",
       "      <th>subtitle</th>\n",
       "      <th>vers</th>\n",
       "    </tr>\n",
       "  </thead>\n",
       "  <tbody>\n",
       "    <tr>\n",
       "      <th>0</th>\n",
       "      <td>0</td>\n",
       "      <td>alexis</td>\n",
       "      <td>Entführung</td>\n",
       "      <td>NaN</td>\n",
       "      <td>O Lady Judith, spröder Schatz,\\n        Drückt...</td>\n",
       "    </tr>\n",
       "    <tr>\n",
       "      <th>1</th>\n",
       "      <td>0</td>\n",
       "      <td>alexis</td>\n",
       "      <td>Entführung</td>\n",
       "      <td>NaN</td>\n",
       "      <td>Hart ist der Sitz und knapp und schmal,\\n     ...</td>\n",
       "    </tr>\n",
       "    <tr>\n",
       "      <th>2</th>\n",
       "      <td>0</td>\n",
       "      <td>alexis</td>\n",
       "      <td>Entführung</td>\n",
       "      <td>NaN</td>\n",
       "      <td>Sechs Nächte lag ich in Sumpf und Moor\\n      ...</td>\n",
       "    </tr>\n",
       "    <tr>\n",
       "      <th>3</th>\n",
       "      <td>1</td>\n",
       "      <td>alexis</td>\n",
       "      <td>Walpurgisnacht</td>\n",
       "      <td>NaN</td>\n",
       "      <td>Liebe Mutter, heut' Nacht heulte Regen und Win...</td>\n",
       "    </tr>\n",
       "    <tr>\n",
       "      <th>4</th>\n",
       "      <td>1</td>\n",
       "      <td>alexis</td>\n",
       "      <td>Walpurgisnacht</td>\n",
       "      <td>NaN</td>\n",
       "      <td>Liebe Mutter, es donnerte auf dem Brocken drob...</td>\n",
       "    </tr>\n",
       "  </tbody>\n",
       "</table>\n",
       "</div>"
      ],
      "text/plain": [
       "   ID  author           title subtitle  \\\n",
       "0   0  alexis      Entführung      NaN   \n",
       "1   0  alexis      Entführung      NaN   \n",
       "2   0  alexis      Entführung      NaN   \n",
       "3   1  alexis  Walpurgisnacht      NaN   \n",
       "4   1  alexis  Walpurgisnacht      NaN   \n",
       "\n",
       "                                                vers  \n",
       "0  O Lady Judith, spröder Schatz,\\n        Drückt...  \n",
       "1  Hart ist der Sitz und knapp und schmal,\\n     ...  \n",
       "2  Sechs Nächte lag ich in Sumpf und Moor\\n      ...  \n",
       "3  Liebe Mutter, heut' Nacht heulte Regen und Win...  \n",
       "4  Liebe Mutter, es donnerte auf dem Brocken drob...  "
      ]
     },
     "execution_count": 2,
     "metadata": {},
     "output_type": "execute_result"
    }
   ],
   "source": [
    "text_df = pd.read_csv('gutenberg/gutenberg.csv')\n",
    "\n",
    "text_df.head()"
   ]
  },
  {
   "cell_type": "code",
   "execution_count": 7,
   "metadata": {},
   "outputs": [],
   "source": [
    "title_name = 'title'\n",
    "verse_name = 'vers'\n",
    "\n",
    "\n",
    "text_df_prep = text_df.copy()\n",
    "text_df_prep[verse_name] = text_df_prep[verse_name].apply(lambda x: re.sub(r'[^a-zäöüA-ZÄÖÜß?!,;:.\\n ]','', str(x)))\n",
    "text_df_prep[verse_name] = text_df_prep[verse_name].apply(lambda x: ('\\n').join([line.lstrip() for line in str(x).split('\\n') if line] )+ '\\n')\n",
    "\n",
    "text_df_strophes = text_df_prep.groupby(['ID']).sum()[verse_name]\n",
    "\n",
    "text_df_titles = text_df_prep.groupby(['ID']).first()[title_name]\n",
    "\n",
    "strophes_df = pd.concat([text_df_titles, text_df_strophes], axis=1)\n",
    "\n",
    "text = ''\n",
    "for _ , row in strophes_df.iterrows():\n",
    "    \n",
    "    if 'h4' in row[title_name]:\n",
    "        title = 'Gedicht'\n",
    "    else: \n",
    "        title = row[title_name]\n",
    "    text += 'Titel: ' + str(title) + '\\n \\n' + row[verse_name] + '<|endoftext|>'+'\\n'\n",
    "    \n",
    "    \n",
    "    \n",
    "with open('gpt2_training_gutenberg.txt', 'w') as f:\n",
    "    f.write(text)"
   ]
  },
  {
   "cell_type": "code",
   "execution_count": 11,
   "metadata": {},
   "outputs": [
    {
     "data": {
      "text/plain": [
       "'i2de'"
      ]
     },
     "execution_count": 11,
     "metadata": {},
     "output_type": "execute_result"
    }
   ],
   "source": [
    "re.sub('ch', '2', 'ichde')"
   ]
  },
  {
   "cell_type": "code",
   "execution_count": null,
   "metadata": {},
   "outputs": [],
   "source": []
  }
 ],
 "metadata": {
  "kernelspec": {
   "display_name": "Python 3",
   "language": "python",
   "name": "python3"
  },
  "language_info": {
   "codemirror_mode": {
    "name": "ipython",
    "version": 3
   },
   "file_extension": ".py",
   "mimetype": "text/x-python",
   "name": "python",
   "nbconvert_exporter": "python",
   "pygments_lexer": "ipython3",
   "version": "3.6.7"
  }
 },
 "nbformat": 4,
 "nbformat_minor": 2
}
