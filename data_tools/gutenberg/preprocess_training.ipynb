{
 "cells": [
  {
   "cell_type": "code",
   "execution_count": 1,
   "metadata": {},
   "outputs": [
    {
     "data": {
      "text/html": [
       "<div>\n",
       "<style scoped>\n",
       "    .dataframe tbody tr th:only-of-type {\n",
       "        vertical-align: middle;\n",
       "    }\n",
       "\n",
       "    .dataframe tbody tr th {\n",
       "        vertical-align: top;\n",
       "    }\n",
       "\n",
       "    .dataframe thead th {\n",
       "        text-align: right;\n",
       "    }\n",
       "</style>\n",
       "<table border=\"1\" class=\"dataframe\">\n",
       "  <thead>\n",
       "    <tr style=\"text-align: right;\">\n",
       "      <th></th>\n",
       "      <th>ID</th>\n",
       "      <th>author</th>\n",
       "      <th>title</th>\n",
       "      <th>subtitle</th>\n",
       "      <th>text</th>\n",
       "      <th>Unnamed: 5</th>\n",
       "    </tr>\n",
       "  </thead>\n",
       "  <tbody>\n",
       "    <tr>\n",
       "      <th>0</th>\n",
       "      <td>0</td>\n",
       "      <td>alexis</td>\n",
       "      <td>Entführung</td>\n",
       "      <td>NaN</td>\n",
       "      <td>O Lady Judith, spröder Schatz,\\n        Drückt...</td>\n",
       "      <td>NaN</td>\n",
       "    </tr>\n",
       "    <tr>\n",
       "      <th>1</th>\n",
       "      <td>0</td>\n",
       "      <td>alexis</td>\n",
       "      <td>Entführung</td>\n",
       "      <td>NaN</td>\n",
       "      <td>Hart ist der Sitz und knapp und schmal,\\n     ...</td>\n",
       "      <td>NaN</td>\n",
       "    </tr>\n",
       "    <tr>\n",
       "      <th>2</th>\n",
       "      <td>0</td>\n",
       "      <td>alexis</td>\n",
       "      <td>Entführung</td>\n",
       "      <td>NaN</td>\n",
       "      <td>Sechs Nächte lag ich in Sumpf und Moor\\n      ...</td>\n",
       "      <td>NaN</td>\n",
       "    </tr>\n",
       "    <tr>\n",
       "      <th>3</th>\n",
       "      <td>1</td>\n",
       "      <td>alexis</td>\n",
       "      <td>Walpurgisnacht</td>\n",
       "      <td>NaN</td>\n",
       "      <td>Liebe Mutter, heut' Nacht heulte Regen und Win...</td>\n",
       "      <td>NaN</td>\n",
       "    </tr>\n",
       "    <tr>\n",
       "      <th>4</th>\n",
       "      <td>1</td>\n",
       "      <td>alexis</td>\n",
       "      <td>Walpurgisnacht</td>\n",
       "      <td>NaN</td>\n",
       "      <td>Liebe Mutter, es donnerte auf dem Brocken drob...</td>\n",
       "      <td>NaN</td>\n",
       "    </tr>\n",
       "  </tbody>\n",
       "</table>\n",
       "</div>"
      ],
      "text/plain": [
       "   ID  author           title subtitle  \\\n",
       "0   0  alexis      Entführung      NaN   \n",
       "1   0  alexis      Entführung      NaN   \n",
       "2   0  alexis      Entführung      NaN   \n",
       "3   1  alexis  Walpurgisnacht      NaN   \n",
       "4   1  alexis  Walpurgisnacht      NaN   \n",
       "\n",
       "                                                text Unnamed: 5  \n",
       "0  O Lady Judith, spröder Schatz,\\n        Drückt...        NaN  \n",
       "1  Hart ist der Sitz und knapp und schmal,\\n     ...        NaN  \n",
       "2  Sechs Nächte lag ich in Sumpf und Moor\\n      ...        NaN  \n",
       "3  Liebe Mutter, heut' Nacht heulte Regen und Win...        NaN  \n",
       "4  Liebe Mutter, es donnerte auf dem Brocken drob...        NaN  "
      ]
     },
     "execution_count": 1,
     "metadata": {},
     "output_type": "execute_result"
    }
   ],
   "source": [
    "import pandas as pd\n",
    "import re, math\n",
    "from tqdm import tqdm\n",
    "text_df = pd.read_csv('gutenberg/gutenberg.csv')\n",
    "\n",
    "text_df.head()"
   ]
  },
  {
   "cell_type": "code",
   "execution_count": 2,
   "metadata": {},
   "outputs": [],
   "source": [
    "verse_name = 'text'"
   ]
  },
  {
   "cell_type": "markdown",
   "metadata": {},
   "source": [
    "# Preprocessing for Bert Training"
   ]
  },
  {
   "cell_type": "code",
   "execution_count": 5,
   "metadata": {},
   "outputs": [],
   "source": [
    "# EOV: End of verse; SOV: Start of Verse; SST: Start of Strophe; EST: End of Strophe\n",
    "# SOP: Start of poem; EOP: End of Poem\n",
    "\n",
    "text_df_prep = text_df.copy()\n",
    "text_df_prep[verse_name] = text_df_prep[verse_name].apply(lambda x: re.sub(r'[^a-zäöüA-ZÄÖÜ,.\\n]',' ', str(x)))\n",
    "text_df_prep[verse_name] = text_df_prep[verse_name].apply(lambda x: (' [EOV] [SOV] ').join([line.lstrip() for line in str(x).split('\\n') if line] )+ ' [EST] ')\n",
    "\n",
    "#text_df_prep = text_df_prep.groupby(['title']).sum()\n",
    "\n",
    "\n",
    "\n",
    "text = ''\n",
    "for _, row in text_df_prep.iterrows():\n",
    "    \n",
    "    text += row[verse_name]\n",
    "    \n",
    "with open('bert_training_gutenberg.txt', 'w') as f:\n",
    "    f.write(text)"
   ]
  },
  {
   "cell_type": "markdown",
   "metadata": {},
   "source": [
    "# Preprocessing for GPT2 Training"
   ]
  },
  {
   "cell_type": "code",
   "execution_count": 11,
   "metadata": {},
   "outputs": [
    {
     "name": "stdout",
     "output_type": "stream",
     "text": [
      "105990\n",
      "104841\n"
     ]
    },
    {
     "data": {
      "text/html": [
       "<div>\n",
       "<style scoped>\n",
       "    .dataframe tbody tr th:only-of-type {\n",
       "        vertical-align: middle;\n",
       "    }\n",
       "\n",
       "    .dataframe tbody tr th {\n",
       "        vertical-align: top;\n",
       "    }\n",
       "\n",
       "    .dataframe thead th {\n",
       "        text-align: right;\n",
       "    }\n",
       "</style>\n",
       "<table border=\"1\" class=\"dataframe\">\n",
       "  <thead>\n",
       "    <tr style=\"text-align: right;\">\n",
       "      <th></th>\n",
       "      <th>ID</th>\n",
       "      <th>author</th>\n",
       "      <th>title</th>\n",
       "      <th>subtitle</th>\n",
       "      <th>text</th>\n",
       "      <th>Unnamed: 5</th>\n",
       "    </tr>\n",
       "  </thead>\n",
       "  <tbody>\n",
       "    <tr>\n",
       "      <th>0</th>\n",
       "      <td>0</td>\n",
       "      <td>alexis</td>\n",
       "      <td>Entführung</td>\n",
       "      <td>NaN</td>\n",
       "      <td>O Lady Judith, spröder Schatz,\\n        Drückt...</td>\n",
       "      <td>NaN</td>\n",
       "    </tr>\n",
       "    <tr>\n",
       "      <th>1</th>\n",
       "      <td>0</td>\n",
       "      <td>alexis</td>\n",
       "      <td>Entführung</td>\n",
       "      <td>NaN</td>\n",
       "      <td>Hart ist der Sitz und knapp und schmal,\\n     ...</td>\n",
       "      <td>NaN</td>\n",
       "    </tr>\n",
       "    <tr>\n",
       "      <th>2</th>\n",
       "      <td>0</td>\n",
       "      <td>alexis</td>\n",
       "      <td>Entführung</td>\n",
       "      <td>NaN</td>\n",
       "      <td>Sechs Nächte lag ich in Sumpf und Moor\\n      ...</td>\n",
       "      <td>NaN</td>\n",
       "    </tr>\n",
       "    <tr>\n",
       "      <th>3</th>\n",
       "      <td>1</td>\n",
       "      <td>alexis</td>\n",
       "      <td>Walpurgisnacht</td>\n",
       "      <td>NaN</td>\n",
       "      <td>Liebe Mutter, heut' Nacht heulte Regen und Win...</td>\n",
       "      <td>NaN</td>\n",
       "    </tr>\n",
       "    <tr>\n",
       "      <th>4</th>\n",
       "      <td>1</td>\n",
       "      <td>alexis</td>\n",
       "      <td>Walpurgisnacht</td>\n",
       "      <td>NaN</td>\n",
       "      <td>Liebe Mutter, es donnerte auf dem Brocken drob...</td>\n",
       "      <td>NaN</td>\n",
       "    </tr>\n",
       "  </tbody>\n",
       "</table>\n",
       "</div>"
      ],
      "text/plain": [
       "   ID  author           title subtitle  \\\n",
       "0   0  alexis      Entführung      NaN   \n",
       "1   0  alexis      Entführung      NaN   \n",
       "2   0  alexis      Entführung      NaN   \n",
       "3   1  alexis  Walpurgisnacht      NaN   \n",
       "4   1  alexis  Walpurgisnacht      NaN   \n",
       "\n",
       "                                                text Unnamed: 5  \n",
       "0  O Lady Judith, spröder Schatz,\\n        Drückt...        NaN  \n",
       "1  Hart ist der Sitz und knapp und schmal,\\n     ...        NaN  \n",
       "2  Sechs Nächte lag ich in Sumpf und Moor\\n      ...        NaN  \n",
       "3  Liebe Mutter, heut' Nacht heulte Regen und Win...        NaN  \n",
       "4  Liebe Mutter, es donnerte auf dem Brocken drob...        NaN  "
      ]
     },
     "execution_count": 11,
     "metadata": {},
     "output_type": "execute_result"
    }
   ],
   "source": [
    "text_df = pd.read_csv('gutenberg/gutenberg.csv')\n",
    "print(len(text_df))\n",
    "\n",
    "\n",
    "text_df = text_df.drop(text_df[text_df.author == 'schiller'].index)\n",
    "print(len(text_df))\n",
    "text_df.head()\n"
   ]
  },
  {
   "cell_type": "code",
   "execution_count": 12,
   "metadata": {},
   "outputs": [],
   "source": [
    "title_name = 'title'\n",
    "verse_name = 'text'\n",
    "\n",
    "\n",
    "text_df_prep = text_df.copy()\n",
    "text_df_prep[verse_name] = text_df_prep[verse_name].apply(lambda x: re.sub(r'[^a-zäöüA-ZÄÖÜß?!,;:.\\n ]','', str(x)))\n",
    "text_df_prep[verse_name] = text_df_prep[verse_name].apply(lambda x: ('\\n').join([line.lstrip() for line in str(x).split('\\n') if line] )+ '\\n')\n",
    "\n",
    "text_df_strophes = text_df_prep.groupby(['ID']).sum()[verse_name]\n",
    "\n",
    "text_df_titles = text_df_prep.groupby(['ID']).first()[title_name]\n",
    "\n",
    "strophes_df = pd.concat([text_df_titles, text_df_strophes], axis=1)\n",
    "\n",
    "text = ''\n",
    "for _ , row in strophes_df.iterrows():\n",
    "    \n",
    "    if 'h4' in row[title_name]:\n",
    "        title = 'Gedicht'\n",
    "    else: \n",
    "        title = row[title_name]\n",
    "    text += 'Titel: ' + str(title) + '\\n \\n' + row[verse_name] + '<|endoftext|>'+'\\n'\n",
    "    \n",
    "    \n",
    "text = re.sub('<\\|endoftext\\|>','',text)\n",
    "with open('gpt2_training_no_schiller.txt', 'w') as f:\n",
    "    f.write(text)"
   ]
  },
  {
   "cell_type": "markdown",
   "metadata": {},
   "source": [
    "# Preprocessing for GPT2 Training with Train/Test Split"
   ]
  },
  {
   "cell_type": "code",
   "execution_count": 3,
   "metadata": {},
   "outputs": [
    {
     "name": "stdout",
     "output_type": "stream",
     "text": [
      "105990\n"
     ]
    }
   ],
   "source": [
    "text_df = pd.read_csv('gutenberg/gutenberg.csv')\n",
    "print(len(text_df))"
   ]
  },
  {
   "cell_type": "code",
   "execution_count": 17,
   "metadata": {},
   "outputs": [],
   "source": [
    "title_name = 'title'\n",
    "verse_name = 'text'\n",
    "\n",
    "\n",
    "text_df_prep = text_df.copy()\n",
    "text_df_prep[verse_name] = text_df_prep[verse_name].apply(lambda x: re.sub(r'[^a-zäöüA-ZÄÖÜß?!,;:.\\n ]','', str(x)))\n",
    "text_df_prep[verse_name] = text_df_prep[verse_name].apply(lambda x: ('\\n').join([line.lstrip() for line in str(x).split('\\n') if line] )+ '\\n')\n",
    "\n",
    "text_df_strophes = text_df_prep.groupby(['ID']).sum()[verse_name]\n",
    "\n",
    "text_df_titles = text_df_prep.groupby(['ID']).first()[title_name]\n",
    "\n",
    "text_df_authors = text_df_prep.groupby(['ID']).first()['author']\n",
    "\n",
    "\n",
    "strophes_df = pd.DataFrame(list(zip(list(text_df_authors),list(text_df_titles),list(text_df_strophes))),columns=['author','title','strophe'])#pd.concat([text_df_authors,text_df_titles, text_df_strophes], axis=1)\n",
    "\n",
    "strophes_df['text'] = strophes_df.apply(lambda x: 'Titel: ' + x.title + '\\n\\n' + x.strophe +'\\n',axis=1)\n",
    "\n",
    "\n"
   ]
  },
  {
   "cell_type": "code",
   "execution_count": 66,
   "metadata": {},
   "outputs": [],
   "source": [
    "train_test_frac = 0.14\n",
    "train_test_frac_large = 0.25\n",
    "authors = set(list(strophes_df['author']))\n",
    "\n",
    "text_train = ''\n",
    "text_test =''\n",
    "\n",
    "for author in authors:\n",
    "    if author not in ['schiller','hoelderl']:\n",
    "        frac_used = train_test_frac\n",
    "    else:\n",
    "        print('large')\n",
    "        print('author')\n",
    "        frac_used = train_test_frac_large\n",
    "\n",
    "    author_df = strophes_df[strophes_df.author == author]\n",
    "    author_df = author_df.sample(frac=1).reset_index(drop=True)\n",
    "\n",
    "    author_test_cnt = math.ceil(len(author_df)*frac_used)\n",
    "\n",
    "    author_df_test = author_df[:author_test_cnt+1]\n",
    "    author_df_train = author_df[author_test_cnt:]\n",
    "\n",
    "    author_new_test_text = ''.join(list(author_df_test.text))\n",
    "    author_new_train_text = ''.join(list(author_df_train.text))\n",
    "\n",
    "    text_test += author_new_test_text\n",
    "    text_train += author_new_train_text\n",
    "\n",
    "\n",
    "\n"
   ]
  },
  {
   "cell_type": "code",
   "execution_count": 69,
   "metadata": {},
   "outputs": [],
   "source": [
    "with open('gpt2_training_gutenberg_train.txt', 'w') as f:\n",
    "    f.write(text_train)\n",
    "\n",
    "with open('gpt2_training_gutenberg_test.txt', 'w') as f:\n",
    "    f.write(text_test)"
   ]
  },
  {
   "cell_type": "code",
   "execution_count": 13,
   "metadata": {},
   "outputs": [
    {
     "name": "stderr",
     "output_type": "stream",
     "text": [
      "322it [01:27,  3.68it/s]\n"
     ]
    }
   ],
   "source": [
    "with open('gutenberg/gpt2_training_gutenberg_train.txt') as f:\n",
    "    text_train = f.read()\n",
    "\n",
    "author = 'hoelderl'\n",
    "strophes_df_author = pd.DataFrame(list(zip(list(text_df_authors),list(text_df_titles),list(text_df_strophes))),columns=['author','title','strophe'])\n",
    "\n",
    "strophes_author = list(strophes_df_author[strophes_df_author.author == author].strophe)\n",
    "strophes_title = list(strophes_df_author[strophes_df_author.author == author].title)\n",
    "strophes_chosen = []\n",
    "for idx, strophe in tqdm(enumerate(strophes_author)):\n",
    "    verse_lst = strophe.strip().split('\\n')\n",
    "    found = False\n",
    "    cnt = 0\n",
    "    for verse in verse_lst:\n",
    "        if verse in text_train:\n",
    "            found = True\n",
    "            cnt += 1\n",
    "    if cnt < 4:\n",
    "        for verse in verse_lst:\n",
    "            if verse in text_train:\n",
    "                pass\n",
    "    if not found:\n",
    "        strophes_chosen.append('Titel: ' +strophes_title[idx] +'\\n\\n' + strophe)\n"
   ]
  },
  {
   "cell_type": "code",
   "execution_count": 14,
   "metadata": {},
   "outputs": [],
   "source": [
    "author_text_test = '\\n'.join(strophes_chosen)"
   ]
  },
  {
   "cell_type": "code",
   "execution_count": 16,
   "metadata": {},
   "outputs": [],
   "source": [
    "with open('no_hoel_no_train.txt', 'w') as f:\n",
    "    f.write(author_text_test)"
   ]
  },
  {
   "cell_type": "code",
   "execution_count": 6,
   "metadata": {},
   "outputs": [],
   "source": [
    "with open('gutenberg/gpt2_training_only_hoelderlin.txt') as f:\n",
    "    text_exclude = f.read()\n",
    "    \n",
    "with open('gutenberg/gpt2_training_gutenberg_test.txt') as f:\n",
    "    test_lines = f.readlines()\n",
    "\n",
    "lines_out = []\n",
    "for line in test_lines:\n",
    "    if line == '\\n':\n",
    "        lines_out.append(line)\n",
    "\n",
    "    else:\n",
    "        if not line.strip() in text_exclude:\n",
    "            lines_out.append(line)\n",
    "\n",
    "lines_out_lb = [lines_out[0]]\n",
    "for idx, line in enumerate(lines_out[1:]):\n",
    "    if not(line == '\\n' and lines_out[idx-1] == '\\n'):\n",
    "        lines_out_lb.append(line)\n",
    "\n",
    "lines_out = lines_out_lb\n",
    "\n",
    "\n"
   ]
  },
  {
   "cell_type": "code",
   "execution_count": 7,
   "metadata": {},
   "outputs": [
    {
     "data": {
      "text/plain": [
       "103003"
      ]
     },
     "execution_count": 7,
     "metadata": {},
     "output_type": "execute_result"
    }
   ],
   "source": [
    "len(lines_out)"
   ]
  },
  {
   "cell_type": "code",
   "execution_count": 8,
   "metadata": {},
   "outputs": [
    {
     "data": {
      "text/plain": [
       "107848"
      ]
     },
     "execution_count": 8,
     "metadata": {},
     "output_type": "execute_result"
    }
   ],
   "source": [
    "len(test_lines)"
   ]
  },
  {
   "cell_type": "code",
   "execution_count": 5,
   "metadata": {},
   "outputs": [],
   "source": [
    "test_text_clean = ''.join(lines_out)\n",
    "\n",
    "with open('gpt2_training_gutenberg_no_hoelderlin_test.txt', 'w') as f:\n",
    "    f.write(test_text_clean)"
   ]
  },
  {
   "cell_type": "code",
   "execution_count": 109,
   "metadata": {},
   "outputs": [],
   "source": [
    "with open('gutenberg/gpt2_training_gutenberg_train.txt') as f:\n",
    "    text_exclude = f.read()\n",
    "\n",
    "with open('gutenberg/training/gpt2_training_gutenberg_no_schiller_train.txt') as f:\n",
    "    text_2= f.read()"
   ]
  },
  {
   "cell_type": "code",
   "execution_count": 110,
   "metadata": {},
   "outputs": [
    {
     "data": {
      "text/plain": [
       "18710292"
      ]
     },
     "execution_count": 110,
     "metadata": {},
     "output_type": "execute_result"
    }
   ],
   "source": [
    "len(text_exclude)"
   ]
  },
  {
   "cell_type": "code",
   "execution_count": 111,
   "metadata": {},
   "outputs": [
    {
     "data": {
      "text/plain": [
       "18710292"
      ]
     },
     "execution_count": 111,
     "metadata": {},
     "output_type": "execute_result"
    }
   ],
   "source": [
    "len(text_2)"
   ]
  }
 ],
 "metadata": {
  "kernelspec": {
   "display_name": "pytorch",
   "language": "python",
   "name": "pt"
  },
  "language_info": {
   "codemirror_mode": {
    "name": "ipython",
    "version": 3
   },
   "file_extension": ".py",
   "mimetype": "text/x-python",
   "name": "python",
   "nbconvert_exporter": "python",
   "pygments_lexer": "ipython3",
   "version": "3.6.7"
  },
  "vscode": {
   "interpreter": {
    "hash": "fd69f43f58546b570e94fd7eba7b65e6bcc7a5bbc4eab0408017d18902915d69"
   }
  }
 },
 "nbformat": 4,
 "nbformat_minor": 2
}
