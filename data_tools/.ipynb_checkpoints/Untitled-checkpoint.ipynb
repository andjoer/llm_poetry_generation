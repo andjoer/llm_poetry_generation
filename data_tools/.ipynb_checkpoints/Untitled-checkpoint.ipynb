{
 "cells": [
  {
   "cell_type": "code",
   "execution_count": 2,
   "metadata": {},
   "outputs": [],
   "source": [
    "import requests\n",
    "from bs4 import BeautifulSoup\n",
    "import pandas as pd"
   ]
  },
  {
   "cell_type": "code",
   "execution_count": 10,
   "metadata": {},
   "outputs": [
    {
     "ename": "SyntaxError",
     "evalue": "Missing parentheses in call to 'print'. Did you mean print(\"http://www.gsmarena.com/\" + a['href'])? (<ipython-input-10-ec29df7f2a24>, line 18)",
     "output_type": "error",
     "traceback": [
      "\u001b[0;36m  File \u001b[0;32m\"<ipython-input-10-ec29df7f2a24>\"\u001b[0;36m, line \u001b[0;32m18\u001b[0m\n\u001b[0;31m    print \"http://www.gsmarena.com/\" + a['href']\u001b[0m\n\u001b[0m                                   ^\u001b[0m\n\u001b[0;31mSyntaxError\u001b[0m\u001b[0;31m:\u001b[0m Missing parentheses in call to 'print'. Did you mean print(\"http://www.gsmarena.com/\" + a['href'])?\n"
     ]
    }
   ],
   "source": [
    "title_lst = []\n",
    "vers_lst = []\n",
    "author_lst = []\n",
    "\n",
    "from string import ascii_lowercase\n",
    "url_lst = []\n",
    "for letter in ascii_lowercase:\n",
    "    url_lst.append('https://www.projekt-gutenberg.org/autoren/info/autor-'+letter+'.html')\n",
    "    \n",
    "for URL in url_lst:\n",
    "\n",
    "    page = requests.get(URL)\n",
    "    soup = BeautifulSoup(page.content, \"html.parser\")\n",
    "    results = soup.findAll('td',attrs={'class':'left'})\n",
    "    for result in results:\n",
    "        links = div.findAll('a')\n",
    "        for a in links:\n",
    "            print (a['href'])\n",
    "\n",
    "    print(results)\n"
   ]
  },
  {
   "cell_type": "code",
   "execution_count": null,
   "metadata": {},
   "outputs": [],
   "source": []
  }
 ],
 "metadata": {
  "kernelspec": {
   "display_name": "Python 3",
   "language": "python",
   "name": "python3"
  },
  "language_info": {
   "codemirror_mode": {
    "name": "ipython",
    "version": 3
   },
   "file_extension": ".py",
   "mimetype": "text/x-python",
   "name": "python",
   "nbconvert_exporter": "python",
   "pygments_lexer": "ipython3",
   "version": "3.6.7"
  }
 },
 "nbformat": 4,
 "nbformat_minor": 2
}
