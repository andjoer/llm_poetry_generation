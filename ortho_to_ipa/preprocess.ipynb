{
 "cells": [
  {
   "cell_type": "markdown",
   "metadata": {},
   "source": [
    "Preprocess the following dataset: https://www.kaggle.com/datasets/cdminix/german-ipa-pronunciation-dictionary"
   ]
  },
  {
   "cell_type": "code",
   "execution_count": 1,
   "metadata": {},
   "outputs": [],
   "source": [
    "import re\n",
    "import pandas as pd\n",
    "import re"
   ]
  },
  {
   "cell_type": "code",
   "execution_count": 2,
   "metadata": {},
   "outputs": [],
   "source": [
    "glob_fname = '/home/andreas/copyrighted_data/de_word_ipa.csv'\n",
    "MAX_LENGTH = 25"
   ]
  },
  {
   "cell_type": "code",
   "execution_count": 3,
   "metadata": {},
   "outputs": [],
   "source": [
    "def convertFile(ratio=0.85):\n",
    "\n",
    "    pattern = re.compile(\"[a-zäöüß]+\")\n",
    "    \n",
    "    df = pd.read_csv(glob_fname)\n",
    "    \n",
    "    df['words'] = df['words'].apply(lambda x : x.lower())\n",
    "    #df = df.drop(columns = ['common'])\n",
    "    \n",
    "    df['common'] = df['words'].apply(lambda x: pattern.fullmatch(x) is not None)\n",
    "    df['len'] = df['words'].apply(lambda x: len(x))\n",
    "    \n",
    "    df = df.drop(df[df.common == False].index)\n",
    "    df = df.drop(df[df.len >= MAX_LENGTH].index)\n",
    "    df = df.drop(columns = ['common'])\n",
    "    df = df.drop(columns = ['len'])\n",
    "    df = df.sample(frac=1).reset_index(drop=True)\n",
    "    \n",
    "    len_df_train = int(df.shape[0]*ratio)\n",
    "    \n",
    "    df_train = df.iloc[:len_df_train]\n",
    "    df_val = df.iloc[len_df_train:]\n",
    "    \n",
    "    df_train.to_csv('data/train.csv',index=False)\n",
    "    df_val.to_csv('data/val.csv',index=False)\n",
    "\n",
    "    return "
   ]
  },
  {
   "cell_type": "code",
   "execution_count": 4,
   "metadata": {},
   "outputs": [],
   "source": [
    "convertFile()"
   ]
  },
  {
   "cell_type": "code",
   "execution_count": null,
   "metadata": {},
   "outputs": [],
   "source": []
  }
 ],
 "metadata": {
  "kernelspec": {
   "display_name": "Python 3",
   "language": "python",
   "name": "python3"
  },
  "language_info": {
   "codemirror_mode": {
    "name": "ipython",
    "version": 3
   },
   "file_extension": ".py",
   "mimetype": "text/x-python",
   "name": "python",
   "nbconvert_exporter": "python",
   "pygments_lexer": "ipython3",
   "version": "3.6.7"
  }
 },
 "nbformat": 4,
 "nbformat_minor": 2
}
