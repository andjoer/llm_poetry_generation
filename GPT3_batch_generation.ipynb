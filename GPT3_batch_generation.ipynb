{
 "cells": [
  {
   "cell_type": "code",
   "execution_count": 1,
   "metadata": {},
   "outputs": [],
   "source": [
    "from gpt3 import gpt3\n",
    "import re"
   ]
  },
  {
   "cell_type": "code",
   "execution_count": 2,
   "metadata": {},
   "outputs": [],
   "source": [
    "input_text = 'Schreibe ein Gedicht auf Deutsch im Stil von Johann Wolfgang von Goethe!'"
   ]
  },
  {
   "cell_type": "code",
   "execution_count": 3,
   "metadata": {},
   "outputs": [],
   "source": [
    "poems = []"
   ]
  },
  {
   "cell_type": "code",
   "execution_count": 6,
   "metadata": {},
   "outputs": [
    {
     "name": "stdout",
     "output_type": "stream",
     "text": [
      "input text\n",
      "Schreibe ein Gedicht auf Deutsch im Stil von Johann Wolfgang von Goethe!\n",
      "failed to connect with api\n",
      "failed to connect with api\n",
      "failed to connect with api\n"
     ]
    }
   ],
   "source": [
    "poems += gpt3(input_text,0,max_length=500,num_return_sequences=50,stop=['#'],repetition_penalty = 0.5,top_p = 1,temperature = 0.4, block_linebreak = False,replace_linebreaks=False)"
   ]
  },
  {
   "cell_type": "code",
   "execution_count": 7,
   "metadata": {},
   "outputs": [
    {
     "data": {
      "text/plain": [
       "100"
      ]
     },
     "execution_count": 7,
     "metadata": {},
     "output_type": "execute_result"
    }
   ],
   "source": [
    "len(poems)"
   ]
  },
  {
   "cell_type": "code",
   "execution_count": 8,
   "metadata": {},
   "outputs": [
    {
     "data": {
      "text/plain": [
       "'\\n\\nDie Nacht ist kalt und dunkel,\\nDoch in meinem Herzen brennt ein Feuer.\\nIch denke an dich, mein Liebster,\\nUnd wünsche mir, dass du bei mir bist.'"
      ]
     },
     "execution_count": 8,
     "metadata": {},
     "output_type": "execute_result"
    }
   ],
   "source": [
    "poems[12]"
   ]
  },
  {
   "cell_type": "code",
   "execution_count": 9,
   "metadata": {},
   "outputs": [],
   "source": [
    "def preprocess(poem):\n",
    "    poem = re.sub(r'\\t','\\n',poem)\n",
    "    poem = re.sub(r'  ','\\n',poem)\n",
    "    poem = re.sub(r'[^A-Za-zÄÖÜäöüß,.?;! \\n]',' ',poem)\n",
    "    poem = '\\n'.join([' '.join(verse.strip().split()) for verse in poem.split('\\n') if len(verse.strip()) > 3])\n",
    "    return poem"
   ]
  },
  {
   "cell_type": "code",
   "execution_count": 10,
   "metadata": {},
   "outputs": [],
   "source": [
    "poems_processed = [preprocess(poem) for poem in poems]"
   ]
  },
  {
   "cell_type": "code",
   "execution_count": 11,
   "metadata": {},
   "outputs": [],
   "source": [
    "text = '\\n\\n'.join(poems_processed)"
   ]
  },
  {
   "cell_type": "code",
   "execution_count": 12,
   "metadata": {},
   "outputs": [
    {
     "data": {
      "text/plain": [
       "'Ich bin ein Teil der Natur,\\ndie mich umgeben.\\nIch spüre die Kraft der Erde,\\ndie in mir wohnt.\\nIch atme die Luft ein,\\ndie mich erfrischt.\\nIch höre das Rauschen des Wassers,\\ndas in mir fließt.\\nAlles ist Eins und doch sind wir viele;\\njeder für sich und doch alle zusammen.\\n\\nIch bin ein Teil der Natur,\\ndie mich umgeben.\\nIch spüre die Kraft der Erde,\\ndie mich nährt und hält.\\nIch atme die Luft ein,\\ndie mich lebendig macht.\\nUnd ich weiß, dass alles was ist,\\nzu mir gehört.\\n\\nIch bin ein Teil der Natur,\\ndie mich umgeben.\\nIch spüre die Erde unter meinen Füßen,\\nund das Gras streichelt meine Beine.\\nDer Wind weht durch mein Haar,\\nund die Vögel singen in den Bäumen.\\nIch atme die frische Luft ein,\\nund fühle mich wie ein Teil von allem.\\n\\nIch bin allein in meinem Zimmer,\\ndas Buch auf meinem Schoß.\\nIch denke an die Welt, die ich nicht kenne,\\nund an das Leben, das ich noch nicht lebe.\\n\\nDie Nacht ist kalt und dunkel,\\nDoch in meinem Herzen brennt ein Feuer.\\nIch denke an dich, mein Liebling,\\nUnd wünsche mir, dass du bei mir bist.\\n\\nWenn ich ein Vöglein wär,\\ndas zwischen himmlischen Zweigen hockt,\\nund alles was ich seh ,\\nnur Blumen und grüne Wiesen sind,\\nwie froh wär ich dann!\\n\\nIch bin ein Teil der Natur,\\ndie mich umgeben.\\nIch spüre die Kraft der Sonne,\\ndie auf meiner Haut brennt.\\nIch atme die frische Luft ein,\\ndie durch meine Lungen fließt.\\nIch höre das Rauschen des Windes,\\nder in den Bäumen weht.\\nIch fühle mich verbunden mit allem was ist,\\nund doch bin ich alleine.\\nEinsam inmitten von all der Schönheit\\naber auch getröstet von ihr.\\n\\nIch bin nur ein armes Mädchen,\\ndoch ich hab ein Herz von Gold.\\nIch liebe die Natur und alles,\\nwas sie uns schenkt.\\nBäume, Blumen und Vögel\\nsie alle sind meine Freunde.\\n\\nMögen alle deine Wünsche in Erfüllung gehen,\\nund möge das neue Jahr dir viel Glück bringen.\\nIch hoffe, dass du alles bekommst, was du dir wünschst,\\ndenn du verdienst es so sehr.\\n\\nIch bin allein in meinem Zimmer,\\ndas Licht brennt noch, es ist spät.\\nIch liege im Bett und denke nach,\\nan all die Dinge, die ich heut geseh n.\\nDie Menschen auf der Straße,\\ndie vorbei eilten in ihrer Hast.\\nKeiner von ihnen hat Zeit für mich\\nbin ich denn nur ein Nichts in dieser Welt?\\n\\nDer Mond ist aufgegangen,\\ndie Sterne scheinen hell;\\nich gehe nach Haus und lebe wohl,\\nmein Liebchen, bis morgen früh.\\n\\nIch bin ein Teil der Nacht,\\ndie über die Stadt kommt.\\nIch bin die Dunkelheit,\\ndie in jedem Herzen wohnt.\\nIch bin das Ende aller Dinge,\\ndas Licht niemals erreicht.\\n\\nDie Nacht ist kalt und dunkel,\\nDoch in meinem Herzen brennt ein Feuer.\\nIch denke an dich, mein Liebster,\\nUnd wünsche mir, dass du bei mir bist.\\n\\nIch bin ein Teil der Nacht,\\ndie über die Welt kommt.\\nIch bin die Stille,\\ndie nach dem Sturm kommt.\\nIch bin das Licht,\\ndas in der Dunkelheit leuchtet.\\n\\nWie herrlich leuchtet mir die Natur,\\nwenn ich sie betrachte in ihrer Pracht!\\nIhr Anblick erfreut mein Herz und Gemüt,\\nihr Duft erfüllt meine Lungen mit Macht.\\nIn ihrer Gegenwart fühl ich mich geborgen,\\ngetröstet von allem Leid der Welt.\\nSie ist die Quelle meines Glücks, mein Hort,\\nan dem ich Zuflucht find in jeder Not.\\n\\nIch bin ein Teil der Natur,\\ndie mich umfängt,\\nund ich fühle mich wohl darin.\\nSie ist mein Zuhause und meine Heimat,\\nund ich liebe sie so sehr.\\n\\nIch bin ein Teil der Natur,\\ndie mich umgeben.\\nIch spüre die Kraft der Erde,\\ndie in mir wohnt.\\nIch atme die Luft ein,\\ndie mich trägt.\\nUnd ich weiß, dass ich niemals alleine bin.\\n\\nIch bin ein Teil der Natur,\\ndie mich umfängt und hält.\\nSie ist mein Zuhause,\\nmeine Familie, meine Freunde.\\nWenn ich in den Wald gehe,\\nfühle ich mich frei und lebendig.\\nDie Bäume streicheln mein Gesicht,\\ndas Gras kitzelt meine Füße.\\n\\nWie herrlich leuchtet mir die Natur,\\nwenn ich sie mit Augen seh!\\nDie Welt ist voller Schönheit,\\nin der ich mich verlieren kann.\\n\\nIch bin allein in meinem Zimmer,\\ndas Licht brennt noch, und ich denke\\nWie ist es möglich, dass ich hier sitze?\\nDass alles um mich her so stille ist?\\nDass niemand da ist, der mich trösten kann?\\n\\nHeute Nacht,\\nin meinem Bett,\\ndenke ich an dich.\\nIch weiß nicht, warum,\\naber ich kann nicht anders.\\nDu bist in meinen Gedanken,\\nund ich sehne mich nach dir.\\n\\nDie Nacht ist kalt und finster,\\nDoch am Himmel leuchten die Sterne.\\nEs ist still in der Welt,\\nAls würde sie schlafen.\\nNur das Rauschen des Windes ist zu hören,\\nUnd ich bin allein.\\n\\nWie soll ich dich nur lieben,\\nwie soll ich dich nur hassen?\\nIch weiß es einfach nicht mehr,\\ndenn alles was ich fühle, ist Schmerz.\\nDu hast mich betrogen und belogen,\\nmein Herz in tausend Stücke zerbrochen.\\nDoch trotzdem kann ich dich nicht vergessen,\\ndenn du warst meine erste Liebe.\\n\\nIch bin allein in der Nacht,\\nnur das Licht der Sterne leuchtet hell.\\nEs ist so still und doch so laut,\\nals würden sie mich rufen.\\n\\nIch bin allein in meinem Zimmer,\\ndas Licht brennt hell und klar.\\nDraußen ist es dunkel und still,\\nnur das Ticken der Uhr ist zu hören.\\nIch denke an die Menschen, die ich geliebt habe,\\ndie nun nicht mehr bei mir sind.\\nSie sind tot oder weit weg von hier,\\ndoch sie leben in meiner Erinnerung.\\n\\nIch bin ein Teil der Natur,\\ndie mich umfängt und hält.\\nSie ist mein Zuhause,\\nmeine Heimat.\\nIch gehöre zu ihr,\\nund sie zu mir.\\n\\nIch bin ein Teil der Natur,\\ndie mich umgeben.\\nIch spüre die Kraft der Erde,\\ndie in mir wohnt.\\nIch atme den Duft des Waldes,\\nder mich erfüllt.\\n\\nDie Nacht ist kalt und dunkel,\\nDoch in meinem Herzen brennt ein Feuer.\\nIch denke an dich, mein Liebling,\\nUnd wünsche mir, dass du bei mir bist.\\n\\nIch bin ein Teil der Natur,\\ndie mich umgeben.\\nIch spüre die Kraft des Windes,\\ndie Bäume und das Meer.\\n\\nIch bin allein in meinem Zimmer,\\nDoch nicht einsam, denn ich träume.\\nIch sehe dich vor mir stehen,\\nUnd alles ist so wie früher.\\nWir lachen und reden miteinander,\\nAls wäre es kein Tag vergangen.\\n\\nIch bin ein Teil der Natur,\\ndie mich umfängt,\\nseit ich denken kann.\\nSie ist mein Zuhause,\\nmeine Heimat,\\nmein Leben.\\n\\nIch bin ein Teil der Natur,\\ndie mich umgeben.\\nIch spüre die Erde unter meinen Füßen,\\ndie Bäume und das Gras.\\nIch atme die Luft ein,\\ndie voller Leben ist.\\nDies ist mein Zuhause,\\nhier fühle ich mich geborgen.\\n\\nIch bin allein in meinem Zimmer,\\ndas Buch auf meinem Schoß.\\nDie Kerze flackert und ich denke\\nWie schnell doch die Zeit vergeht!\\n\\nDie Nacht ist kalt und finster,\\nDoch am Himmel leuchten die Sterne.\\nEs ist still in der Welt, doch ich hör das Rauschen des Meeres.\\nUnd ich denk an die Liebe, die unendlich scheint.\\n\\nDu bist mein Glück und meine Freude,\\nohne Dich ist alles grau und leer.\\nIch liebe Dich, was soll ich sagen,\\ndenn ohne Dich kann ich nicht sein.\\n\\nIch bin allein in meinem Zimmer,\\ndas Buch auf meinem Schoß.\\nDie Kerze flackert und ich denke,\\nwie schnell die Zeit doch vergeht.\\ndraußen vor dem Fenster liegt der Schnee,\\ndie Bäume sind kahl und still.\\nDoch in mir ist ein Feuer entfacht,\\ndas niemand löschen kann.\\n\\nIch bin ein Teil der Natur,\\ndie mich umgeben.\\nIch spüre die Kraft der Erde,\\ndie in mir wohnt.\\nIch atme den Duft des Waldes ein,\\nfühle mich lebendig und ganz.\\n\\nIch bin allein in meinem Zimmer,\\ndas Licht ist dunkel und kalt.\\nDie Stille lastet auf mir,\\nsie drückt mich nieder.\\nIch höre das Ticken der Uhr,\\nes scheint so laut in der Nacht.\\nIch denke an dich und frage mich,\\nwo bist du jetzt?\\n\\nIch bin allein in meinem Zimmer\\nNur das Ticken der Uhr ist zu hören\\nDie Wände sind weiß und kahl\\nEs gibt kein Fenster, nur eine Tür\\nDraußen ist es dunkel und kalt\\nIch bin allein in meinem Zimmer\\n\\nIch bin allein in meinem Zimmer,\\nAllein mit meinem Buch.\\nIch lese und ich träume,\\nUnd die Welt ist weit weg.\\n\\nDie Nacht ist kalt und dunkel,\\nDoch in meinem Herzen brennt ein Feuer.\\nIch denke an dich, mein Liebster,\\nUnd wünsche mir, dass du bei mir bist.\\n\\nWie soll ich dich nur lieben,\\nwenn du nicht willst?\\nIch kann es nicht erzwingen,\\ndass du mich liebst.\\n\\nIch bin ein Teil der Natur,\\ndie mich umgeben.\\nIch spüre die Erde unter meinen Füßen,\\nsehe die Bäume und den Himmel über mir.\\nIch atme die Luft ein,\\ndie mich umhüllt wie ein Mantel.\\nDies ist meine Heimat,\\nmein Zuhause.\\n\\nBin ich nur ein Traum?\\nIst dies alles nur ein Spiel?\\nLeben wir in einer Fantasie?\\nOder ist es die Realität?\\n\\nIch bin ein Teil der Natur,\\ndie mich umgeben.\\nIch spüre die Kraft des Windes,\\nder durch die Bäume weht.\\nIch höre das Rauschen des Wassers,\\ndas in den Flüssen fließt.\\nIch sehe die Schönheit der Blumen,\\ndie in dem Feld blühen.\\nAll dies ist ein Teil von mir,\\nund ich bin ein Teil von ihnen.\\n\\nIch bin allein in diesem Haus,\\ndas einst so voller Leben war.\\nJetzt ist es still und dunkel,\\nnur das Ticken der Uhr ist zu hören.\\nDie Räume sind leer und kalt,\\nkein Lachen mehr an den Wänden.\\nNur noch Erinnerungen bleiben,\\nan die Zeit, als wir noch glücklich waren.\\n\\nDer Mond ist aufgegangen,\\ndie Sterne scheinen so klar.\\nIch denke an dich und bin traurig,\\ndass wir uns nicht sehen können.\\n\\nWie soll ich dich nur lieben,\\nwenn du mich nicht liebst?\\nIch weiß es nicht, aber ich will es versuchen.\\nIch bin bereit, alles zu riskieren.\\nNur um deine Liebe zu gewinnen.\\n\\nDie Nacht ist kalt und dunkel,\\nDoch in meinem Herzen brennt ein Feuer.\\nIch denke an dich, mein Liebling,\\nUnd hoffe, dass du bald bei mir bist.\\n\\nIch bin ein Teil der Natur,\\ndie mich umfängt und hält.\\nIhr Atem ist mein Atem,\\nihr Herzschlag ist mein Herzschlag.\\nWir sind eins in dieser Welt,\\neine Einheit, die niemand trennen kann.\\n\\nIch bin allein in meinem Zimmer,\\ndas Buch auf meinem Schoß.\\nDie Kerze flackert und ich denke\\nWie schnell doch die Zeit vergeht!\\n\\nIch bin ein Teil der Natur,\\ndie mich umgeben.\\nIch spüre die Erde unter meinen Füßen,\\nund das Gras streichelt meine Beine.\\nDer Wind weht durch mein Haar,\\nund die Vögel singen in den Bäumen.\\nIch atme die frische Luft ein,\\nfühle mich wie ein Teil dieser Welt.\\n\\nNacht ist s, und finster die Gasse,\\nUnd kalt der Wind mir um die Nase.\\nDoch ob s stürmt oder schneit,\\nIch denke an dich allezeit.\\n\\nIch bin allein in meinem Zimmer,\\ndas Licht brennt hell und klar.\\nIch sitze hier und denke nach,\\nwie es weitergehen soll.\\nDie Zukunft ist ungewiss,\\ndoch ich muss sie meistern.\\n\\nWie herrlich leuchtet mir die Natur,\\nwenn ich sie mit frischem Sinn betrachte!\\nIhr Anblick ist wie ein himmlischer Traum,\\nder mich in seinen Bann zu ziehen vermag.\\n\\nIch bin allein in meinem Zimmer\\nNur das Ticken der Uhr ist zu hören\\nDie Stille lastet auf mir wie ein Stein\\nIch denke an die vielen Menschen\\nDie heute Abend nicht allein sind\\nUnd frage mich, was sie wohl tun\\nSind sie bei Freunden und Familie?\\nOder tanzen sie in einem Club?\\nDoch dann sehe ich dich vor mir\\nDeine Augen leuchten wie Sterne\\nUnd all meine Sorgen verschwinden\\nDenn solange du bei mir bist,\\nKann nichts mich jemals verletzen\\n\\nDie Nacht ist kalt und dunkel,\\nDoch in meinem Herzen brennt ein Funke.\\nDer Mond scheint hell auf mich herab,\\nUnd ich denke an dich, mein Lieb.\\n\\nIch bin ein Teil der Natur,\\ndie mich umgeben.\\nIch spüre die Kraft der Erde,\\ndie in mir wohnt.\\nIch atme die Luft ein,\\ndie mich trägt.\\nUnd ich weiß, dass ich niemals alleine bin.\\n\\nWenn ich in deine Augen seh ,\\ndann weiß ich, was ich will.\\nIch will mit dir zusammen sein,\\nbis ans Ende meiner Tage.\\n\\nWenn ich ein Vöglein wär,\\nflüge ich weit, weit fort.\\nNach Amerika oder China,\\negal woher die Winde blasen.\\nDoch leider bin ich kein Vöglein,\\nund kann nur träumen von der Freiheit.\\n\\nIch bin allein in meinem Zimmer,\\nNur das Ticken der Uhr ist zu hören.\\nDie Wände sind weiß und kahl,\\nUnd ich sitze hier ganz allein.\\n\\nWanderers Nachtlied\\nÜber allen Gipfeln ist Ruh,\\nIn allen Wipfeln spürest du\\nKaum einen Hauch; die Vögel ruhn\\nWarte nur, bald ruhst auch du.\\n\\nIch bin ein Teil der Natur,\\ndie mich umgeben.\\nIch spüre die Erde unter meinen Füßen,\\nund das Gras streichelt meine Beine.\\nDer Wind weht durch mein Haar,\\nwährend die Vögel singen.\\nIch atme die frische Luft ein,\\nfühle mich wie eins mit allem.\\n\\nWanderers Nachtlied\\nÜber allen Gipfeln ist Ruh,\\nIn allen Wipfeln spürest du\\nKaum einen Hauch; die Vögel ruhn\\nAlles ist still.\\n\\nWenn ich dich sehe,\\ndann weiß ich es ist Liebe.\\nIch spüre, wie sie mich durchströmt,\\nwie sie mich erfüllt.\\nLiebe ist alles, was ich brauche\\nohne sie bin ich nicht lebendig.\\n\\nWie herrlich leuchtet mir die Natur,\\nIn all ihrer Pracht und Herrlichkeit!\\nIch fühle mich so wohl in ihr,\\nAls wäre sie mein eigenes Zuhause.\\n\\nWandrers Nachtlied\\nÜber allen Gipfeln ist Ruh,\\nIn allen Wipfeln spürest du\\nKaum einen Hauch; die Vögel ruhn Wittern im Traum. Sind deine Schritte auch getan? Dann ruh auch du! In Friedenslicht getaucht, das uns vom Himmel lacht.\\n\\nBin ich nur ein Traum?\\nIst dies alles nur ein Spiel?\\nWelche Rolle spiele ich hier?\\nIch weiß es nicht genau.\\nDoch was ich weiß, ist, dass ich dich liebe.\\nDass ich dir mein Herz gegeben habe.\\nUnd wenn du mich auch verlassen solltest,\\nwird meine Liebe für dich ewig bestehen.\\n\\nWie herrlich leuchtet mir die Natur,\\nwenn ich sie mit Augen seh!\\nIhr Anblick ist wie ein Traum,\\nund doch ist alles wirklich.\\nDie Bäume, die Blumen und das Gras\\nsie alle sind so schön!\\nUnd der Himmel über mir ist so weit,\\nso unendlich weit.\\n\\nIch bin allein in meinem Zimmer,\\ndas Buch auf meinem Schoß.\\nEs ist so still im Raum,\\nnur das Ticken der Uhr ertönt.\\nIch denke an dich und deine Augen,\\ndie mich so sanft ansehen.\\nWie gern wär ich jetzt bei dir!\\n\\nIch bin ein Teil der Natur,\\ndie mich umgeben.\\nIch spüre die Erde unter meinen Füßen,\\nund das Gras streichelt meine Beine.\\nDer Wind weht durch mein Haar,\\nund die Vögel singen in den Bäumen.\\nIch atme die frische Luft ein,\\nfühle mich wie ein Teil dieser Welt.\\n\\nIch bin ein Teil der Natur,\\ndie mich umfängt und hält.\\nSie ist mein Zuhause,\\nmein Rückzugsort,\\nmeine Kraftquelle.\\n\\nDie Nacht ist kalt und finster,\\nDoch am Himmel leuchten die Sterne.\\nEs ist still in der Welt, doch ich höre das Meer.\\n\\nBist du nicht willig, so brauch ich Gewalt.\\nDu sollst mein Leben sein, und nicht ein Teil davon.\\nIch bin der Meister, und du bist mein Sklave.\\nTu, was ich sage, oder ich werde dich strafen.\\n\\nIch bin ein Teil der Natur,\\ndie mich umfängt und hält.\\nIch spüre ihre Kräfte,\\ndie in mir wirken und walten.\\nSie ist meine Mutter, mein Vater, mein Freund;\\nohne sie könnt ich nicht sein.\\n\\nDer Mond ist aufgegangen,\\ndie Sterne scheinen hell;\\nich geh in meinem Garten,\\nmir ist so wunderbar.\\n\\nIhr naht euch wieder, schwankende Gestalten,\\ndie früh sich einst dem trüben Blick gezeigt.\\nVerschleiert und duftend naht ihr mir entgegen\\nund redet von der Nacht und ihren Geheimnissen.\\nEin Zauber hüllt euch ein, den ich nicht lösen kann,\\ndoch allzu gern möcht ich mit euch gehen.\\n\\nWie soll ich dich nur lieben,\\nwenn du mich nicht liebst?\\nIch weiß nicht, wie ich es tun soll,\\ndenn all meine Liebe ist für dich.\\nDoch was kann ich tun, wenn du mich nicht willst?\\nIch kann dir nur sagen Ich liebe dich!\\n\\nIch bin allein in meinem Zimmer,\\ndas Feuer im Kamin ist klein.\\nDie Kerze auf dem Tisch flackert,\\nihr Licht erhellt die Dunkelheit.\\nEs ist still in dieser Nacht,\\ndie Stille dringt bis in mein Herz.\\nIch denke an dich und frage mich\\nWarum bist du nicht bei mir?\\n\\nDie Nacht ist kalt und dunkel,\\nDoch in meinem Herzen brennt ein Feuer.\\nIch denke an dich, mein Liebling,\\nUnd wünsche mir, dass du bei mir bist.\\n\\nIch bin allein in meinem Zimmer,\\nnur das Ticken der Uhr ist zu hören.\\nDie Wände sind weiß und kahl,\\nkein Bild hängt an ihnen.\\nDraußen ist es dunkel und still,\\ndie Nacht hat begonnen.\\n\\nWenn ich ein Vöglein wär,\\ndas zwischen Blumen hüpft,\\nund den ganzen Tag nur singt,\\nwie froh und glücklich wär ich dann!\\n\\nDie Sonne scheint,\\nder Himmel ist blau,\\ndie Vögel singen,\\nalles ist gut.\\nDie Bäume grünen,\\ndie Blumen blühen,\\nalles ist schön.\\nDie Welt ist in Ordnung,\\nes gibt kein Leid.\\n\\nIch bin allein in dieser Nacht,\\ndas Feuer brennt niedrig und ich denke an Dich.\\nDein Gesicht, Deine Stimme sind mir so nah,\\nund doch so fern. Wie kann das sein?\\nIch weiß es nicht, aber ich fühle mich leer.\\nOhne Dich ist alles anders hier.\\n\\nWenn ich in deine Augen seh,\\ndann weiß ich, was ich will.\\nIch will mit dir zusammen sein,\\nbis ans Ende meiner Tage.\\n\\nIch bin allein in meinem Zimmer,\\ndas Buch auf meinem Schoß.\\nDie Kerze flackert, die Nacht ist still\\nund doch fühle ich mich nicht allein.\\nDenn wenn ich an dich denke, bist du bei mir\\nganz nah bei mir.\\n\\nIch bin ein Teil der Natur,\\ndie mich umgeben.\\nIch spüre die Kraft der Erde,\\ndie in mir wohnt.\\nIch atme die Luft ein,\\ndie mich trägt.\\nUnd ich weiß\\nAlles ist mit allem verbunden.\\n\\nIch bin allein in meinem Zimmer,\\nnur das Ticken der Uhr ist zu hören.\\nDie Wände sind kahl und grau,\\nkein Fenster lässt Licht herein.\\nAuf dem Tisch liegt ein Buch,\\ndaneben eine Kerze brennt.\\nDoch die Flamme flackert nur noch schwach,\\nbald wird sie erlöschen.\\n\\nIch bin ein Teil der Natur,\\ndie mich umgeben.\\nIch spüre die Kraft des Windes,\\ndie sanfte Berührung der Blätter.\\nIch atme die frische Luft ein,\\nund fühle mich wie neu geboren.\\n\\nWenn ich in deine Augen sehe,\\ndann weiß ich, was ich will.\\nIch will mit dir zusammen sein,\\nfür immer und ewig.\\n\\nWie soll ich dich nur lieben,\\nwenn du mich nicht liebst?\\nIch weiß es nicht, aber ich will es versuchen.\\nVielleicht gelingt es mir ja, wenn ich mich selbst verliebe.\\n\\nIch bin ein Teil der Nacht,\\ndie über die Welt kommt.\\nIch bin die Stille,\\ndie nach dem Sturm kommt.\\nIch bin das Licht,\\ndas in der Dunkelheit leuchtet.\\nIch bin die Hoffnung,\\nhope noun feminine gender\\nalso to hope verb infinitive form\\nalso hopeful adjective masculine gender\\nalso hopefully adverb\\nhttps www.canoo.net services Controller?action showCanonical id hopefully project de DE neo\\n\\nIch bin ein Teil der Natur,\\ndie mich umgeben.\\nIch spüre die Erde unter meinen Füßen,\\nund das Gras streichelt meine Beine.\\nDer Wind weht durch mein Haar,\\nund die Vögel singen in den Bäumen.\\nIch atme die frische Luft ein,\\nund fühle mich wie zu Hause.\\n\\nDie Nacht ist kalt und dunkel,\\nDoch in meinem Herzen brennt ein Feuer.\\nIch denke an dich, mein Liebster,\\nUnd wünsche mir, dass du bei mir bist.\\n\\nWie herrlich leuchtet mir die Natur,\\nwenn ich sie mit Augen seh!\\nIhr Anblick ist wie ein Traum,\\nder mich in seinen Bann zieht.\\n\\nIch bin ein Teil der Natur,\\ndie mich umfängt,\\nund doch fühle ich mich frei.\\nIch atme die Luft ein,\\ndie Bäume und Blumen sehen aus wie Freunde.\\nDie Vögel singen in den Bäumen,\\ndas Gras raschelt unter meinen Füßen.\\n\\nWenn ich ein Vöglein wär,\\nflög ich hin zu dir;\\nwenn ich eine Biene wär,\\nsummte ich zu dir.\\n\\nWas ist das Leben?\\nIst es nur ein Traum?\\nEin kurzes Licht,\\ndas in der Nacht erlischt?\\nOder ist es mehr?\\nMehr als wir je sehen können,\\nmehr als wir je begreifen werden.\\nlife, what is it but a dream?\\na brief light that in the night fades away.\\nOr is it more?\\nMore than we can ever see,\\nmore than we can ever understand.\\n\\nDie Nacht ist kalt und dunkel,\\nDoch in meinem Herzen brennt ein Feuer.\\nIch denke an dich, mein Liebling,\\nUnd hoffe, dass du bald bei mir bist.\\n\\nIch bin allein in der Nacht,\\nnur das Mondlicht leuchtet hell.\\nDie Bäume rauschen im Wind,\\nihre Äste berühren mich sanft.\\nIch denke an die Liebe,\\ndie unerfüllt in mir brennt.\\nAn dich, den ich nie vergessen werde,\\nbis in alle Ewigkeit.'"
      ]
     },
     "execution_count": 12,
     "metadata": {},
     "output_type": "execute_result"
    }
   ],
   "source": [
    "text"
   ]
  },
  {
   "cell_type": "code",
   "execution_count": 13,
   "metadata": {},
   "outputs": [],
   "source": [
    "with open('ai_feature_annotation/data/perplexity/evaluation_5/GPT3_goethe_davinci_2_04.txt', 'w') as f:\n",
    "    f.write(text)"
   ]
  }
 ],
 "metadata": {
  "kernelspec": {
   "display_name": "Python 3.6.7 ('tf36')",
   "language": "python",
   "name": "python3"
  },
  "language_info": {
   "codemirror_mode": {
    "name": "ipython",
    "version": 3
   },
   "file_extension": ".py",
   "mimetype": "text/x-python",
   "name": "python",
   "nbconvert_exporter": "python",
   "pygments_lexer": "ipython3",
   "version": "3.6.7"
  },
  "orig_nbformat": 4,
  "vscode": {
   "interpreter": {
    "hash": "e5ae3400ef1f554e4e93f8548b6dbb7210a84f0a63b5bda3df837b46d507e77c"
   }
  }
 },
 "nbformat": 4,
 "nbformat_minor": 2
}
