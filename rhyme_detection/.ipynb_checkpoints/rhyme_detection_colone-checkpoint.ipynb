{
 "cells": [
  {
   "cell_type": "code",
   "execution_count": 33,
   "metadata": {},
   "outputs": [],
   "source": [
    "from colone_phonetics import colone_phonetics\n",
    "import numpy as np\n",
    "import re"
   ]
  },
  {
   "cell_type": "code",
   "execution_count": 5,
   "metadata": {},
   "outputs": [
    {
     "data": {
      "text/plain": [
       "array([0, 5, 0])"
      ]
     },
     "execution_count": 5,
     "metadata": {},
     "output_type": "execute_result"
    }
   ],
   "source": [
    "colone_word_1 = np.asarray(colone_phonetics('allo'))\n",
    "\n",
    "colone_word_1"
   ]
  },
  {
   "cell_type": "code",
   "execution_count": 26,
   "metadata": {},
   "outputs": [
    {
     "name": "stdout",
     "output_type": "stream",
     "text": [
      "[4]\n",
      "[6]\n",
      "2\n",
      "[6 8]\n",
      "[6 8]\n",
      "0\n"
     ]
    },
    {
     "data": {
      "text/plain": [
       "2"
      ]
     },
     "execution_count": 26,
     "metadata": {},
     "output_type": "execute_result"
    }
   ],
   "source": [
    "def colone_cons_syllabs(word):    \n",
    "    colone = np.asarray(colone_phonetics(word))\n",
    "    idx = np.where(colone == 0)[0]\n",
    "\n",
    "    syllabs = np.split(colone,idx)\n",
    "\n",
    "    syllabs = [syllab[1:] if 0 in syllab else syllab for syllab in syllabs]\n",
    "    \n",
    "    syllabs = [syllab for syllab in syllabs if syllab.size > 0 ]\n",
    "    \n",
    "    return syllabs\n",
    "\n",
    "def compare_syllab(syllab_1, syllab_2):\n",
    "    print(syllab_1)\n",
    "    print(syllab_2)\n",
    "    if syllab_1.shape[0] > 1 and syllab_2.shape[0] >1:\n",
    "        diff = np.sum(np.absolute(syllab_1[-2:] - syllab_2[-2:]))\n",
    "    else:\n",
    "        diff = np.sum(np.absolute(syllab_1[-1:] - syllab_2[-1:]))\n",
    "    print(diff)\n",
    "    return diff\n",
    "\n",
    "def compare_two_syllabs(syllabs_1, syllabs_2):\n",
    "    \n",
    "    diff = 0\n",
    "    for i in range(2):\n",
    "        diff += compare_syllab(syllabs_1[i],syllabs_2[i])\n",
    "    return diff\n",
    "        \n",
    "        \n",
    "def get_last_two_vowels(word):\n",
    "    \n",
    "    word = re.sub('[ä]', 'a', word) \n",
    "    word = re.sub('[ö]', 'o', word) \n",
    "    word = re.sub('[ü]', 'u', word) \n",
    "    vowels = [x for x in re.split(r'[^aeiou]',word) if x]\n",
    "    \n",
    "    try: \n",
    "        vowels = vowels[-2:]\n",
    "    except: \n",
    "        pass\n",
    "    \n",
    "    return vowels\n",
    "    \n",
    "def compare_vowel_groups(vowels_1, vowels_2):\n",
    "    \n",
    "    if len(vowels_1) > 1 and len(vowels_2) > 1: \n",
    "        diff = 100\n",
    "        for i in range(2):\n",
    "            if any([letter in vowels_1[i] for letter in vowels_2[i]]):\n",
    "                diff = 0\n",
    "    return diff\n",
    "            \n",
    "    \n",
    "    \n",
    "    \n",
    "def compare_words(word_1, word_2):\n",
    "    \n",
    "    syllabs_1 = colone_cons_syllabs(word_1)\n",
    "    syllabs_2 = colone_cons_syllabs(word_2)\n",
    "\n",
    "    if len(syllabs_1) > 1 and len(syllabs_2) > 1: \n",
    "        \n",
    "        diff = compare_two_syllabs(syllabs_1[-2:],syllabs_2[-2:])\n",
    "        \n",
    "    elif len(syllabs_1) > 0 and len(syllabs_2) > 0:\n",
    "        diff = compare_syllab(syllabs_1[-1],syllabs_2[-1])\n",
    "    else: \n",
    "        diff = 100\n",
    "    \n",
    "    vowels_1 = get_last_two_vowels(word_1)\n",
    "    vowels_2 = get_last_two_vowels(word_2)\n",
    "    diff = min(compare_vowel_groups(vowels_1,vowels_2),diff)  \n",
    "    return diff\n",
    "    \n",
    "compare_words('keinz', 'meinz')\n"
   ]
  },
  {
   "cell_type": "code",
   "execution_count": 36,
   "metadata": {},
   "outputs": [
    {
     "data": {
      "text/plain": [
       "['ae', 'u']"
      ]
     },
     "execution_count": 36,
     "metadata": {},
     "output_type": "execute_result"
    }
   ],
   "source": [
    "[x for x in re.split(r'[^aeu]','aekkuo') if x]"
   ]
  },
  {
   "cell_type": "code",
   "execution_count": 41,
   "metadata": {},
   "outputs": [
    {
     "data": {
      "text/plain": [
       "False"
      ]
     },
     "execution_count": 41,
     "metadata": {},
     "output_type": "execute_result"
    }
   ],
   "source": [
    "any (x in 'cde' for x in 'abf')"
   ]
  },
  {
   "cell_type": "code",
   "execution_count": null,
   "metadata": {},
   "outputs": [],
   "source": []
  }
 ],
 "metadata": {
  "kernelspec": {
   "display_name": "Python 3",
   "language": "python",
   "name": "python3"
  },
  "language_info": {
   "codemirror_mode": {
    "name": "ipython",
    "version": 3
   },
   "file_extension": ".py",
   "mimetype": "text/x-python",
   "name": "python",
   "nbconvert_exporter": "python",
   "pygments_lexer": "ipython3",
   "version": "3.6.7"
  }
 },
 "nbformat": 4,
 "nbformat_minor": 2
}
