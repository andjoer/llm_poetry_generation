{
 "cells": [
  {
   "cell_type": "code",
   "execution_count": 106,
   "metadata": {},
   "outputs": [],
   "source": [
    "import pandas as pd\n",
    "import os\n",
    "import numpy as np\n",
    "from word_spectral import wordspectrum\n",
    "from utils import check_rhyme\n",
    "import tqdm.notebook"
   ]
  },
  {
   "cell_type": "code",
   "execution_count": 107,
   "metadata": {},
   "outputs": [],
   "source": [
    "verse_endings = ['wonne','er','maiensonne','spiegelmeer']\n",
    "\n",
    "spec_list = [wordspectrum(word) for word in verse_endings]"
   ]
  },
  {
   "cell_type": "code",
   "execution_count": 108,
   "metadata": {},
   "outputs": [],
   "source": [
    "dst_lst = []\n",
    "for cnt, spec_1 in enumerate(spec_list):\n",
    "    dst_lst_int = [0]*(cnt+1)\n",
    "    for spec_2 in spec_list[cnt+1:]:\n",
    "            mean, _ = check_rhyme(spec_1,spec_2,\n",
    "                                                features = 'mfccs',\n",
    "                                                order=0,\n",
    "                                                length = 14, \n",
    "                                                cut_off = 1,\n",
    "                                                min_matches=9,\n",
    "                                                pool=0)\n",
    "            dst_lst_int.append(mean)\n",
    "    dst_lst.append(dst_lst_int)\n",
    "dst_mat = np.asarray(dst_lst)  \n",
    "dst_mat = np.maximum(np.rot90(np.fliplr(dst_mat)),dst_mat)\n",
    "np.fill_diagonal(dst_mat,100)"
   ]
  },
  {
   "cell_type": "code",
   "execution_count": 109,
   "metadata": {},
   "outputs": [
    {
     "data": {
      "text/plain": [
       "array([[100.        ,  16.21182908,   7.95566135,  11.5194789 ],\n",
       "       [ 16.21182908, 100.        ,  15.58171611,  11.25284704],\n",
       "       [  7.95566135,  15.58171611, 100.        ,  12.10266013],\n",
       "       [ 11.5194789 ,  11.25284704,  12.10266013, 100.        ]])"
      ]
     },
     "execution_count": 109,
     "metadata": {},
     "output_type": "execute_result"
    }
   ],
   "source": [
    "dst_mat"
   ]
  },
  {
   "cell_type": "code",
   "execution_count": 123,
   "metadata": {},
   "outputs": [
    {
     "name": "stdout",
     "output_type": "stream",
     "text": [
      "[3, 1]\n"
     ]
    }
   ],
   "source": [
    "thresh = 10\n",
    "thresh_max = 14\n",
    "\n",
    "minima = np.amin(dst_mat,axis=1)\n",
    "min_idx = np.argmin(dst_mat, axis=1)\n",
    "\n",
    "matches = []\n",
    "for i in range (len(minima)):\n",
    "    if minima[i] < thresh:\n",
    "        matches.append([i,min_idx[i]])\n",
    "        \n",
    "matched_elem = list(set([item for sublist in matches for item in sublist]))\n",
    "\n",
    "if len(minima) - len(matched_elem)> 1:\n",
    "    dst_mat_2 = np.copy(dst_mat)\n",
    "    dst_mat_2[matched_elem,:] = 100\n",
    "    dst_mat_2[:,matched_elem] = 100\n",
    "    \n",
    "    min_idx_left = [x for x in min_idx if x not in matched_elem]\n",
    "    print(min_idx_left)\n",
    "    minima = np.amin(dst_mat_2,axis=1)\n",
    "    min_idx = np.argmin(dst_mat_2, axis=1)\n",
    "    \n",
    "    for i in min_idx_left:\n",
    "\n",
    "        if minima[i] < thresh_max:\n",
    "            matches.append([i,min_idx[i]])\n",
    "           "
   ]
  },
  {
   "cell_type": "code",
   "execution_count": 124,
   "metadata": {},
   "outputs": [
    {
     "data": {
      "text/plain": [
       "[[0, 2], [2, 0], [3, 1], [1, 3]]"
      ]
     },
     "execution_count": 124,
     "metadata": {},
     "output_type": "execute_result"
    }
   ],
   "source": [
    "matches"
   ]
  },
  {
   "cell_type": "code",
   "execution_count": 67,
   "metadata": {},
   "outputs": [
    {
     "data": {
      "text/plain": [
       "[0, 2]"
      ]
     },
     "execution_count": 67,
     "metadata": {},
     "output_type": "execute_result"
    }
   ],
   "source": [
    "list(set([item for sublist in matches for item in sublist]))"
   ]
  },
  {
   "cell_type": "code",
   "execution_count": 72,
   "metadata": {},
   "outputs": [
    {
     "name": "stdout",
     "output_type": "stream",
     "text": [
      "None\n"
     ]
    }
   ],
   "source": [
    "print([0,1,2,3].remove(2))"
   ]
  },
  {
   "cell_type": "code",
   "execution_count": 73,
   "metadata": {},
   "outputs": [
    {
     "data": {
      "text/plain": [
       "[0, 3]"
      ]
     },
     "execution_count": 73,
     "metadata": {},
     "output_type": "execute_result"
    }
   ],
   "source": [
    "[x for x in [0,1,2,3] if x not in [1,2]]"
   ]
  },
  {
   "cell_type": "code",
   "execution_count": 111,
   "metadata": {},
   "outputs": [],
   "source": [
    "dst_mat_2 = np.copy(dst_mat)\n",
    "\n",
    "dst_mat_2[matched_elem,:] = 100\n",
    "dst_mat_2[:,matched_elem] = 100"
   ]
  },
  {
   "cell_type": "code",
   "execution_count": 112,
   "metadata": {},
   "outputs": [
    {
     "data": {
      "text/plain": [
       "array([[100.        ,  16.21182908,   7.95566135,  11.5194789 ],\n",
       "       [ 16.21182908, 100.        ,  15.58171611,  11.25284704],\n",
       "       [  7.95566135,  15.58171611, 100.        ,  12.10266013],\n",
       "       [ 11.5194789 ,  11.25284704,  12.10266013, 100.        ]])"
      ]
     },
     "execution_count": 112,
     "metadata": {},
     "output_type": "execute_result"
    }
   ],
   "source": [
    "dst_mat"
   ]
  },
  {
   "cell_type": "code",
   "execution_count": 113,
   "metadata": {},
   "outputs": [
    {
     "data": {
      "text/plain": [
       "array([[100.        , 100.        , 100.        , 100.        ],\n",
       "       [100.        , 100.        , 100.        ,  11.25284704],\n",
       "       [100.        , 100.        , 100.        , 100.        ],\n",
       "       [100.        ,  11.25284704, 100.        , 100.        ]])"
      ]
     },
     "execution_count": 113,
     "metadata": {},
     "output_type": "execute_result"
    }
   ],
   "source": [
    "dst_mat_2"
   ]
  },
  {
   "cell_type": "code",
   "execution_count": null,
   "metadata": {},
   "outputs": [],
   "source": []
  }
 ],
 "metadata": {
  "kernelspec": {
   "display_name": "Python 3",
   "language": "python",
   "name": "python3"
  },
  "language_info": {
   "codemirror_mode": {
    "name": "ipython",
    "version": 3
   },
   "file_extension": ".py",
   "mimetype": "text/x-python",
   "name": "python",
   "nbconvert_exporter": "python",
   "pygments_lexer": "ipython3",
   "version": "3.6.7"
  }
 },
 "nbformat": 4,
 "nbformat_minor": 2
}
