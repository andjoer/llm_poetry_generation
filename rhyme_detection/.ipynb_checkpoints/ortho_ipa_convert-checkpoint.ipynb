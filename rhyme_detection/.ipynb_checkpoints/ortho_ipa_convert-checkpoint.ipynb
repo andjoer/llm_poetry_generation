{
 "cells": [
  {
   "cell_type": "code",
   "execution_count": 1,
   "metadata": {},
   "outputs": [],
   "source": [
    "import pandas as pd\n",
    "import re\n",
    "\n",
    "import compound_splitter as comp_split"
   ]
  },
  {
   "cell_type": "code",
   "execution_count": 57,
   "metadata": {},
   "outputs": [
    {
     "data": {
      "text/html": [
       "<div>\n",
       "<style scoped>\n",
       "    .dataframe tbody tr th:only-of-type {\n",
       "        vertical-align: middle;\n",
       "    }\n",
       "\n",
       "    .dataframe tbody tr th {\n",
       "        vertical-align: top;\n",
       "    }\n",
       "\n",
       "    .dataframe thead th {\n",
       "        text-align: right;\n",
       "    }\n",
       "</style>\n",
       "<table border=\"1\" class=\"dataframe\">\n",
       "  <thead>\n",
       "    <tr style=\"text-align: right;\">\n",
       "      <th></th>\n",
       "      <th>words</th>\n",
       "      <th>ipa</th>\n",
       "      <th>common</th>\n",
       "    </tr>\n",
       "  </thead>\n",
       "  <tbody>\n",
       "    <tr>\n",
       "      <th>0</th>\n",
       "      <td>hallo</td>\n",
       "      <td>haˈloː</td>\n",
       "      <td>True</td>\n",
       "    </tr>\n",
       "    <tr>\n",
       "      <th>1</th>\n",
       "      <td>subregnum</td>\n",
       "      <td>zʊpˈʁeːɡnʊm</td>\n",
       "      <td>True</td>\n",
       "    </tr>\n",
       "    <tr>\n",
       "      <th>2</th>\n",
       "      <td>subdivisio</td>\n",
       "      <td>zʊpdiˈviːzi̯o</td>\n",
       "      <td>True</td>\n",
       "    </tr>\n",
       "    <tr>\n",
       "      <th>3</th>\n",
       "      <td>phylum</td>\n",
       "      <td>ˈfyːlʊm</td>\n",
       "      <td>True</td>\n",
       "    </tr>\n",
       "    <tr>\n",
       "      <th>4</th>\n",
       "      <td>superphylum</td>\n",
       "      <td>ˌzupɐˈfyːlʊm</td>\n",
       "      <td>True</td>\n",
       "    </tr>\n",
       "    <tr>\n",
       "      <th>...</th>\n",
       "      <td>...</td>\n",
       "      <td>...</td>\n",
       "      <td>...</td>\n",
       "    </tr>\n",
       "    <tr>\n",
       "      <th>364900</th>\n",
       "      <td>kampfunfähigen</td>\n",
       "      <td>ˈkamp͡fʔʊnˌfɛːɪɡn̩</td>\n",
       "      <td>True</td>\n",
       "    </tr>\n",
       "    <tr>\n",
       "      <th>364901</th>\n",
       "      <td>kampfunfähigem</td>\n",
       "      <td>ˈkamp͡fʔʊnˌfɛːɪɡəm</td>\n",
       "      <td>True</td>\n",
       "    </tr>\n",
       "    <tr>\n",
       "      <th>364902</th>\n",
       "      <td>tageskilometer</td>\n",
       "      <td>ˈtaːɡəskiloˌmeːtɐ</td>\n",
       "      <td>True</td>\n",
       "    </tr>\n",
       "    <tr>\n",
       "      <th>364903</th>\n",
       "      <td>tageskilometers</td>\n",
       "      <td>ˈtaːɡəskiloˌmeːtɐs</td>\n",
       "      <td>True</td>\n",
       "    </tr>\n",
       "    <tr>\n",
       "      <th>364904</th>\n",
       "      <td>tageskilometern</td>\n",
       "      <td>ˈtaːɡəskiloˌmeːtɐn</td>\n",
       "      <td>True</td>\n",
       "    </tr>\n",
       "  </tbody>\n",
       "</table>\n",
       "<p>364905 rows × 3 columns</p>\n",
       "</div>"
      ],
      "text/plain": [
       "                  words                 ipa  common\n",
       "0                 hallo              haˈloː    True\n",
       "1             subregnum         zʊpˈʁeːɡnʊm    True\n",
       "2            subdivisio       zʊpdiˈviːzi̯o    True\n",
       "3                phylum             ˈfyːlʊm    True\n",
       "4           superphylum        ˌzupɐˈfyːlʊm    True\n",
       "...                 ...                 ...     ...\n",
       "364900   kampfunfähigen  ˈkamp͡fʔʊnˌfɛːɪɡn̩    True\n",
       "364901   kampfunfähigem  ˈkamp͡fʔʊnˌfɛːɪɡəm    True\n",
       "364902   tageskilometer   ˈtaːɡəskiloˌmeːtɐ    True\n",
       "364903  tageskilometers  ˈtaːɡəskiloˌmeːtɐs    True\n",
       "364904  tageskilometern  ˈtaːɡəskiloˌmeːtɐn    True\n",
       "\n",
       "[364905 rows x 3 columns]"
      ]
     },
     "execution_count": 57,
     "metadata": {},
     "output_type": "execute_result"
    }
   ],
   "source": [
    "ipa_df = pd.read_csv('data/de_word_ipa.csv')\n",
    "\n",
    "ipa_df['words'] = ipa_df['words'].str.lower()\n",
    "ipa_df"
   ]
  },
  {
   "cell_type": "code",
   "execution_count": 71,
   "metadata": {},
   "outputs": [
    {
     "data": {
      "text/plain": [
       "'p͡feːɐ̯t'"
      ]
     },
     "execution_count": 71,
     "metadata": {},
     "output_type": "execute_result"
    }
   ],
   "source": [
    "def ipa_from_word(word):\n",
    "    return ipa_df.loc[ipa_df['words'] == word]['ipa'].tolist()[0]\n",
    "\n",
    "ipa_from_word('pferd')"
   ]
  },
  {
   "cell_type": "code",
   "execution_count": 16,
   "metadata": {},
   "outputs": [
    {
     "name": "stdout",
     "output_type": "stream",
     "text": [
      "{0: 'ɪ', 1: 'ɓ', 2: 'ħ', 3: '̪', 4: 'ɹ', 5: 'ʀ', 6: 'y', 7: 'ˑ', 8: 'ʋ', 9: 'f', 10: 'θ', 11: 'ɨ', 12: 'a', 13: '͂', 14: 'ɲ', 15: 'ʁ', 16: 'ɾ', 17: 'ʌ', 18: 'ʃ', 19: 'ə', 20: 'w', 21: '<', 22: '̊', 23: 'ʰ', 24: 'd', 25: 'z', 26: 'n', 27: 'ˈ', 28: 'b', 29: 'æ', 30: 'l', 31: '̃', 32: 'ˌ', 33: 'ā', 34: 't', 35: 'ǃ', 36: 'ɑ', 37: 'ɫ', 38: 'ɬ', 39: '̥', 40: '-', 41: 'ʈ', 42: 'j', 43: 'ʂ', 44: 'œ', 45: 'u', 46: 'ɛ', 47: '…', 48: '.', 49: 'ɘ', 50: 'x', 51: 'ʔ', 52: 'ɒ', 53: 'v', 54: 'õ', 55: '˥', 56: ' ', 57: 'ɚ', 58: ',', 59: '̰', 60: 's', 61: 'ɔ', 62: '!', 63: 'ŋ', 64: 'ɐ', 65: '̩', 66: 'ʊ', 67: '‿', 68: '̚', 69: 'm', 70: 'ç', 71: 'k', 72: ')', 73: '̑', 74: 'ɣ', 75: 'ạ', 76: 'ɜ', 77: '̺', 78: 'ʏ', 79: 'ʙ', 80: 'ʒ', 81: 'ø', 82: 'ɤ', 83: 'ð', 84: 'h', 85: 'p', 86: 'o', 87: 'ɕ', 88: 'ɱ', 89: '̯', 90: 'ʎ', 91: 'r', 92: '͡', 93: '̍', 94: 'ɺ', 95: 'i', 96: 'ɡ', 97: '̆', 98: 'e', 99: '(', 100: '̝', 101: 'ː', 102: 'ʲ'}\n"
     ]
    }
   ],
   "source": [
    "ipa_list = ipa_df['ipa'].tolist()\n",
    "\n",
    "ipa_string = ''.join(ipa_list)\n",
    "\n",
    "char_list = list(ipa_string)\n",
    "\n",
    "ipa_chars = list(set(char_list))\n",
    "\n",
    "idx = range(len(ipa_chars))\n",
    "\n",
    "dict_ipa_chars = dict(zip(idx,ipa_chars))\n",
    "print(dict_ipa_chars)"
   ]
  },
  {
   "cell_type": "code",
   "execution_count": 48,
   "metadata": {},
   "outputs": [
    {
     "data": {
      "text/plain": [
       "'a|ɐ|ɑ|ɒ|æ|ɑ̃|ʌ|i|ĩ|ɨ|ɪ|ɯ|ɤ|i̯|e|ə|ɘ|ɛ|ɛ̃|ɜ|o|õ|ɵ|ø|ɞ|œ|ɶ|ɔ|ɔ̃|ɤ|ʊ|ʘ|u|ũ|ʉ|ʊ|ɪ|i|iː|ʏ|y|yː|ʊ|u|uː|i|e|ɛ|æ|ɑ|ɔ|o|u|a|aː|ɐ'"
      ]
     },
     "execution_count": 48,
     "metadata": {},
     "output_type": "execute_result"
    }
   ],
   "source": [
    "ipa_dict = {'a':'a,ɐ,ɑ,ɒ,æ,ɑ̃,ʌ',\n",
    "           'b':'b,ɓ,ʙ,β',\n",
    "           'c':'c,ç,ɕ,ɔ,ɔ̃',\n",
    "           'd':'d,ɗ,ɖ,ð,d͡z,d͡ʒ,d̠͡ʑ,ɖ͡ʐ',\n",
    "           'e':'e,ə,ɘ,ɛ,ɛ̃,ɜ',\n",
    "           'f':'f,ɸ',\n",
    "           'g':'ɡ,ɠ,ɢ,ʛ,ɣ,ɤ',\n",
    "           'h':'h,ħ,ɦ,ɧ,ʜ,ɥ',\n",
    "           'i':'i,ĩ,ɨ,ɪ,ɯ,ɤ,i̯',\n",
    "           'j':'j,ʝ,ɟ,ʄ',\n",
    "           'k':'k,k͡x',\n",
    "           'l':'l,ɫ,ɬ,ɭ,ʟ,ɮ,ʎ',\n",
    "           'm':'m,ɱ,ɯ,ɰ',\n",
    "           'n':'n,ɲ,ŋ,ɳ,ɴ',\n",
    "           'o':'o,õ,ɵ,ø,ɞ,œ,ɶ,ɔ,ɔ̃,ɤ,ʊ,ʘ',\n",
    "           'p':'p,p͡f,ɸ',\n",
    "           'q':'r,ɾ,ɺ,ɽ,ɹ,ɻ,ʀ,ʁ,r̝,ɐ',\n",
    "           'r':'r,ɾ,ɺ,ɽ,ɹ,ɻ,ʀ,ʁ,r̝,ɐ',\n",
    "           's':'s,ʂ,ʃ,s͡f,ɕ',\n",
    "           't':'t,ʈ,θ,t͡s,t͡ʃ,t̠͡ɕ,ʈ͡ʂ',\n",
    "           'u':'u,ũ,ʉ,ʊ',\n",
    "           'v':'v,v̊,ʋ,ѵ,ʌ,ɣ',\n",
    "           'w':'w,w̃,ʍ,ɰ',\n",
    "           'x':'x,χ',\n",
    "           'y':'y,ʏ,ɥ,ʎ,ɣ,ɤ',\n",
    "           'z':'z,ʑ,ʐ,ʒ,z͡v'}  \n",
    "\n",
    "\n",
    "\n",
    "plosives = 'p,⁠b⁠,p̪⁠,b̪,⁠t̼⁠⁠,d̼,⁠t̟,d̟⁠⁠⁠,⁠t̺⁠,d̺,⁠t̪⁠,⁠d̪⁠,⁠t,d⁠,⁠t̻⁠,d̻⁠,t̠⁠,⁠d̠⁠,ṭ⁠,ḍ⁠,⁠ʈ⁠,ɖ⁠,⁠c,⁠ɟ⁠,⁠k,⁠g⁠,⁠q⁠,⁠ɢ⁠,⁠ʡ,ʔ⁠'\n",
    "fricatives = 'ɸ⁠,β⁠,⁠⁠f⁠,⁠v⁠,θ⁠,⁠ð⁠,⁠s,z⁠,⁠ɬ⁠,⁠ɮ,ʃ⁠,ʒ⁠,⁠ʂ,⁠ʐ⁠,⁠ɕ,⁠ʑ⁠,⁠ç⁠,⁠ʝ⁠,⁠x,⁠ɣ,ʍ⁠,ɧ⁠,χ⁠,ʁ,ħ⁠⁠,⁠ʕ⁠,⁠ʜ⁠,⁠ʢ⁠,h⁠,ɦ,⁠s’,fʼ⁠'\n",
    "nasals = '⁠m,m̥⁠⁠,ɱ,ɱ̊⁠,⁠⁠n⁠,n̥⁠,⁠ɳ,⁠ɳ̊,ɲ⁠,ɲ̊⁠,ŋ⁠,ŋ̊⁠,ɴ⁠,⁠ɴ̥⁠,'\n",
    "liquides = 'ə,l,r'\n",
    "approximates = 'j,w'\n",
    "vowels_closed = 'ɪ,i,iː,ʏ,y,yː,ʊ,u,uː'\n",
    "vowels = 'i,e,ɛ,æ,ɑ,ɔ,o,u,a,aː,ɐ'\n",
    "\n",
    "vowels_ortho_lst = ['a','i','e','o','u']\n",
    "\n",
    "vowels_ipa_lst = []\n",
    "\n",
    "for letter in vowels_ortho_lst:\n",
    "    vowels_ipa_lst.append(ipa_dict[letter])\n",
    "\n",
    "vowels_ipa_lst.append(vowels_closed)\n",
    "vowels_ipa_lst.append(vowels)\n",
    "\n",
    "vowels_ipa = ','.join(vowels_ipa_lst)\n",
    "split_exp = re.sub(r',','|',vowels_ipa)\n",
    "\n",
    "split_exp"
   ]
  },
  {
   "cell_type": "code",
   "execution_count": 87,
   "metadata": {},
   "outputs": [
    {
     "data": {
      "text/plain": [
       "'zʊpdivizio'"
      ]
     },
     "execution_count": 87,
     "metadata": {},
     "output_type": "execute_result"
    }
   ],
   "source": [
    "ipa_dict_clean = {}\n",
    "ipa_sign_lst = []\n",
    "for key in ipa_dict:\n",
    "    sign_lst = ipa_dict_maping[key].split(',')\n",
    "    sign_lst_out = []\n",
    "    for sign in sign_lst:\n",
    "        sub_token_lst = list(sign)\n",
    "        if len(sub_token_lst) > 1 and len(sub_token_lst) < 4: \n",
    "            del sub_token_lst[1]      # it's the middle one if len = 3 and the last if len = 2\n",
    "        elif len(sub_token_lst) == 4:\n",
    "            del sub_token_lst[1:3]\n",
    "        sign_lst_out.append(''.join(sub_token_lst))\n",
    "    ipa_sign_lst.append(','.join(sign_lst_out))\n",
    "    ipa_dict_clean[key] = ','.join(sign_lst_out)\n",
    "\n",
    "ipa_signs = ','.join(ipa_sign_lst)\n",
    "\n",
    "regex_no_clean_ipa = '[^' + re.sub(r',','',ipa_signs) + ']'\n",
    "\n",
    "\n",
    "re.sub(regex_no_clean_ipa,'',string)\n"
   ]
  },
  {
   "cell_type": "code",
   "execution_count": 99,
   "metadata": {},
   "outputs": [],
   "source": [
    "ipa_df['ipa_clean'] = ipa_df['ipa'].apply(lambda x: re.sub(regex_no_clean_ipa,'',x))\n",
    "ipa_df['ortho_clean'] = ipa_df['words'].apply(lambda x: re.sub(r'(\\w)\\1*',r'\\1',x))"
   ]
  },
  {
   "cell_type": "code",
   "execution_count": 100,
   "metadata": {},
   "outputs": [
    {
     "data": {
      "text/html": [
       "<div>\n",
       "<style scoped>\n",
       "    .dataframe tbody tr th:only-of-type {\n",
       "        vertical-align: middle;\n",
       "    }\n",
       "\n",
       "    .dataframe tbody tr th {\n",
       "        vertical-align: top;\n",
       "    }\n",
       "\n",
       "    .dataframe thead th {\n",
       "        text-align: right;\n",
       "    }\n",
       "</style>\n",
       "<table border=\"1\" class=\"dataframe\">\n",
       "  <thead>\n",
       "    <tr style=\"text-align: right;\">\n",
       "      <th></th>\n",
       "      <th>words</th>\n",
       "      <th>ipa</th>\n",
       "      <th>common</th>\n",
       "      <th>ipa_clean</th>\n",
       "      <th>ortho_clean</th>\n",
       "    </tr>\n",
       "  </thead>\n",
       "  <tbody>\n",
       "    <tr>\n",
       "      <th>0</th>\n",
       "      <td>hallo</td>\n",
       "      <td>haˈloː</td>\n",
       "      <td>True</td>\n",
       "      <td>halo</td>\n",
       "      <td>halo</td>\n",
       "    </tr>\n",
       "    <tr>\n",
       "      <th>1</th>\n",
       "      <td>subregnum</td>\n",
       "      <td>zʊpˈʁeːɡnʊm</td>\n",
       "      <td>True</td>\n",
       "      <td>zʊpʁeɡnʊm</td>\n",
       "      <td>subregnum</td>\n",
       "    </tr>\n",
       "    <tr>\n",
       "      <th>2</th>\n",
       "      <td>subdivisio</td>\n",
       "      <td>zʊpdiˈviːzi̯o</td>\n",
       "      <td>True</td>\n",
       "      <td>zʊpdivizio</td>\n",
       "      <td>subdivisio</td>\n",
       "    </tr>\n",
       "    <tr>\n",
       "      <th>3</th>\n",
       "      <td>phylum</td>\n",
       "      <td>ˈfyːlʊm</td>\n",
       "      <td>True</td>\n",
       "      <td>fylʊm</td>\n",
       "      <td>phylum</td>\n",
       "    </tr>\n",
       "    <tr>\n",
       "      <th>4</th>\n",
       "      <td>superphylum</td>\n",
       "      <td>ˌzupɐˈfyːlʊm</td>\n",
       "      <td>True</td>\n",
       "      <td>zupɐfylʊm</td>\n",
       "      <td>superphylum</td>\n",
       "    </tr>\n",
       "    <tr>\n",
       "      <th>...</th>\n",
       "      <td>...</td>\n",
       "      <td>...</td>\n",
       "      <td>...</td>\n",
       "      <td>...</td>\n",
       "      <td>...</td>\n",
       "    </tr>\n",
       "    <tr>\n",
       "      <th>364900</th>\n",
       "      <td>kampfunfähigen</td>\n",
       "      <td>ˈkamp͡fʔʊnˌfɛːɪɡn̩</td>\n",
       "      <td>True</td>\n",
       "      <td>kampfʊnfɛɪɡn</td>\n",
       "      <td>kampfunfähigen</td>\n",
       "    </tr>\n",
       "    <tr>\n",
       "      <th>364901</th>\n",
       "      <td>kampfunfähigem</td>\n",
       "      <td>ˈkamp͡fʔʊnˌfɛːɪɡəm</td>\n",
       "      <td>True</td>\n",
       "      <td>kampfʊnfɛɪɡəm</td>\n",
       "      <td>kampfunfähigem</td>\n",
       "    </tr>\n",
       "    <tr>\n",
       "      <th>364902</th>\n",
       "      <td>tageskilometer</td>\n",
       "      <td>ˈtaːɡəskiloˌmeːtɐ</td>\n",
       "      <td>True</td>\n",
       "      <td>taɡəskilometɐ</td>\n",
       "      <td>tageskilometer</td>\n",
       "    </tr>\n",
       "    <tr>\n",
       "      <th>364903</th>\n",
       "      <td>tageskilometers</td>\n",
       "      <td>ˈtaːɡəskiloˌmeːtɐs</td>\n",
       "      <td>True</td>\n",
       "      <td>taɡəskilometɐs</td>\n",
       "      <td>tageskilometers</td>\n",
       "    </tr>\n",
       "    <tr>\n",
       "      <th>364904</th>\n",
       "      <td>tageskilometern</td>\n",
       "      <td>ˈtaːɡəskiloˌmeːtɐn</td>\n",
       "      <td>True</td>\n",
       "      <td>taɡəskilometɐn</td>\n",
       "      <td>tageskilometern</td>\n",
       "    </tr>\n",
       "  </tbody>\n",
       "</table>\n",
       "<p>364905 rows × 5 columns</p>\n",
       "</div>"
      ],
      "text/plain": [
       "                  words                 ipa  common       ipa_clean  \\\n",
       "0                 hallo              haˈloː    True            halo   \n",
       "1             subregnum         zʊpˈʁeːɡnʊm    True       zʊpʁeɡnʊm   \n",
       "2            subdivisio       zʊpdiˈviːzi̯o    True      zʊpdivizio   \n",
       "3                phylum             ˈfyːlʊm    True           fylʊm   \n",
       "4           superphylum        ˌzupɐˈfyːlʊm    True       zupɐfylʊm   \n",
       "...                 ...                 ...     ...             ...   \n",
       "364900   kampfunfähigen  ˈkamp͡fʔʊnˌfɛːɪɡn̩    True    kampfʊnfɛɪɡn   \n",
       "364901   kampfunfähigem  ˈkamp͡fʔʊnˌfɛːɪɡəm    True   kampfʊnfɛɪɡəm   \n",
       "364902   tageskilometer   ˈtaːɡəskiloˌmeːtɐ    True   taɡəskilometɐ   \n",
       "364903  tageskilometers  ˈtaːɡəskiloˌmeːtɐs    True  taɡəskilometɐs   \n",
       "364904  tageskilometern  ˈtaːɡəskiloˌmeːtɐn    True  taɡəskilometɐn   \n",
       "\n",
       "            ortho_clean  \n",
       "0                  halo  \n",
       "1             subregnum  \n",
       "2            subdivisio  \n",
       "3                phylum  \n",
       "4           superphylum  \n",
       "...                 ...  \n",
       "364900   kampfunfähigen  \n",
       "364901   kampfunfähigem  \n",
       "364902   tageskilometer  \n",
       "364903  tageskilometers  \n",
       "364904  tageskilometern  \n",
       "\n",
       "[364905 rows x 5 columns]"
      ]
     },
     "execution_count": 100,
     "metadata": {},
     "output_type": "execute_result"
    }
   ],
   "source": []
  },
  {
   "cell_type": "code",
   "execution_count": 101,
   "metadata": {},
   "outputs": [
    {
     "data": {
      "text/plain": [
       "5"
      ]
     },
     "execution_count": 101,
     "metadata": {},
     "output_type": "execute_result"
    }
   ],
   "source": [
    "len('hallo')"
   ]
  },
  {
   "cell_type": "code",
   "execution_count": 81,
   "metadata": {},
   "outputs": [
    {
     "data": {
      "text/plain": [
       "['ĩ']"
      ]
     },
     "execution_count": 81,
     "metadata": {},
     "output_type": "execute_result"
    }
   ],
   "source": [
    "list('ĩ')"
   ]
  },
  {
   "cell_type": "code",
   "execution_count": 35,
   "metadata": {},
   "outputs": [
    {
     "name": "stdout",
     "output_type": "stream",
     "text": [
      "GuidovanRossumistheBenevolent Dictator for LifeofPython\n"
     ]
    }
   ],
   "source": [
    "import re \n",
    "\n",
    "def multiple_replace(dict, text):     # Emmett Butler stack overvlow\n",
    "  # Create a regular expression  from the dictionary keys\n",
    "  regex = re.compile(\"(%s)\" % \"|\".join(map(re.escape, dict.keys())))\n",
    "\n",
    "  # For each match, look-up corresponding value in dictionary\n",
    "  return regex.sub(lambda mo: dict[mo.string[mo.start():mo.end()]], text) \n",
    "\n",
    "\n",
    "text = \"LarryWallisthecreatorofPerl\"\n",
    "dict = {\n",
    "    \"LarryWall\" : \"GuidovanRossum\",\n",
    "    \"creator\" : \"Benevolent Dictator for Life\",\n",
    "    \"Perl\" : \"Python\",\n",
    "  } \n",
    "\n",
    "print( multiple_replace(dict, text))"
   ]
  },
  {
   "cell_type": "code",
   "execution_count": 102,
   "metadata": {},
   "outputs": [],
   "source": [
    "from nltk.tokenize import SyllableTokenizer"
   ]
  },
  {
   "cell_type": "code",
   "execution_count": 103,
   "metadata": {},
   "outputs": [
    {
     "name": "stderr",
     "output_type": "stream",
     "text": [
      "/home/andreas/.conda/envs/tf36/lib/python3.6/site-packages/nltk/tokenize/sonority_sequencing.py:104: UserWarning: Character not defined in sonority_hierarchy, assigning as vowel: 'ä'\n",
      "  \" assigning as vowel: '{}'\".format(c)\n"
     ]
    },
    {
     "data": {
      "text/plain": [
       "['Kam', 'pfun', 'fä', 'hi', 'gen']"
      ]
     },
     "execution_count": 103,
     "metadata": {},
     "output_type": "execute_result"
    }
   ],
   "source": [
    "SSP = SyllableTokenizer()\n",
    "SSP.tokenize('Kampfunfähigen')"
   ]
  },
  {
   "cell_type": "code",
   "execution_count": 104,
   "metadata": {},
   "outputs": [
    {
     "name": "stdout",
     "output_type": "stream",
     "text": [
      "Collecting compound-word-splitter\n",
      "  Downloading compound-word-splitter-0.4.tar.gz (2.1 kB)\n",
      "  Preparing metadata (setup.py) ... \u001b[?25ldone\n",
      "\u001b[?25hBuilding wheels for collected packages: compound-word-splitter\n",
      "  Building wheel for compound-word-splitter (setup.py) ... \u001b[?25ldone\n",
      "\u001b[?25h  Created wheel for compound-word-splitter: filename=compound_word_splitter-0.4-py3-none-any.whl size=2564 sha256=24bf55cb3ca9ba08c7e8bb73008819ff6a555319f17a1a9a633642363d487499\n",
      "  Stored in directory: /home/andreas/.cache/pip/wheels/af/aa/da/17e93d15b2ffeba8434b8f04f316cbd17db755aa5fc2862c7b\n",
      "Successfully built compound-word-splitter\n",
      "Installing collected packages: compound-word-splitter\n",
      "Successfully installed compound-word-splitter-0.4\n"
     ]
    }
   ],
   "source": [
    "!pip install compound-word-splitter"
   ]
  },
  {
   "cell_type": "code",
   "execution_count": 111,
   "metadata": {},
   "outputs": [
    {
     "data": {
      "text/plain": [
       "''"
      ]
     },
     "execution_count": 111,
     "metadata": {},
     "output_type": "execute_result"
    }
   ],
   "source": [
    "import splitter\n",
    "\n",
    "splitter.split('kampfraucher')\n"
   ]
  },
  {
   "cell_type": "code",
   "execution_count": 10,
   "metadata": {},
   "outputs": [
    {
     "name": "stdout",
     "output_type": "stream",
     "text": [
      "Loading data file - data/german.dic\n",
      "Dissect compound:  tageskilometer\n",
      "SPLIT WORDS (plain): ['Tages', 'Kilo', 'Meter']\n",
      "SPLIT WORDS (post-merge): ['Tages', 'Kilo', 'Meter']\n"
     ]
    }
   ],
   "source": [
    "compound = 'tageskilometer'\n",
    "\n",
    "input_file = 'data/german.dic'\n",
    "ahocs = comp_split.read_dictionary_from_file(input_file)\n",
    "\n",
    "dissection = comp_split.dissect(compound, ahocs, make_singular=False)\n",
    "print('SPLIT WORDS (plain):', dissection)\n",
    "print('SPLIT WORDS (post-merge):', comp_split.merge_fractions(dissection))\n"
   ]
  },
  {
   "cell_type": "code",
   "execution_count": 14,
   "metadata": {},
   "outputs": [
    {
     "name": "stdout",
     "output_type": "stream",
     "text": [
      "Dissect compound:  gewesen\n",
      "SPLIT WORDS (plain): ['Gewese']\n",
      "SPLIT WORDS (post-merge): ['Gewese']\n"
     ]
    }
   ],
   "source": [
    "compound = 'gewesen'\n",
    "\n",
    "dissection = comp_split.dissect(compound, ahocs, make_singular=False)\n",
    "\n",
    "print('SPLIT WORDS (plain):', dissection)\n",
    "print('SPLIT WORDS (post-merge):', comp_split.merge_fractions(dissection))"
   ]
  },
  {
   "cell_type": "code",
   "execution_count": 127,
   "metadata": {},
   "outputs": [
    {
     "name": "stdout",
     "output_type": "stream",
     "text": [
      "data/german.dic: ISO-8859-1 with confidence 0.7107640645315636\r\n"
     ]
    }
   ],
   "source": [
    "!chardetect 'data/german.dic'"
   ]
  },
  {
   "cell_type": "code",
   "execution_count": null,
   "metadata": {},
   "outputs": [],
   "source": []
  }
 ],
 "metadata": {
  "kernelspec": {
   "display_name": "Python 3",
   "language": "python",
   "name": "python3"
  },
  "language_info": {
   "codemirror_mode": {
    "name": "ipython",
    "version": 3
   },
   "file_extension": ".py",
   "mimetype": "text/x-python",
   "name": "python",
   "nbconvert_exporter": "python",
   "pygments_lexer": "ipython3",
   "version": "3.6.7"
  }
 },
 "nbformat": 4,
 "nbformat_minor": 2
}
